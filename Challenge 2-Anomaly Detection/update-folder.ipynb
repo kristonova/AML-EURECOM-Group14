{
 "cells": [
  {
   "cell_type": "code",
   "execution_count": 13,
   "id": "cdaa4fbd",
   "metadata": {},
   "outputs": [
    {
     "name": "stdout",
     "output_type": "stream",
     "text": [
      "              original_filename  class machine_id      name\n",
      "0     normal_id_00_00000692.wav      0         00  00000692\n",
      "1     normal_id_00_00000686.wav      0         00  00000686\n",
      "2     normal_id_02_00000058.wav      0         02  00000058\n",
      "3     normal_id_02_00000070.wav      0         02  00000070\n",
      "4     normal_id_04_00000117.wav      0         04  00000117\n",
      "...                         ...    ...        ...       ...\n",
      "2365  normal_id_02_00000727.wav      0         02  00000727\n",
      "2366  normal_id_04_00000132.wav      0         04  00000132\n",
      "2367  normal_id_02_00000733.wav      0         02  00000733\n",
      "2368  normal_id_00_00000853.wav      0         00  00000853\n",
      "2369  normal_id_02_00000055.wav      0         02  00000055\n",
      "\n",
      "[2370 rows x 4 columns]\n"
     ]
    }
   ],
   "source": [
    "import os\n",
    "import pandas as pd\n",
    "\n",
    "# Define the folder path\n",
    "folder_path = \"/Users/mymac/Study Abroad/Master Computer Science EURECOM/AML/Lab/AML-EURECOM-Group14/Challenge 2-Anomaly Detection/dataset/dev_data/dev_data/slider/train\"\n",
    "\n",
    "# List all files in the folder\n",
    "file_list = [f for f in os.listdir(folder_path) if os.path.isfile(os.path.join(folder_path, f))]\n",
    "\n",
    "# Save the file list into a DataFrame\n",
    "df_dev_data_train = pd.DataFrame({\"original_filename\": file_list})\n",
    "\n",
    "# Split the filename into class, id, and name\n",
    "df_dev_data_train[\"class\"] = df_dev_data_train[\"original_filename\"].str.split(\"_\").str[0]\n",
    "df_dev_data_train[\"machine_id\"] = df_dev_data_train[\"original_filename\"].str.split(\"_\").str[2]\n",
    "df_dev_data_train[\"name\"] = df_dev_data_train[\"original_filename\"].str.split(\"_\").str[3].str.split(\".\").str[0]\n",
    "\n",
    "# Map class to 0 for normal and 1 for anomaly\n",
    "df_dev_data_train[\"class\"] = df_dev_data_train[\"class\"].map({\"normal\": 0, \"anomaly\": 1})\n",
    "\n",
    "# Display the updated DataFrame\n",
    "print(df_dev_data_train)\n",
    "\n",
    "# Save the DataFrame to a CSV file\n",
    "df_dev_data_train.to_csv(\"file_list_dev_data_train.csv\", index=False)"
   ]
  },
  {
   "cell_type": "code",
   "execution_count": 12,
   "id": "ff001ac2",
   "metadata": {},
   "outputs": [
    {
     "name": "stdout",
     "output_type": "stream",
     "text": [
      "               original_filename  class machine_id      name\n",
      "0     anomaly_id_00_00000213.wav      1         00  00000213\n",
      "1     anomaly_id_00_00000207.wav      1         00  00000207\n",
      "2      normal_id_02_00000058.wav      0         02  00000058\n",
      "3      normal_id_02_00000070.wav      0         02  00000070\n",
      "4      normal_id_02_00000064.wav      0         02  00000064\n",
      "...                          ...    ...        ...       ...\n",
      "1096  anomaly_id_00_00000222.wav      1         00  00000222\n",
      "1097  anomaly_id_00_00000236.wav      1         00  00000236\n",
      "1098   normal_id_02_00000069.wav      0         02  00000069\n",
      "1099   normal_id_02_00000041.wav      0         02  00000041\n",
      "1100   normal_id_02_00000055.wav      0         02  00000055\n",
      "\n",
      "[1101 rows x 4 columns]\n"
     ]
    }
   ],
   "source": [
    "# Define the folder path\n",
    "folder_path = \"/Users/mymac/Study Abroad/Master Computer Science EURECOM/AML/Lab/AML-EURECOM-Group14/Challenge 2-Anomaly Detection/dataset/dev_data/dev_data/slider/test\"\n",
    "\n",
    "# List all files in the folder\n",
    "file_list = [f for f in os.listdir(folder_path) if os.path.isfile(os.path.join(folder_path, f))]\n",
    "\n",
    "# Save the file list into a DataFrame\n",
    "df_dev_data_test = pd.DataFrame({\"original_filename\": file_list})\n",
    "\n",
    "# Split the filename into class, id, and name\n",
    "df_dev_data_test[\"class\"] = df_dev_data_test[\"original_filename\"].str.split(\"_\").str[0]\n",
    "df_dev_data_test[\"machine_id\"] = df_dev_data_test[\"original_filename\"].str.split(\"_\").str[2]\n",
    "df_dev_data_test[\"name\"] = df_dev_data_test[\"original_filename\"].str.split(\"_\").str[3].str.split(\".\").str[0]\n",
    "\n",
    "\n",
    "# Map class to 0 for normal and 1 for anomaly\n",
    "df_dev_data_test[\"class\"] = df_dev_data_test[\"class\"].map({\"normal\": 0, \"anomaly\": 1})\n",
    "\n",
    "# Display the updated DataFrame\n",
    "print(df_dev_data_test)\n",
    "\n",
    "#save the DataFrame to a CSV file\n",
    "df_dev_data_test.to_csv(\"file_list_dev_data_test.csv\", index=False)"
   ]
  }
 ],
 "metadata": {
  "kernelspec": {
   "display_name": "Python 3",
   "language": "python",
   "name": "python3"
  },
  "language_info": {
   "codemirror_mode": {
    "name": "ipython",
    "version": 3
   },
   "file_extension": ".py",
   "mimetype": "text/x-python",
   "name": "python",
   "nbconvert_exporter": "python",
   "pygments_lexer": "ipython3",
   "version": "3.9.6"
  }
 },
 "nbformat": 4,
 "nbformat_minor": 5
}
