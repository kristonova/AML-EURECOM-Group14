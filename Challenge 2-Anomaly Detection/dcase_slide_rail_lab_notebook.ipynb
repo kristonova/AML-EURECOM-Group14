{
 "cells": [
  {
   "cell_type": "markdown",
   "id": "6ef7886e",
   "metadata": {},
   "source": [
    "## Introduction\n",
    "This notebook delivers a fully reproducible workflow for the Slide‑Rail Acoustic‑Anomaly Detection laboratory exercise described in the AML 2025 challenge PDF. Leveraging reference implementations from the public repositories `wilkinghoff/DCASE2023_task2` and `DCASE-REPO`, it demonstrates data preparation, model training, and evaluation in a structured manner. Each subsequent section begins with a concise, three‑sentence academic exposition to clarify its methodological role."
   ]
  },
  {
   "cell_type": "markdown",
   "id": "e97fefff",
   "metadata": {},
   "source": [
    "## Environment & Dependency Setup\n",
    "This section installs the minimal set of Python libraries required for signal processing, model construction, and evaluation, ensuring version consistency with the reference GitHub repositories. Reproducibility is promoted by pinning the versions of core packages such as Librosa and PyTorch. If the environment already satisfies these dependencies, the installation commands can be safely skipped."
   ]
  },
  {
   "cell_type": "code",
   "execution_count": 38,
   "id": "4168d53f",
   "metadata": {},
   "outputs": [],
   "source": [
    "# !pip install --quiet librosa==0.10.1 torch torchvision torchaudio scikit-learn tqdm nflows==0.15.0\n",
    "import warnings, random, zipfile, subprocess, os, math, json\n",
    "from pathlib import Path\n",
    "import numpy as np\n",
    "import librosa\n",
    "import torch, torch.nn as nn\n",
    "from torch.utils.data import Dataset, DataLoader\n",
    "import torch.nn.functional as F\n",
    "from tqdm import tqdm\n",
    "import torchvision.transforms as T\n",
    "import matplotlib.pyplot as plt\n",
    "from sklearn.metrics import roc_auc_score, precision_recall_fscore_support\n",
    "warnings.filterwarnings('ignore')\n",
    "torch.manual_seed(42); np.random.seed(42)\n"
   ]
  },
  {
   "cell_type": "markdown",
   "id": "810ee4d3",
   "metadata": {},
   "source": [
    "## Data Acquisition\n",
    "Following the DCASE Task 2 protocol, the Slide‑Rail subset is retrieved from the course‑provided Kaggle dataset to guarantee alignment with the official evaluation setup. The download routine is guarded by a boolean flag to prevent redundant transfers for users who already have the data locally. All subsequent file paths are expressed relative to a configurable `DATA_DIR` variable to facilitate execution on heterogeneous platforms."
   ]
  },
  {
   "cell_type": "code",
   "execution_count": 39,
   "id": "2acf481e",
   "metadata": {},
   "outputs": [
    {
     "name": "stdout",
     "output_type": "stream",
     "text": [
      "Data directory ready: C:\\Users\\bruker\\OneDrive - NTNU\\8. semester\\AML\\AML-EURECOM-Group14\\Challenge 2-Anomaly Detection\\dataset\\dev_data\\dev_data\\slider\n"
     ]
    }
   ],
   "source": [
    "DOWNLOAD_DATA = False  # toggle to True on first run\n",
    "DATA_DIR = Path('./dataset/dev_data/dev_data/slider')\n",
    "RAW_DIR = DATA_DIR / 'raw'\n",
    "RAW_DIR.mkdir(parents=True, exist_ok=True)\n",
    "\n",
    "if DOWNLOAD_DATA:\n",
    "    kaggle_zip = 'dcase-aml-slide-rail.zip'  # replace with actual filename on Kaggle\n",
    "    if not (RAW_DIR / kaggle_zip).exists():\n",
    "        subprocess.run(['kaggle', 'datasets', 'download', '-d', 'michiard/dcase-aml', '-p', str(RAW_DIR)])\n",
    "    with zipfile.ZipFile(RAW_DIR / kaggle_zip) as zf:\n",
    "        zf.extractall(RAW_DIR)\n",
    "print('Data directory ready:', DATA_DIR.resolve())\n"
   ]
  },
  {
   "cell_type": "markdown",
   "id": "92b6b1ad",
   "metadata": {},
   "source": [
    "## Acoustic Feature Extraction\n",
    "Log‑Mel spectrograms are selected as the principal time–frequency representation owing to their perceptual relevance and widespread adoption in anomaly detection literature. A helper function converts raw waveforms into logarithmic Mel matrices, caching results on disk to expedite iterative experimentation. Parameters adhere to the official DCASE baselines (16 kHz sampling, 64 Mel bins) to assure comparability with benchmark studies."
   ]
  },
  {
   "cell_type": "code",
   "execution_count": 40,
   "id": "4013cbf2",
   "metadata": {},
   "outputs": [],
   "source": [
    "SAMPLE_RATE = 16000\n",
    "N_FFT, HOP, N_MELS = 1024, 512, 64\n",
    "\n",
    "def extract_logmel(path, cache_dir=DATA_DIR / 'features'):\n",
    "    cache_dir.mkdir(parents=True, exist_ok=True)\n",
    "    cache = cache_dir / f'{path.stem}.npy'\n",
    "    if cache.exists():\n",
    "        return np.load(cache)\n",
    "    y, sr = librosa.load(path, sr=SAMPLE_RATE, mono=True)\n",
    "    mel = librosa.feature.melspectrogram(\n",
    "        y=y, sr=sr, n_fft=N_FFT, hop_length=HOP, n_mels=N_MELS, power=2\n",
    "    )\n",
    "    logmel = librosa.power_to_db(mel).astype(np.float32)\n",
    "    np.save(cache, logmel)\n",
    "    return logmel\n"
   ]
  },
  {
   "cell_type": "markdown",
   "id": "955a6e9a",
   "metadata": {},
   "source": [
    "## PyTorch Dataset Wrapper\n",
    "To streamline loading and batching, the `SlideRailDataset` class encapsulates on‑demand feature extraction with optional augmentation hooks. Following the one‑class paradigm, only recordings labelled as normal are passed to the training split, while a held‑out subset is reserved for validation. This explicit separation mitigates information leakage and supports robust early‑stopping strategies."
   ]
  },
  {
   "cell_type": "code",
   "execution_count": 41,
   "id": "c82ed4ea",
   "metadata": {},
   "outputs": [],
   "source": [
    "class SlideRailDataset(Dataset):\n",
    "    def __init__(self, files, transform=None):\n",
    "        self.files = files\n",
    "        self.transform = transform\n",
    "    def __len__(self):\n",
    "        return len(self.files)\n",
    "    def __getitem__(self, idx):\n",
    "        feat = extract_logmel(self.files[idx])\n",
    "        if self.transform:\n",
    "            feat = self.transform(feat)\n",
    "        return torch.from_numpy(feat).unsqueeze(0), str(self.files[idx])  # ← convert to str\n",
    "\n",
    "\n",
    "\n",
    "# Replace the glob patterns with actual sub‑directory names in your dataset\n",
    "train_files = sorted((DATA_DIR/'train').rglob('*.wav'))\n",
    "val_files   = train_files[::10]\n",
    "train_files = [f for f in train_files if f not in val_files]\n",
    "\n",
    "test_files = sorted((DATA_DIR/'test').rglob('*.wav'))"
   ]
  },
  {
   "cell_type": "markdown",
   "id": "3506f727",
   "metadata": {},
   "source": [
    "## Labeling the test set"
   ]
  },
  {
   "cell_type": "code",
   "execution_count": 42,
   "id": "6de91301",
   "metadata": {},
   "outputs": [],
   "source": [
    "def label_from_filename(path):\n",
    "    name = path.name.lower()\n",
    "    if \"normal\" in name:\n",
    "        return 0\n",
    "    elif \"anomaly\" in name:\n",
    "        return 1\n",
    "    else:\n",
    "        raise ValueError(f\"Unknown label in: {path}\")\n",
    "\n",
    "test_labels = np.array([label_from_filename(f) for f in test_files])"
   ]
  },
  {
   "cell_type": "markdown",
   "id": "f63d7ba7",
   "metadata": {},
   "source": [
    "## Convolutional Auto‑Encoder (CAE) Baseline\n",
    "A lightweight CAE serves as the foundational reconstruction‑based anomaly detector, optimising mean‑squared error on normal recordings. Its convolutional encoder–decoder architecture exploits local spectral correlations while keeping parameter count modest. The validation reconstruction error distribution establishes a first‑order anomaly threshold and baseline AUC score."
   ]
  },
  {
   "cell_type": "code",
   "execution_count": 72,
   "id": "0502139a",
   "metadata": {},
   "outputs": [],
   "source": [
    "'''\n",
    "class CAE(nn.Module):\n",
    "    def __init__(self, latent_dim=128):\n",
    "        super().__init__()\n",
    "        self.enc = nn.Sequential(\n",
    "            nn.Conv2d(1, 16, 3, padding=1), nn.ReLU(), nn.MaxPool2d(2),\n",
    "            nn.Conv2d(16, 32, 3, padding=1), nn.ReLU(), nn.MaxPool2d(2),\n",
    "            nn.Conv2d(32, 64, 3, padding=1), nn.ReLU(), nn.AdaptiveAvgPool2d((1,1)),\n",
    "            nn.Flatten(), nn.Linear(64, latent_dim)\n",
    "        )\n",
    "        self.dec_fc = nn.Linear(latent_dim, 64)\n",
    "        self.dec = nn.Sequential(\n",
    "            nn.ConvTranspose2d(64, 32, 3), nn.ReLU(),\n",
    "            nn.ConvTranspose2d(32, 16, 3), nn.ReLU(),\n",
    "            nn.ConvTranspose2d(16, 1, 3)\n",
    "        )\n",
    "\n",
    "    def forward(self, x):\n",
    "        z = self.enc(x)\n",
    "        z = self.dec_fc(z).view(-1, 64, 1, 1)\n",
    "        return self.dec(z)\n",
    "''' \n",
    "\n",
    "class CAE(nn.Module):\n",
    "    def __init__(self, latent_dim=128):\n",
    "        super().__init__()\n",
    "\n",
    "        # Encoder\n",
    "        self.enc = nn.Sequential(\n",
    "            nn.Conv2d(1, 16, kernel_size=3, padding=1),  # [B, 16, 64, 313] [Batch, channels, mel bands, timeframes]\n",
    "            nn.ReLU(),\n",
    "            nn.MaxPool2d(2),                             # [B, 16, 32, 156]\n",
    "            \n",
    "            nn.Conv2d(16, 32, kernel_size=3, padding=1), # [B, 32, 32, 156]\n",
    "            nn.ReLU(),\n",
    "            nn.MaxPool2d(2),                             # [B, 32, 16, 78]\n",
    "            \n",
    "            nn.Conv2d(32, 64, kernel_size=3, padding=1), # [B, 64, 16, 78]\n",
    "            nn.ReLU(),\n",
    "            nn.MaxPool2d(2),                             # [B, 64, 8, 39]\n",
    "        )\n",
    "\n",
    "        self.enc_fc = nn.Sequential(\n",
    "            nn.Flatten(),                                # [B, 64*8*39]\n",
    "            nn.Linear(64 * 8 * 39, latent_dim)\n",
    "        )\n",
    "\n",
    "        self.dec_fc = nn.Sequential(\n",
    "            nn.Linear(latent_dim, 64 * 8 * 39),\n",
    "            nn.Unflatten(1, (64, 8, 39))                # [B, 64, 8, 39]\n",
    "        )\n",
    "\n",
    "        # Decoder\n",
    "        self.dec = nn.Sequential(\n",
    "            nn.ConvTranspose2d(64, 32, kernel_size=4, stride=2, padding=1),  # [B, 32, 16, 78]\n",
    "            nn.ReLU(),\n",
    "            nn.ConvTranspose2d(32, 16, kernel_size=4, stride=2, padding=1),  # [B, 16, 32, 156]\n",
    "            nn.ReLU(),\n",
    "            nn.ConvTranspose2d(16, 1, kernel_size=4, stride=2, padding=1),   # [B, 1, 64, 312]\n",
    "        )\n",
    "\n",
    "        # Final 1x1 conv to pad to 313\n",
    "        self.pad_to_313 = nn.ConstantPad2d((0, 1, 0, 0), 0)  # pad one column\n",
    "\n",
    "    def forward(self, x):\n",
    "        z = self.enc(x)\n",
    "        z = self.enc_fc(z)\n",
    "        z = self.dec_fc(z)\n",
    "        recon = self.dec(z)\n",
    "        recon = self.pad_to_313(recon)  # ensure final width = 313\n",
    "        return recon\n",
    "\n",
    "\n",
    "\n",
    "\n",
    "def cae_loss(model, x):\n",
    "    recon = model(x)\n",
    "    # adapt x to the shape of recon using adaptive average pooling\n",
    "    #x_resized = nn.functional.adaptive_avg_pool2d(x, recon.shape[2:])\n",
    "    return recon, F.mse_loss(recon, x)#x_resized)\n",
    "\n",
    "    \n",
    "device = torch.device('cuda' if torch.cuda.is_available() else 'cpu')\n",
    "cae = CAE(latent_dim=256).to(device)\n",
    "train_loader = DataLoader(SlideRailDataset(train_files), batch_size=16, shuffle=True)\n",
    "val_loader   = DataLoader(SlideRailDataset(val_files),   batch_size=16)\n"
   ]
  },
  {
   "cell_type": "markdown",
   "id": "5c03a135",
   "metadata": {},
   "source": [
    "## Training"
   ]
  },
  {
   "cell_type": "code",
   "execution_count": 73,
   "id": "b50c1516",
   "metadata": {},
   "outputs": [],
   "source": [
    "def train_model(model, train_loader, val_loader, criterion, model_name, epochs=25, lr=1e-3, patience=8):\n",
    "    \n",
    "    opt = torch.optim.Adam(model.parameters(), lr=lr)\n",
    "    best, stagnation = float('inf'), 0\n",
    "\n",
    "    for ep in range(epochs):\n",
    "        model.train(); tr = 0.0\n",
    "        for x, _ in train_loader:\n",
    "            x = x.to(device)\n",
    "            _, loss = criterion(model, x)\n",
    "            opt.zero_grad(); loss.backward(); opt.step()\n",
    "            tr += loss.item()*x.size(0)\n",
    "        tr /= len(train_loader.dataset)\n",
    "\n",
    "        # Evaluate model after each epoch\n",
    "        model.eval(); vl = 0.0\n",
    "        with torch.no_grad():\n",
    "            for x, _ in val_loader:\n",
    "                x = x.to(device)\n",
    "                _, loss = criterion(model, x)\n",
    "                vl += loss.item()*x.size(0)\n",
    "\n",
    "        vl /= len(val_loader.dataset)\n",
    "        print(f'Epoch {ep:2d} | Train mean MSE {tr:.4f} | Val mean MSE {vl:.4f}')\n",
    "\n",
    "        if vl < best:\n",
    "            best, stagnation = vl, 0\n",
    "            torch.save(model.state_dict(), f'best_{model_name}.pth')\n",
    "        else:\n",
    "            stagnation += 1\n",
    "            if stagnation >= patience: #Early stopping after patience is reached (no improvements)\n",
    "                print('Early stopping'); break\n",
    "    model.load_state_dict(torch.load(f'best_{model_name}.pth'))\n"
   ]
  },
  {
   "cell_type": "code",
   "execution_count": 74,
   "id": "a1808d4f",
   "metadata": {},
   "outputs": [
    {
     "name": "stdout",
     "output_type": "stream",
     "text": [
      "Epoch  0 | Train mean MSE 70.9221 | Val mean MSE 24.3498\n",
      "Epoch  1 | Train mean MSE 22.5027 | Val mean MSE 20.6939\n",
      "Epoch  2 | Train mean MSE 19.1054 | Val mean MSE 18.0754\n",
      "Epoch  3 | Train mean MSE 17.6820 | Val mean MSE 17.8923\n",
      "Epoch  4 | Train mean MSE 17.9457 | Val mean MSE 18.8320\n",
      "Epoch  5 | Train mean MSE 16.8453 | Val mean MSE 17.7188\n",
      "Epoch  6 | Train mean MSE 16.6039 | Val mean MSE 21.5321\n",
      "Epoch  7 | Train mean MSE 18.4093 | Val mean MSE 16.1551\n",
      "Epoch  8 | Train mean MSE 15.3246 | Val mean MSE 15.6245\n",
      "Epoch  9 | Train mean MSE 14.7427 | Val mean MSE 14.8399\n",
      "Epoch 10 | Train mean MSE 14.4072 | Val mean MSE 14.5723\n",
      "Epoch 11 | Train mean MSE 13.9556 | Val mean MSE 14.0014\n",
      "Epoch 12 | Train mean MSE 13.5587 | Val mean MSE 13.7819\n",
      "Epoch 13 | Train mean MSE 13.0630 | Val mean MSE 13.2747\n",
      "Epoch 14 | Train mean MSE 13.8844 | Val mean MSE 13.0731\n",
      "Epoch 15 | Train mean MSE 12.4874 | Val mean MSE 12.9117\n",
      "Epoch 16 | Train mean MSE 12.5995 | Val mean MSE 12.5299\n",
      "Epoch 17 | Train mean MSE 12.1526 | Val mean MSE 12.6110\n",
      "Epoch 18 | Train mean MSE 11.9947 | Val mean MSE 12.4020\n",
      "Epoch 19 | Train mean MSE 12.3161 | Val mean MSE 12.2900\n",
      "Epoch 20 | Train mean MSE 11.8040 | Val mean MSE 11.9986\n",
      "Epoch 21 | Train mean MSE 11.7910 | Val mean MSE 12.3126\n",
      "Epoch 22 | Train mean MSE 11.6120 | Val mean MSE 12.3260\n",
      "Epoch 23 | Train mean MSE 11.5354 | Val mean MSE 12.7559\n",
      "Epoch 24 | Train mean MSE 11.4992 | Val mean MSE 12.3857\n"
     ]
    }
   ],
   "source": [
    "train_model(cae, train_loader, val_loader, cae_loss, 'cae')"
   ]
  },
  {
   "cell_type": "markdown",
   "id": "417fdeed",
   "metadata": {},
   "source": [
    "## Variational Auto‑Encoder (VAE)\n",
    "Replacing the deterministic bottleneck with a probabilistic latent distribution, the VAE introduces a Kullback–Leibler divergence term to regularise the encoding space. Such stochasticity often enhances generalisation, contributing a 2–3 % AUC uplift on comparable anomaly‑detection benchmarks. The implementation follows a β‑VAE variant whereby the KL contribution is tempered by a tunable scalar β."
   ]
  },
  {
   "cell_type": "code",
   "execution_count": 99,
   "id": "3b75be19",
   "metadata": {},
   "outputs": [],
   "source": [
    "'''\n",
    "class VAE(CAE):\n",
    "    def __init__(self, latent_dim=64):\n",
    "        super().__init__(latent_dim)\n",
    "        # Override encoder head\n",
    "        self.enc = nn.Sequential(\n",
    "            nn.Conv2d(1, 16, 3, padding=1), nn.ReLU(), nn.MaxPool2d(2),\n",
    "            nn.Conv2d(16, 32, 3, padding=1), nn.ReLU(), nn.MaxPool2d(2),\n",
    "            nn.Conv2d(32, 64, 3, padding=1), nn.ReLU(), nn.AdaptiveAvgPool2d((1,1)),\n",
    "            nn.Flatten()\n",
    "        )\n",
    "        self.mu = nn.Linear(64, latent_dim)\n",
    "        self.logvar = nn.Linear(64, latent_dim)\n",
    "        self.dec_fc = nn.Linear(latent_dim, 64)\n",
    "\n",
    "    def forward(self, x):\n",
    "        h = self.enc(x)\n",
    "        mu, logvar = self.mu(h), self.logvar(h)\n",
    "        std = torch.exp(0.5*logvar)\n",
    "        z = mu + std * torch.randn_like(std)\n",
    "        recon = self.dec(self.dec_fc(z).view(-1, 64, 1, 1))\n",
    "        return recon, mu, logvar\n",
    "'''\n",
    "class VAE(nn.Module):\n",
    "    def __init__(self, latent_dim=64):\n",
    "        super().__init__()\n",
    "        \n",
    "        # --- Encoder ---\n",
    "        self.enc = nn.Sequential(\n",
    "            nn.Conv2d(1, 16, kernel_size=3, padding=1),  # [B, 16, 64, 313]\n",
    "            nn.ReLU(),\n",
    "            nn.MaxPool2d(2),                             # [B, 16, 32, 156]\n",
    "            \n",
    "            nn.Conv2d(16, 32, kernel_size=3, padding=1), # [B, 32, 32, 156]\n",
    "            nn.ReLU(),\n",
    "            nn.MaxPool2d(2),                             # [B, 32, 16, 78]\n",
    "            \n",
    "            nn.Conv2d(32, 64, kernel_size=3, padding=1), # [B, 64, 16, 78]\n",
    "            nn.ReLU(),\n",
    "            nn.MaxPool2d(2),                             # [B, 64, 8, 39]\n",
    "            nn.Flatten()\n",
    "        )\n",
    "\n",
    "        self.flat_dim = 64 * 8 * 39\n",
    "        self.mu = nn.Linear(self.flat_dim, latent_dim)\n",
    "        self.logvar = nn.Linear(self.flat_dim, latent_dim)\n",
    "        self.dec_fc = nn.Linear(latent_dim, self.flat_dim)\n",
    "\n",
    "        # --- Decoder ---\n",
    "        self.dec = nn.Sequential(\n",
    "            nn.ConvTranspose2d(64, 32, kernel_size=4, stride=2, padding=1),  # [B, 32, 16, 78]\n",
    "            nn.ReLU(),\n",
    "            nn.ConvTranspose2d(32, 16, kernel_size=4, stride=2, padding=1),  # [B, 16, 32, 156]\n",
    "            nn.ReLU(),\n",
    "            nn.ConvTranspose2d(16, 1, kernel_size=4, stride=2, padding=1),   # [B, 1, 64, 312]\n",
    "        )\n",
    "\n",
    "        self.pad_to_313 = nn.ConstantPad2d((0, 1, 0, 0), 0)  # Final pad to get [B, 1, 64, 313]\n",
    "\n",
    "    def forward(self, x):\n",
    "        h = self.enc(x)\n",
    "        mu, logvar = self.mu(h), self.logvar(h)\n",
    "        std = torch.exp(0.5 * logvar)\n",
    "        z = mu + std * torch.randn_like(std)\n",
    "\n",
    "        x_hat = self.dec_fc(z).view(-1, 64, 8, 39)\n",
    "        recon = self.dec(x_hat)\n",
    "        recon = self.pad_to_313(recon)\n",
    "        return recon, mu, logvar\n",
    "\n",
    "\n",
    "beta = 0.001\n",
    "vae = VAE().to(device)\n",
    "\n",
    "def vae_loss(model, x):\n",
    "    recon, mu, logvar = model(x)\n",
    "    #x_resized = nn.functional.adaptive_avg_pool2d(x, recon.shape[2:])\n",
    "    mse = nn.functional.mse_loss(recon, x, reduction='mean')\n",
    "    kld = -0.5 * torch.mean(1 + logvar - mu.pow(2) - logvar.exp())\n",
    "    return recon, mse + beta * kld\n"
   ]
  },
  {
   "cell_type": "code",
   "execution_count": 101,
   "id": "0bbc3a05",
   "metadata": {},
   "outputs": [
    {
     "name": "stdout",
     "output_type": "stream",
     "text": [
      "False\n"
     ]
    }
   ],
   "source": [
    "from pathlib import Path\n",
    "file = Path(\"dataset/dev_data/dev_data/slider/train/normal_id_04_00000245.wav\")\n",
    "print(file.exists())  # Should return True or False\n"
   ]
  },
  {
   "cell_type": "code",
   "execution_count": 100,
   "id": "204108fd",
   "metadata": {},
   "outputs": [
    {
     "ename": "FileNotFoundError",
     "evalue": "[Errno 2] No such file or directory: 'dataset\\\\dev_data\\\\dev_data\\\\slider\\\\train\\\\normal_id_04_00000245.wav'",
     "output_type": "error",
     "traceback": [
      "\u001b[1;31m---------------------------------------------------------------------------\u001b[0m",
      "\u001b[1;31mLibsndfileError\u001b[0m                           Traceback (most recent call last)",
      "File \u001b[1;32mc:\\Users\\bruker\\anaconda3\\Lib\\site-packages\\librosa\\core\\audio.py:176\u001b[0m, in \u001b[0;36mload\u001b[1;34m(path, sr, mono, offset, duration, dtype, res_type)\u001b[0m\n\u001b[0;32m    175\u001b[0m \u001b[38;5;28;01mtry\u001b[39;00m:\n\u001b[1;32m--> 176\u001b[0m     y, sr_native \u001b[38;5;241m=\u001b[39m __soundfile_load(path, offset, duration, dtype)\n\u001b[0;32m    178\u001b[0m \u001b[38;5;28;01mexcept\u001b[39;00m sf\u001b[38;5;241m.\u001b[39mSoundFileRuntimeError \u001b[38;5;28;01mas\u001b[39;00m exc:\n\u001b[0;32m    179\u001b[0m     \u001b[38;5;66;03m# If soundfile failed, try audioread instead\u001b[39;00m\n",
      "File \u001b[1;32mc:\\Users\\bruker\\anaconda3\\Lib\\site-packages\\librosa\\core\\audio.py:209\u001b[0m, in \u001b[0;36m__soundfile_load\u001b[1;34m(path, offset, duration, dtype)\u001b[0m\n\u001b[0;32m    207\u001b[0m \u001b[38;5;28;01melse\u001b[39;00m:\n\u001b[0;32m    208\u001b[0m     \u001b[38;5;66;03m# Otherwise, create the soundfile object\u001b[39;00m\n\u001b[1;32m--> 209\u001b[0m     context \u001b[38;5;241m=\u001b[39m sf\u001b[38;5;241m.\u001b[39mSoundFile(path)\n\u001b[0;32m    211\u001b[0m \u001b[38;5;28;01mwith\u001b[39;00m context \u001b[38;5;28;01mas\u001b[39;00m sf_desc:\n",
      "File \u001b[1;32mc:\\Users\\bruker\\anaconda3\\Lib\\site-packages\\soundfile.py:690\u001b[0m, in \u001b[0;36mSoundFile.__init__\u001b[1;34m(self, file, mode, samplerate, channels, subtype, endian, format, closefd, compression_level, bitrate_mode)\u001b[0m\n\u001b[0;32m    688\u001b[0m \u001b[38;5;28mself\u001b[39m\u001b[38;5;241m.\u001b[39m_info \u001b[38;5;241m=\u001b[39m _create_info_struct(file, mode, samplerate, channels,\n\u001b[0;32m    689\u001b[0m                                  \u001b[38;5;28mformat\u001b[39m, subtype, endian)\n\u001b[1;32m--> 690\u001b[0m \u001b[38;5;28mself\u001b[39m\u001b[38;5;241m.\u001b[39m_file \u001b[38;5;241m=\u001b[39m \u001b[38;5;28mself\u001b[39m\u001b[38;5;241m.\u001b[39m_open(file, mode_int, closefd)\n\u001b[0;32m    691\u001b[0m \u001b[38;5;28;01mif\u001b[39;00m \u001b[38;5;28mset\u001b[39m(mode)\u001b[38;5;241m.\u001b[39missuperset(\u001b[38;5;124m'\u001b[39m\u001b[38;5;124mr+\u001b[39m\u001b[38;5;124m'\u001b[39m) \u001b[38;5;129;01mand\u001b[39;00m \u001b[38;5;28mself\u001b[39m\u001b[38;5;241m.\u001b[39mseekable():\n\u001b[0;32m    692\u001b[0m     \u001b[38;5;66;03m# Move write position to 0 (like in Python file objects)\u001b[39;00m\n",
      "File \u001b[1;32mc:\\Users\\bruker\\anaconda3\\Lib\\site-packages\\soundfile.py:1265\u001b[0m, in \u001b[0;36mSoundFile._open\u001b[1;34m(self, file, mode_int, closefd)\u001b[0m\n\u001b[0;32m   1264\u001b[0m     err \u001b[38;5;241m=\u001b[39m _snd\u001b[38;5;241m.\u001b[39msf_error(file_ptr)\n\u001b[1;32m-> 1265\u001b[0m     \u001b[38;5;28;01mraise\u001b[39;00m LibsndfileError(err, prefix\u001b[38;5;241m=\u001b[39m\u001b[38;5;124m\"\u001b[39m\u001b[38;5;124mError opening \u001b[39m\u001b[38;5;132;01m{0!r}\u001b[39;00m\u001b[38;5;124m: \u001b[39m\u001b[38;5;124m\"\u001b[39m\u001b[38;5;241m.\u001b[39mformat(\u001b[38;5;28mself\u001b[39m\u001b[38;5;241m.\u001b[39mname))\n\u001b[0;32m   1266\u001b[0m \u001b[38;5;28;01mif\u001b[39;00m mode_int \u001b[38;5;241m==\u001b[39m _snd\u001b[38;5;241m.\u001b[39mSFM_WRITE:\n\u001b[0;32m   1267\u001b[0m     \u001b[38;5;66;03m# Due to a bug in libsndfile version <= 1.0.25, frames != 0\u001b[39;00m\n\u001b[0;32m   1268\u001b[0m     \u001b[38;5;66;03m# when opening a named pipe in SFM_WRITE mode.\u001b[39;00m\n\u001b[0;32m   1269\u001b[0m     \u001b[38;5;66;03m# See http://github.com/erikd/libsndfile/issues/77.\u001b[39;00m\n",
      "\u001b[1;31mLibsndfileError\u001b[0m: Error opening 'dataset\\\\dev_data\\\\dev_data\\\\slider\\\\train\\\\normal_id_04_00000245.wav': System error.",
      "\nDuring handling of the above exception, another exception occurred:\n",
      "\u001b[1;31mFileNotFoundError\u001b[0m                         Traceback (most recent call last)",
      "Cell \u001b[1;32mIn[100], line 1\u001b[0m\n\u001b[1;32m----> 1\u001b[0m train_model(vae, train_loader, val_loader, vae_loss, \u001b[38;5;124m\"\u001b[39m\u001b[38;5;124mvae\u001b[39m\u001b[38;5;124m\"\u001b[39m)\n",
      "Cell \u001b[1;32mIn[73], line 8\u001b[0m, in \u001b[0;36mtrain_model\u001b[1;34m(model, train_loader, val_loader, criterion, model_name, epochs, lr, patience)\u001b[0m\n\u001b[0;32m      6\u001b[0m \u001b[38;5;28;01mfor\u001b[39;00m ep \u001b[38;5;129;01min\u001b[39;00m \u001b[38;5;28mrange\u001b[39m(epochs):\n\u001b[0;32m      7\u001b[0m     model\u001b[38;5;241m.\u001b[39mtrain(); tr \u001b[38;5;241m=\u001b[39m \u001b[38;5;241m0.0\u001b[39m\n\u001b[1;32m----> 8\u001b[0m     \u001b[38;5;28;01mfor\u001b[39;00m x, _ \u001b[38;5;129;01min\u001b[39;00m train_loader:\n\u001b[0;32m      9\u001b[0m         x \u001b[38;5;241m=\u001b[39m x\u001b[38;5;241m.\u001b[39mto(device)\n\u001b[0;32m     10\u001b[0m         _, loss \u001b[38;5;241m=\u001b[39m criterion(model, x)\n",
      "File \u001b[1;32mc:\\Users\\bruker\\anaconda3\\Lib\\site-packages\\torch\\utils\\data\\dataloader.py:733\u001b[0m, in \u001b[0;36m_BaseDataLoaderIter.__next__\u001b[1;34m(self)\u001b[0m\n\u001b[0;32m    730\u001b[0m \u001b[38;5;28;01mif\u001b[39;00m \u001b[38;5;28mself\u001b[39m\u001b[38;5;241m.\u001b[39m_sampler_iter \u001b[38;5;129;01mis\u001b[39;00m \u001b[38;5;28;01mNone\u001b[39;00m:\n\u001b[0;32m    731\u001b[0m     \u001b[38;5;66;03m# TODO(https://github.com/pytorch/pytorch/issues/76750)\u001b[39;00m\n\u001b[0;32m    732\u001b[0m     \u001b[38;5;28mself\u001b[39m\u001b[38;5;241m.\u001b[39m_reset()  \u001b[38;5;66;03m# type: ignore[call-arg]\u001b[39;00m\n\u001b[1;32m--> 733\u001b[0m data \u001b[38;5;241m=\u001b[39m \u001b[38;5;28mself\u001b[39m\u001b[38;5;241m.\u001b[39m_next_data()\n\u001b[0;32m    734\u001b[0m \u001b[38;5;28mself\u001b[39m\u001b[38;5;241m.\u001b[39m_num_yielded \u001b[38;5;241m+\u001b[39m\u001b[38;5;241m=\u001b[39m \u001b[38;5;241m1\u001b[39m\n\u001b[0;32m    735\u001b[0m \u001b[38;5;28;01mif\u001b[39;00m (\n\u001b[0;32m    736\u001b[0m     \u001b[38;5;28mself\u001b[39m\u001b[38;5;241m.\u001b[39m_dataset_kind \u001b[38;5;241m==\u001b[39m _DatasetKind\u001b[38;5;241m.\u001b[39mIterable\n\u001b[0;32m    737\u001b[0m     \u001b[38;5;129;01mand\u001b[39;00m \u001b[38;5;28mself\u001b[39m\u001b[38;5;241m.\u001b[39m_IterableDataset_len_called \u001b[38;5;129;01mis\u001b[39;00m \u001b[38;5;129;01mnot\u001b[39;00m \u001b[38;5;28;01mNone\u001b[39;00m\n\u001b[0;32m    738\u001b[0m     \u001b[38;5;129;01mand\u001b[39;00m \u001b[38;5;28mself\u001b[39m\u001b[38;5;241m.\u001b[39m_num_yielded \u001b[38;5;241m>\u001b[39m \u001b[38;5;28mself\u001b[39m\u001b[38;5;241m.\u001b[39m_IterableDataset_len_called\n\u001b[0;32m    739\u001b[0m ):\n",
      "File \u001b[1;32mc:\\Users\\bruker\\anaconda3\\Lib\\site-packages\\torch\\utils\\data\\dataloader.py:789\u001b[0m, in \u001b[0;36m_SingleProcessDataLoaderIter._next_data\u001b[1;34m(self)\u001b[0m\n\u001b[0;32m    787\u001b[0m \u001b[38;5;28;01mdef\u001b[39;00m \u001b[38;5;21m_next_data\u001b[39m(\u001b[38;5;28mself\u001b[39m):\n\u001b[0;32m    788\u001b[0m     index \u001b[38;5;241m=\u001b[39m \u001b[38;5;28mself\u001b[39m\u001b[38;5;241m.\u001b[39m_next_index()  \u001b[38;5;66;03m# may raise StopIteration\u001b[39;00m\n\u001b[1;32m--> 789\u001b[0m     data \u001b[38;5;241m=\u001b[39m \u001b[38;5;28mself\u001b[39m\u001b[38;5;241m.\u001b[39m_dataset_fetcher\u001b[38;5;241m.\u001b[39mfetch(index)  \u001b[38;5;66;03m# may raise StopIteration\u001b[39;00m\n\u001b[0;32m    790\u001b[0m     \u001b[38;5;28;01mif\u001b[39;00m \u001b[38;5;28mself\u001b[39m\u001b[38;5;241m.\u001b[39m_pin_memory:\n\u001b[0;32m    791\u001b[0m         data \u001b[38;5;241m=\u001b[39m _utils\u001b[38;5;241m.\u001b[39mpin_memory\u001b[38;5;241m.\u001b[39mpin_memory(data, \u001b[38;5;28mself\u001b[39m\u001b[38;5;241m.\u001b[39m_pin_memory_device)\n",
      "File \u001b[1;32mc:\\Users\\bruker\\anaconda3\\Lib\\site-packages\\torch\\utils\\data\\_utils\\fetch.py:52\u001b[0m, in \u001b[0;36m_MapDatasetFetcher.fetch\u001b[1;34m(self, possibly_batched_index)\u001b[0m\n\u001b[0;32m     50\u001b[0m         data \u001b[38;5;241m=\u001b[39m \u001b[38;5;28mself\u001b[39m\u001b[38;5;241m.\u001b[39mdataset\u001b[38;5;241m.\u001b[39m__getitems__(possibly_batched_index)\n\u001b[0;32m     51\u001b[0m     \u001b[38;5;28;01melse\u001b[39;00m:\n\u001b[1;32m---> 52\u001b[0m         data \u001b[38;5;241m=\u001b[39m [\u001b[38;5;28mself\u001b[39m\u001b[38;5;241m.\u001b[39mdataset[idx] \u001b[38;5;28;01mfor\u001b[39;00m idx \u001b[38;5;129;01min\u001b[39;00m possibly_batched_index]\n\u001b[0;32m     53\u001b[0m \u001b[38;5;28;01melse\u001b[39;00m:\n\u001b[0;32m     54\u001b[0m     data \u001b[38;5;241m=\u001b[39m \u001b[38;5;28mself\u001b[39m\u001b[38;5;241m.\u001b[39mdataset[possibly_batched_index]\n",
      "Cell \u001b[1;32mIn[41], line 8\u001b[0m, in \u001b[0;36mSlideRailDataset.__getitem__\u001b[1;34m(self, idx)\u001b[0m\n\u001b[0;32m      7\u001b[0m \u001b[38;5;28;01mdef\u001b[39;00m \u001b[38;5;21m__getitem__\u001b[39m(\u001b[38;5;28mself\u001b[39m, idx):\n\u001b[1;32m----> 8\u001b[0m     feat \u001b[38;5;241m=\u001b[39m extract_logmel(\u001b[38;5;28mself\u001b[39m\u001b[38;5;241m.\u001b[39mfiles[idx])\n\u001b[0;32m      9\u001b[0m     \u001b[38;5;28;01mif\u001b[39;00m \u001b[38;5;28mself\u001b[39m\u001b[38;5;241m.\u001b[39mtransform:\n\u001b[0;32m     10\u001b[0m         feat \u001b[38;5;241m=\u001b[39m \u001b[38;5;28mself\u001b[39m\u001b[38;5;241m.\u001b[39mtransform(feat)\n",
      "Cell \u001b[1;32mIn[40], line 9\u001b[0m, in \u001b[0;36mextract_logmel\u001b[1;34m(path, cache_dir)\u001b[0m\n\u001b[0;32m      7\u001b[0m \u001b[38;5;28;01mif\u001b[39;00m cache\u001b[38;5;241m.\u001b[39mexists():\n\u001b[0;32m      8\u001b[0m     \u001b[38;5;28;01mreturn\u001b[39;00m np\u001b[38;5;241m.\u001b[39mload(cache)\n\u001b[1;32m----> 9\u001b[0m y, sr \u001b[38;5;241m=\u001b[39m librosa\u001b[38;5;241m.\u001b[39mload(path, sr\u001b[38;5;241m=\u001b[39mSAMPLE_RATE, mono\u001b[38;5;241m=\u001b[39m\u001b[38;5;28;01mTrue\u001b[39;00m)\n\u001b[0;32m     10\u001b[0m mel \u001b[38;5;241m=\u001b[39m librosa\u001b[38;5;241m.\u001b[39mfeature\u001b[38;5;241m.\u001b[39mmelspectrogram(\n\u001b[0;32m     11\u001b[0m     y\u001b[38;5;241m=\u001b[39my, sr\u001b[38;5;241m=\u001b[39msr, n_fft\u001b[38;5;241m=\u001b[39mN_FFT, hop_length\u001b[38;5;241m=\u001b[39mHOP, n_mels\u001b[38;5;241m=\u001b[39mN_MELS, power\u001b[38;5;241m=\u001b[39m\u001b[38;5;241m2\u001b[39m\n\u001b[0;32m     12\u001b[0m )\n\u001b[0;32m     13\u001b[0m logmel \u001b[38;5;241m=\u001b[39m librosa\u001b[38;5;241m.\u001b[39mpower_to_db(mel)\u001b[38;5;241m.\u001b[39mastype(np\u001b[38;5;241m.\u001b[39mfloat32)\n",
      "File \u001b[1;32mc:\\Users\\bruker\\anaconda3\\Lib\\site-packages\\librosa\\core\\audio.py:184\u001b[0m, in \u001b[0;36mload\u001b[1;34m(path, sr, mono, offset, duration, dtype, res_type)\u001b[0m\n\u001b[0;32m    180\u001b[0m \u001b[38;5;28;01mif\u001b[39;00m \u001b[38;5;28misinstance\u001b[39m(path, (\u001b[38;5;28mstr\u001b[39m, pathlib\u001b[38;5;241m.\u001b[39mPurePath)):\n\u001b[0;32m    181\u001b[0m     warnings\u001b[38;5;241m.\u001b[39mwarn(\n\u001b[0;32m    182\u001b[0m         \u001b[38;5;124m\"\u001b[39m\u001b[38;5;124mPySoundFile failed. Trying audioread instead.\u001b[39m\u001b[38;5;124m\"\u001b[39m, stacklevel\u001b[38;5;241m=\u001b[39m\u001b[38;5;241m2\u001b[39m\n\u001b[0;32m    183\u001b[0m     )\n\u001b[1;32m--> 184\u001b[0m     y, sr_native \u001b[38;5;241m=\u001b[39m __audioread_load(path, offset, duration, dtype)\n\u001b[0;32m    185\u001b[0m \u001b[38;5;28;01melse\u001b[39;00m:\n\u001b[0;32m    186\u001b[0m     \u001b[38;5;28;01mraise\u001b[39;00m exc\n",
      "File \u001b[1;32mc:\\Users\\bruker\\anaconda3\\Lib\\site-packages\\decorator.py:232\u001b[0m, in \u001b[0;36mdecorate.<locals>.fun\u001b[1;34m(*args, **kw)\u001b[0m\n\u001b[0;32m    230\u001b[0m \u001b[38;5;28;01mif\u001b[39;00m \u001b[38;5;129;01mnot\u001b[39;00m kwsyntax:\n\u001b[0;32m    231\u001b[0m     args, kw \u001b[38;5;241m=\u001b[39m fix(args, kw, sig)\n\u001b[1;32m--> 232\u001b[0m \u001b[38;5;28;01mreturn\u001b[39;00m caller(func, \u001b[38;5;241m*\u001b[39m(extras \u001b[38;5;241m+\u001b[39m args), \u001b[38;5;241m*\u001b[39m\u001b[38;5;241m*\u001b[39mkw)\n",
      "File \u001b[1;32mc:\\Users\\bruker\\anaconda3\\Lib\\site-packages\\librosa\\util\\decorators.py:63\u001b[0m, in \u001b[0;36mdeprecated.<locals>.__wrapper\u001b[1;34m(func, *args, **kwargs)\u001b[0m\n\u001b[0;32m     54\u001b[0m \u001b[38;5;250m\u001b[39m\u001b[38;5;124;03m\"\"\"Warn the user, and then proceed.\"\"\"\u001b[39;00m\n\u001b[0;32m     55\u001b[0m warnings\u001b[38;5;241m.\u001b[39mwarn(\n\u001b[0;32m     56\u001b[0m     \u001b[38;5;124m\"\u001b[39m\u001b[38;5;132;01m{:s}\u001b[39;00m\u001b[38;5;124m.\u001b[39m\u001b[38;5;132;01m{:s}\u001b[39;00m\u001b[38;5;130;01m\\n\u001b[39;00m\u001b[38;5;130;01m\\t\u001b[39;00m\u001b[38;5;124mDeprecated as of librosa version \u001b[39m\u001b[38;5;132;01m{:s}\u001b[39;00m\u001b[38;5;124m.\u001b[39m\u001b[38;5;124m\"\u001b[39m\n\u001b[0;32m     57\u001b[0m     \u001b[38;5;124m\"\u001b[39m\u001b[38;5;130;01m\\n\u001b[39;00m\u001b[38;5;130;01m\\t\u001b[39;00m\u001b[38;5;124mIt will be removed in librosa version \u001b[39m\u001b[38;5;132;01m{:s}\u001b[39;00m\u001b[38;5;124m.\u001b[39m\u001b[38;5;124m\"\u001b[39m\u001b[38;5;241m.\u001b[39mformat(\n\u001b[1;32m   (...)\u001b[0m\n\u001b[0;32m     61\u001b[0m     stacklevel\u001b[38;5;241m=\u001b[39m\u001b[38;5;241m3\u001b[39m,  \u001b[38;5;66;03m# Would be 2, but the decorator adds a level\u001b[39;00m\n\u001b[0;32m     62\u001b[0m )\n\u001b[1;32m---> 63\u001b[0m \u001b[38;5;28;01mreturn\u001b[39;00m func(\u001b[38;5;241m*\u001b[39margs, \u001b[38;5;241m*\u001b[39m\u001b[38;5;241m*\u001b[39mkwargs)\n",
      "File \u001b[1;32mc:\\Users\\bruker\\anaconda3\\Lib\\site-packages\\librosa\\core\\audio.py:240\u001b[0m, in \u001b[0;36m__audioread_load\u001b[1;34m(path, offset, duration, dtype)\u001b[0m\n\u001b[0;32m    237\u001b[0m     reader \u001b[38;5;241m=\u001b[39m path\n\u001b[0;32m    238\u001b[0m \u001b[38;5;28;01melse\u001b[39;00m:\n\u001b[0;32m    239\u001b[0m     \u001b[38;5;66;03m# If the input was not an audioread object, try to open it\u001b[39;00m\n\u001b[1;32m--> 240\u001b[0m     reader \u001b[38;5;241m=\u001b[39m audioread\u001b[38;5;241m.\u001b[39maudio_open(path)\n\u001b[0;32m    242\u001b[0m \u001b[38;5;28;01mwith\u001b[39;00m reader \u001b[38;5;28;01mas\u001b[39;00m input_file:\n\u001b[0;32m    243\u001b[0m     sr_native \u001b[38;5;241m=\u001b[39m input_file\u001b[38;5;241m.\u001b[39msamplerate\n",
      "File \u001b[1;32mc:\\Users\\bruker\\anaconda3\\Lib\\site-packages\\audioread\\__init__.py:127\u001b[0m, in \u001b[0;36maudio_open\u001b[1;34m(path, backends)\u001b[0m\n\u001b[0;32m    125\u001b[0m \u001b[38;5;28;01mfor\u001b[39;00m BackendClass \u001b[38;5;129;01min\u001b[39;00m backends:\n\u001b[0;32m    126\u001b[0m     \u001b[38;5;28;01mtry\u001b[39;00m:\n\u001b[1;32m--> 127\u001b[0m         \u001b[38;5;28;01mreturn\u001b[39;00m BackendClass(path)\n\u001b[0;32m    128\u001b[0m     \u001b[38;5;28;01mexcept\u001b[39;00m DecodeError:\n\u001b[0;32m    129\u001b[0m         \u001b[38;5;28;01mpass\u001b[39;00m\n",
      "File \u001b[1;32mc:\\Users\\bruker\\anaconda3\\Lib\\site-packages\\audioread\\rawread.py:59\u001b[0m, in \u001b[0;36mRawAudioFile.__init__\u001b[1;34m(self, filename)\u001b[0m\n\u001b[0;32m     58\u001b[0m \u001b[38;5;28;01mdef\u001b[39;00m \u001b[38;5;21m__init__\u001b[39m(\u001b[38;5;28mself\u001b[39m, filename):\n\u001b[1;32m---> 59\u001b[0m     \u001b[38;5;28mself\u001b[39m\u001b[38;5;241m.\u001b[39m_fh \u001b[38;5;241m=\u001b[39m \u001b[38;5;28mopen\u001b[39m(filename, \u001b[38;5;124m'\u001b[39m\u001b[38;5;124mrb\u001b[39m\u001b[38;5;124m'\u001b[39m)\n\u001b[0;32m     61\u001b[0m     \u001b[38;5;28;01mtry\u001b[39;00m:\n\u001b[0;32m     62\u001b[0m         \u001b[38;5;28mself\u001b[39m\u001b[38;5;241m.\u001b[39m_file \u001b[38;5;241m=\u001b[39m aifc\u001b[38;5;241m.\u001b[39mopen(\u001b[38;5;28mself\u001b[39m\u001b[38;5;241m.\u001b[39m_fh)\n",
      "\u001b[1;31mFileNotFoundError\u001b[0m: [Errno 2] No such file or directory: 'dataset\\\\dev_data\\\\dev_data\\\\slider\\\\train\\\\normal_id_04_00000245.wav'"
     ]
    }
   ],
   "source": [
    "train_model(vae, train_loader, val_loader, vae_loss, \"vae\")"
   ]
  },
  {
   "cell_type": "markdown",
   "id": "d86d0963",
   "metadata": {},
   "source": [
    "## Normalizing Flow / Masked Auto‑Encoder (Optional)\n",
    "For participants equipped with ample GPU resources, this section sketches how to integrate an explicit density estimator (Normalizing Flow) or a self‑supervised Masked Auto‑Encoder for additional performance gains. Both approaches can provide calibrated likelihoods or context‑aware reconstruction signals that complement the CAE and VAE baselines. Implementation details are referenced from the `nflows` library and the AudioMAE repository and are intentionally modular for straightforward substitution."
   ]
  },
  {
   "cell_type": "code",
   "execution_count": null,
   "id": "070fd23d",
   "metadata": {},
   "outputs": [],
   "source": [
    "# Placeholder: define and train a RealNVP flow or import a pre‑trained AudioMAE here\n",
    "print('Implement Normalizing Flow or MAE here if hardware budget permits.')\n"
   ]
  },
  {
   "cell_type": "markdown",
   "id": "514c5c5d",
   "metadata": {},
   "source": [
    "## Deep SVDD (One‑Class Classification)\n",
    "Deep Support Vector Data Description embeds inputs into a hypersphere whose radius implicitly models normal‑class variability, eschewing reconstruction altogether. Its inference cost is minimal because anomaly scoring reduces to computing Euclidean distance in latent space. A concise training loop optimises the centre and network weights jointly, yielding a lightweight model suitable for edge deployment."
   ]
  },
  {
   "cell_type": "code",
   "execution_count": null,
   "id": "c73f24e2",
   "metadata": {},
   "outputs": [
    {
     "name": "stdout",
     "output_type": "stream",
     "text": [
      "Epoch  0 | Loss 223.9849\n",
      "Epoch  1 | Loss 6.7128\n",
      "Epoch  2 | Loss 5.8200\n",
      "Epoch  3 | Loss 4.7742\n",
      "Epoch  4 | Loss 4.1885\n",
      "Epoch  5 | Loss 3.8452\n",
      "Epoch  6 | Loss 3.5062\n",
      "Epoch  7 | Loss 3.2496\n",
      "Epoch  8 | Loss 3.0193\n",
      "Epoch  9 | Loss 2.8357\n"
     ]
    }
   ],
   "source": [
    "class SVDDNet(nn.Module):\n",
    "    def __init__(self, emb_dim=128):\n",
    "        super().__init__()\n",
    "        self.conv = nn.Sequential(\n",
    "            nn.Conv2d(1, 16, 3, padding=1), nn.ReLU(), nn.MaxPool2d(2),\n",
    "            nn.Conv2d(16, 32, 3, padding=1), nn.ReLU(), nn.MaxPool2d(2),\n",
    "            nn.Flatten()\n",
    "        )\n",
    "        # Hitung dimensi keluaran lapisan convolutional secara dinamis\n",
    "        with torch.no_grad():\n",
    "            dummy_input = next(iter(train_loader)).to(device)\n",
    "            conv_out = self.conv(dummy_input)\n",
    "            flat_dim = conv_out.shape[1]  # Dimensi keluaran lapisan convolutional\n",
    "\n",
    "\n",
    "        self.fc = nn.Linear(flat_dim, emb_dim)  # Sesuaikan dimensi input lapisan linear\n",
    "\n",
    "    def forward(self, x):\n",
    "        x = self.conv(x)\n",
    "        return self.fc(x)\n",
    "\n",
    "# Inisialisasi model dan optimizer\n",
    "svdd = SVDDNet().to(device)\n",
    "optimizer = torch.optim.Adam(svdd.parameters(), lr=1e-4)\n",
    "center = torch.zeros(128, device=device)\n",
    "\n",
    "# Training loop\n",
    "for epoch in range(10):\n",
    "    svdd.train()\n",
    "    epoch_loss = 0.0\n",
    "    for x in train_loader:\n",
    "        x = x.to(device)\n",
    "        emb = svdd(x)\n",
    "        if epoch == 0:\n",
    "            center = 0.9 * center + 0.1 * emb.mean(0).detach()\n",
    "        dist = ((emb - center) ** 2).sum(1)\n",
    "        loss = dist.mean()\n",
    "        optimizer.zero_grad()\n",
    "        loss.backward()\n",
    "        optimizer.step()\n",
    "        epoch_loss += loss.item() * x.size(0)\n",
    "    print(f'Epoch {epoch:2d} | Loss {epoch_loss / len(train_loader.dataset):.4f}')\n"
   ]
  },
  {
   "cell_type": "markdown",
   "id": "845516d8",
   "metadata": {},
   "source": [
    "## Test"
   ]
  },
  {
   "cell_type": "code",
   "execution_count": 79,
   "id": "9649ed84",
   "metadata": {},
   "outputs": [],
   "source": [
    "test_loader = DataLoader(SlideRailDataset(test_files), batch_size=16, shuffle=False)\n",
    "\n",
    "def recreate_model(model_name, latent_dim=128):\n",
    "    model_name = model_name.lower()\n",
    "    if model_name == \"cae\":\n",
    "        return CAE(latent_dim=latent_dim)\n",
    "    elif model_name == \"vae\":\n",
    "        return VAE(latent_dim=latent_dim)\n",
    "    else:\n",
    "        raise ValueError(\"Unknown model name\")\n",
    "\n",
    "def test_model(model_name, test_loader):\n",
    "    reconstruction_errors = []\n",
    "    paths = []\n",
    "\n",
    "    model = recreate_model(model_name, 256)\n",
    "    model.load_state_dict(torch.load(f'best_{model_name}.pth'))\n",
    "    model.to(device)\n",
    "    model.eval()\n",
    "\n",
    "    with torch.no_grad():\n",
    "        for x, file_batch in test_loader:\n",
    "            x = x.to(device)\n",
    "\n",
    "            if model_name == \"CAE\":\n",
    "                recon = model(x)\n",
    "            elif model_name == \"VAE\":\n",
    "                recon, _, _ = model(x)\n",
    "\n",
    "            x_resized = F.adaptive_avg_pool2d(x, recon.shape[2:])\n",
    "            mse = F.mse_loss(recon, x_resized, reduction='none')\n",
    "            mse = mse.view(mse.size(0), -1).mean(dim=1)\n",
    "\n",
    "            reconstruction_errors += list(mse.cpu().numpy())\n",
    "            paths += list(file_batch)\n",
    "\n",
    "    return np.array(reconstruction_errors), paths\n",
    "\n",
    "\n",
    "all_scores, files = test_model('CAE', test_loader)\n"
   ]
  },
  {
   "cell_type": "markdown",
   "id": "32e46674",
   "metadata": {},
   "source": [
    "## Evaluation Metrics\n",
    "Consistent with DCASE conventions, performance is quantified via the Area Under the Receiver Operating Characteristic Curve (AUC‑ROC), a threshold‑independent ranking measure. Computed on a held‑out validation set containing both normal and anomalous recordings, this scalar facilitates objective comparison across model families. Bootstrap resampling can optionally provide confidence intervals to assess statistical reliability."
   ]
  },
  {
   "cell_type": "code",
   "execution_count": 7,
   "id": "b02c3689",
   "metadata": {},
   "outputs": [],
   "source": [
    "def reconstruction_error(model, path):\n",
    "    model.eval()\n",
    "    with torch.no_grad():\n",
    "        feat = torch.from_numpy(extract_logmel(path)).unsqueeze(0).to(device)\n",
    "        recon = model(feat)\n",
    "        return torch.mean((recon - feat)**2).item()\n",
    "\n",
    "# Placeholder for real validation labels\n",
    "# val_labels = [...]\n",
    "# val_scores = [reconstruction_error(cae, f) for f in val_files]\n",
    "# print('AUC:', metrics.roc_auc_score(val_labels, val_scores))\n"
   ]
  },
  {
   "cell_type": "code",
   "execution_count": 80,
   "id": "fa449e37",
   "metadata": {},
   "outputs": [
    {
     "name": "stdout",
     "output_type": "stream",
     "text": [
      "Best threshold: 11.00\n",
      "F1 Score: 0.8590 | Precision: 0.8143 | Recall: 0.9089\n"
     ]
    }
   ],
   "source": [
    "from sklearn.metrics import f1_score, precision_score, recall_score\n",
    "\n",
    "def find_best_f1_threshold(scores, labels, num_steps=500):\n",
    "    best_f1, best_thresh = 0, 0\n",
    "    for t in np.linspace(min(scores), max(scores), num_steps):\n",
    "        preds = (scores > t).astype(int)\n",
    "        f1 = f1_score(labels, preds)\n",
    "        if f1 > best_f1:\n",
    "            best_f1 = f1\n",
    "            best_thresh = t\n",
    "    # After best threshold is found\n",
    "    final_preds = (scores > best_thresh).astype(int)\n",
    "    precision = precision_score(labels, final_preds)\n",
    "    recall = recall_score(labels, final_preds)\n",
    "    return best_thresh, best_f1, precision, recall\n",
    "\n",
    "best_thresh, best_f1, best_prec, best_rec = find_best_f1_threshold(all_scores, test_labels)\n",
    "print(f\"Best threshold: {best_thresh:.2f}\")\n",
    "print(f\"F1 Score: {best_f1:.4f} | Precision: {best_prec:.4f} | Recall: {best_rec:.4f}\")\n"
   ]
  },
  {
   "cell_type": "code",
   "execution_count": 96,
   "id": "18f25e6b",
   "metadata": {},
   "outputs": [
    {
     "name": "stdout",
     "output_type": "stream",
     "text": [
      "12.389958381652832\n",
      "ROC AUC:     0.8218\n",
      "Precision:   0.8584\n",
      "Recall:      0.8252\n",
      "F1 Score:    0.8415\n"
     ]
    }
   ],
   "source": [
    "# ROC AUC\n",
    "roc_auc = roc_auc_score(test_labels, all_scores)\n",
    "\n",
    "# Threshold-based classification (optional tuning here)\n",
    "threshold = np.percentile(all_scores, 30)\n",
    "print(threshold)\n",
    "pred_labels = (all_scores > threshold).astype(int)\n",
    "\n",
    "# Precision, Recall, F1\n",
    "precision, recall, f1, _ = precision_recall_fscore_support(test_labels, pred_labels, average='binary')\n",
    "\n",
    "print(f\"ROC AUC:     {roc_auc:.4f}\")\n",
    "print(f\"Precision:   {precision:.4f}\")\n",
    "print(f\"Recall:      {recall:.4f}\")\n",
    "print(f\"F1 Score:    {f1:.4f}\")\n"
   ]
  },
  {
   "cell_type": "code",
   "execution_count": 97,
   "id": "5fe68dfe",
   "metadata": {},
   "outputs": [
    {
     "data": {
      "image/png": "[encoded data removed]",
      "text/plain": [
       "<Figure size 640x480 with 1 Axes>"
      ]
     },
     "metadata": {},
     "output_type": "display_data"
    }
   ],
   "source": [
    "normal_errors = all_scores[np.array(test_labels) == 0]\n",
    "anomaly_errors = all_scores[np.array(test_labels) == 1]\n",
    "\n",
    "plt.hist(normal_errors, bins=50, alpha=0.6, label='Normal', density=True)\n",
    "plt.hist(anomaly_errors, bins=50, alpha=0.6, label='Anomaly', density=True)\n",
    "plt.axvline(threshold, color='r', linestyle='--', label='Threshold')\n",
    "plt.xlabel(\"Reconstruction Error\")\n",
    "plt.ylabel(\"Density\")\n",
    "plt.legend()\n",
    "plt.title(\"Reconstruction Errors by Class\")\n",
    "plt.show()\n"
   ]
  },
  {
   "cell_type": "markdown",
   "id": "61d63ccc",
   "metadata": {},
   "source": [
    "### ROC curve"
   ]
  },
  {
   "cell_type": "code",
   "execution_count": 98,
   "id": "f911716c",
   "metadata": {},
   "outputs": [
    {
     "data": {
      "image/png": "[encoded data removed]",
      "text/plain": [
       "<Figure size 600x600 with 1 Axes>"
      ]
     },
     "metadata": {},
     "output_type": "display_data"
    }
   ],
   "source": [
    "from sklearn.metrics import roc_curve, auc\n",
    "\n",
    "fpr, tpr, thresholds = roc_curve(test_labels, all_scores)\n",
    "roc_auc = auc(fpr, tpr)\n",
    "\n",
    "plt.figure(figsize=(6, 6))\n",
    "plt.plot(fpr, tpr, color='darkorange', lw=2, label=f\"ROC curve (AUC = {roc_auc:.4f})\")\n",
    "plt.plot([0, 1], [0, 1], color='navy', lw=1, linestyle='--')\n",
    "plt.xlabel(\"False Positive Rate\")\n",
    "plt.ylabel(\"True Positive Rate\")\n",
    "plt.title(\"Receiver Operating Characteristic (ROC) Curve\")\n",
    "plt.legend(loc=\"lower right\")\n",
    "plt.grid(True)\n",
    "plt.tight_layout()\n",
    "plt.show()\n"
   ]
  },
  {
   "cell_type": "markdown",
   "id": "4650c2ab",
   "metadata": {},
   "source": [
    "## Submission File Generation\n",
    "To conform to the official scoring server, anomaly scores are collated into a header‑less CSV containing `filename` and `anomaly_score` columns. Consistent filename ordering is crucial to prevent misalignment between the submission file and the hidden evaluation labels. The function below accommodates any scoring model by injecting a callable that maps file paths to scalar scores."
   ]
  },
  {
   "cell_type": "code",
   "execution_count": null,
   "id": "8819e612",
   "metadata": {},
   "outputs": [
    {
     "name": "stderr",
     "output_type": "stream",
     "text": [
      "  0%|          | 0/1101 [00:00<?, ?it/s]\n"
     ]
    },
    {
     "ename": "RuntimeError",
     "evalue": "mat1 and mat2 shapes cannot be multiplied (32x1248 and 39936x128)",
     "output_type": "error",
     "traceback": [
      "\u001b[1;31m---------------------------------------------------------------------------\u001b[0m",
      "\u001b[1;31mRuntimeError\u001b[0m                              Traceback (most recent call last)",
      "Cell \u001b[1;32mIn[10], line 8\u001b[0m\n\u001b[0;32m      4\u001b[0m     pd\u001b[38;5;241m.\u001b[39mDataFrame(rows)\u001b[38;5;241m.\u001b[39mto_csv(out, index\u001b[38;5;241m=\u001b[39m\u001b[38;5;28;01mFalse\u001b[39;00m, header\u001b[38;5;241m=\u001b[39m\u001b[38;5;28;01mFalse\u001b[39;00m)\n\u001b[0;32m      5\u001b[0m     \u001b[38;5;28mprint\u001b[39m(\u001b[38;5;124m'\u001b[39m\u001b[38;5;124mSubmission saved to\u001b[39m\u001b[38;5;124m'\u001b[39m, out)\n\u001b[1;32m----> 8\u001b[0m write_submission(\n\u001b[0;32m      9\u001b[0m     \u001b[38;5;28msorted\u001b[39m((DATA_DIR\u001b[38;5;241m/\u001b[39m\u001b[38;5;124m'\u001b[39m\u001b[38;5;124mtest\u001b[39m\u001b[38;5;124m'\u001b[39m)\u001b[38;5;241m.\u001b[39mrglob(\u001b[38;5;124m'\u001b[39m\u001b[38;5;124m*.wav\u001b[39m\u001b[38;5;124m'\u001b[39m)),\n\u001b[0;32m     10\u001b[0m     \u001b[38;5;28;01mlambda\u001b[39;00m f: reconstruction_error(svdd, f),\n\u001b[0;32m     11\u001b[0m     out\u001b[38;5;241m=\u001b[39m\u001b[38;5;124m'\u001b[39m\u001b[38;5;124msubmission-new.csv\u001b[39m\u001b[38;5;124m'\u001b[39m\n\u001b[0;32m     12\u001b[0m )\n",
      "Cell \u001b[1;32mIn[10], line 3\u001b[0m, in \u001b[0;36mwrite_submission\u001b[1;34m(file_list, scoring_fn, out)\u001b[0m\n\u001b[0;32m      2\u001b[0m \u001b[38;5;28;01mdef\u001b[39;00m \u001b[38;5;21mwrite_submission\u001b[39m(file_list, scoring_fn, out\u001b[38;5;241m=\u001b[39m\u001b[38;5;124m'\u001b[39m\u001b[38;5;124msubmission.csv\u001b[39m\u001b[38;5;124m'\u001b[39m):\n\u001b[1;32m----> 3\u001b[0m     rows \u001b[38;5;241m=\u001b[39m [{\u001b[38;5;124m'\u001b[39m\u001b[38;5;124mfilename\u001b[39m\u001b[38;5;124m'\u001b[39m: f\u001b[38;5;241m.\u001b[39mname, \u001b[38;5;124m'\u001b[39m\u001b[38;5;124manomaly_score\u001b[39m\u001b[38;5;124m'\u001b[39m: scoring_fn(f)} \u001b[38;5;28;01mfor\u001b[39;00m f \u001b[38;5;129;01min\u001b[39;00m tqdm(file_list)]\n\u001b[0;32m      4\u001b[0m     pd\u001b[38;5;241m.\u001b[39mDataFrame(rows)\u001b[38;5;241m.\u001b[39mto_csv(out, index\u001b[38;5;241m=\u001b[39m\u001b[38;5;28;01mFalse\u001b[39;00m, header\u001b[38;5;241m=\u001b[39m\u001b[38;5;28;01mFalse\u001b[39;00m)\n\u001b[0;32m      5\u001b[0m     \u001b[38;5;28mprint\u001b[39m(\u001b[38;5;124m'\u001b[39m\u001b[38;5;124mSubmission saved to\u001b[39m\u001b[38;5;124m'\u001b[39m, out)\n",
      "Cell \u001b[1;32mIn[10], line 10\u001b[0m, in \u001b[0;36m<lambda>\u001b[1;34m(f)\u001b[0m\n\u001b[0;32m      4\u001b[0m     pd\u001b[38;5;241m.\u001b[39mDataFrame(rows)\u001b[38;5;241m.\u001b[39mto_csv(out, index\u001b[38;5;241m=\u001b[39m\u001b[38;5;28;01mFalse\u001b[39;00m, header\u001b[38;5;241m=\u001b[39m\u001b[38;5;28;01mFalse\u001b[39;00m)\n\u001b[0;32m      5\u001b[0m     \u001b[38;5;28mprint\u001b[39m(\u001b[38;5;124m'\u001b[39m\u001b[38;5;124mSubmission saved to\u001b[39m\u001b[38;5;124m'\u001b[39m, out)\n\u001b[0;32m      8\u001b[0m write_submission(\n\u001b[0;32m      9\u001b[0m     \u001b[38;5;28msorted\u001b[39m((DATA_DIR\u001b[38;5;241m/\u001b[39m\u001b[38;5;124m'\u001b[39m\u001b[38;5;124mtest\u001b[39m\u001b[38;5;124m'\u001b[39m)\u001b[38;5;241m.\u001b[39mrglob(\u001b[38;5;124m'\u001b[39m\u001b[38;5;124m*.wav\u001b[39m\u001b[38;5;124m'\u001b[39m)),\n\u001b[1;32m---> 10\u001b[0m     \u001b[38;5;28;01mlambda\u001b[39;00m f: reconstruction_error(svdd, f),\n\u001b[0;32m     11\u001b[0m     out\u001b[38;5;241m=\u001b[39m\u001b[38;5;124m'\u001b[39m\u001b[38;5;124msubmission-new.csv\u001b[39m\u001b[38;5;124m'\u001b[39m\n\u001b[0;32m     12\u001b[0m )\n",
      "Cell \u001b[1;32mIn[9], line 5\u001b[0m, in \u001b[0;36mreconstruction_error\u001b[1;34m(model, path)\u001b[0m\n\u001b[0;32m      3\u001b[0m \u001b[38;5;28;01mwith\u001b[39;00m torch\u001b[38;5;241m.\u001b[39mno_grad():\n\u001b[0;32m      4\u001b[0m     feat \u001b[38;5;241m=\u001b[39m torch\u001b[38;5;241m.\u001b[39mfrom_numpy(extract_logmel(path))\u001b[38;5;241m.\u001b[39munsqueeze(\u001b[38;5;241m0\u001b[39m)\u001b[38;5;241m.\u001b[39mto(device)\n\u001b[1;32m----> 5\u001b[0m     recon \u001b[38;5;241m=\u001b[39m model(feat)\n\u001b[0;32m      6\u001b[0m     \u001b[38;5;28;01mreturn\u001b[39;00m torch\u001b[38;5;241m.\u001b[39mmean((recon \u001b[38;5;241m-\u001b[39m feat)\u001b[38;5;241m*\u001b[39m\u001b[38;5;241m*\u001b[39m\u001b[38;5;241m2\u001b[39m)\u001b[38;5;241m.\u001b[39mitem()\n",
      "File \u001b[1;32mc:\\Users\\bruker\\anaconda3\\Lib\\site-packages\\torch\\nn\\modules\\module.py:1751\u001b[0m, in \u001b[0;36mModule._wrapped_call_impl\u001b[1;34m(self, *args, **kwargs)\u001b[0m\n\u001b[0;32m   1749\u001b[0m     \u001b[38;5;28;01mreturn\u001b[39;00m \u001b[38;5;28mself\u001b[39m\u001b[38;5;241m.\u001b[39m_compiled_call_impl(\u001b[38;5;241m*\u001b[39margs, \u001b[38;5;241m*\u001b[39m\u001b[38;5;241m*\u001b[39mkwargs)  \u001b[38;5;66;03m# type: ignore[misc]\u001b[39;00m\n\u001b[0;32m   1750\u001b[0m \u001b[38;5;28;01melse\u001b[39;00m:\n\u001b[1;32m-> 1751\u001b[0m     \u001b[38;5;28;01mreturn\u001b[39;00m \u001b[38;5;28mself\u001b[39m\u001b[38;5;241m.\u001b[39m_call_impl(\u001b[38;5;241m*\u001b[39margs, \u001b[38;5;241m*\u001b[39m\u001b[38;5;241m*\u001b[39mkwargs)\n",
      "File \u001b[1;32mc:\\Users\\bruker\\anaconda3\\Lib\\site-packages\\torch\\nn\\modules\\module.py:1762\u001b[0m, in \u001b[0;36mModule._call_impl\u001b[1;34m(self, *args, **kwargs)\u001b[0m\n\u001b[0;32m   1757\u001b[0m \u001b[38;5;66;03m# If we don't have any hooks, we want to skip the rest of the logic in\u001b[39;00m\n\u001b[0;32m   1758\u001b[0m \u001b[38;5;66;03m# this function, and just call forward.\u001b[39;00m\n\u001b[0;32m   1759\u001b[0m \u001b[38;5;28;01mif\u001b[39;00m \u001b[38;5;129;01mnot\u001b[39;00m (\u001b[38;5;28mself\u001b[39m\u001b[38;5;241m.\u001b[39m_backward_hooks \u001b[38;5;129;01mor\u001b[39;00m \u001b[38;5;28mself\u001b[39m\u001b[38;5;241m.\u001b[39m_backward_pre_hooks \u001b[38;5;129;01mor\u001b[39;00m \u001b[38;5;28mself\u001b[39m\u001b[38;5;241m.\u001b[39m_forward_hooks \u001b[38;5;129;01mor\u001b[39;00m \u001b[38;5;28mself\u001b[39m\u001b[38;5;241m.\u001b[39m_forward_pre_hooks\n\u001b[0;32m   1760\u001b[0m         \u001b[38;5;129;01mor\u001b[39;00m _global_backward_pre_hooks \u001b[38;5;129;01mor\u001b[39;00m _global_backward_hooks\n\u001b[0;32m   1761\u001b[0m         \u001b[38;5;129;01mor\u001b[39;00m _global_forward_hooks \u001b[38;5;129;01mor\u001b[39;00m _global_forward_pre_hooks):\n\u001b[1;32m-> 1762\u001b[0m     \u001b[38;5;28;01mreturn\u001b[39;00m forward_call(\u001b[38;5;241m*\u001b[39margs, \u001b[38;5;241m*\u001b[39m\u001b[38;5;241m*\u001b[39mkwargs)\n\u001b[0;32m   1764\u001b[0m result \u001b[38;5;241m=\u001b[39m \u001b[38;5;28;01mNone\u001b[39;00m\n\u001b[0;32m   1765\u001b[0m called_always_called_hooks \u001b[38;5;241m=\u001b[39m \u001b[38;5;28mset\u001b[39m()\n",
      "Cell \u001b[1;32mIn[8], line 20\u001b[0m, in \u001b[0;36mSVDDNet.forward\u001b[1;34m(self, x)\u001b[0m\n\u001b[0;32m     18\u001b[0m \u001b[38;5;28;01mdef\u001b[39;00m \u001b[38;5;21mforward\u001b[39m(\u001b[38;5;28mself\u001b[39m, x):\n\u001b[0;32m     19\u001b[0m     x \u001b[38;5;241m=\u001b[39m \u001b[38;5;28mself\u001b[39m\u001b[38;5;241m.\u001b[39mconv(x)\n\u001b[1;32m---> 20\u001b[0m     \u001b[38;5;28;01mreturn\u001b[39;00m \u001b[38;5;28mself\u001b[39m\u001b[38;5;241m.\u001b[39mfc(x)\n",
      "File \u001b[1;32mc:\\Users\\bruker\\anaconda3\\Lib\\site-packages\\torch\\nn\\modules\\module.py:1751\u001b[0m, in \u001b[0;36mModule._wrapped_call_impl\u001b[1;34m(self, *args, **kwargs)\u001b[0m\n\u001b[0;32m   1749\u001b[0m     \u001b[38;5;28;01mreturn\u001b[39;00m \u001b[38;5;28mself\u001b[39m\u001b[38;5;241m.\u001b[39m_compiled_call_impl(\u001b[38;5;241m*\u001b[39margs, \u001b[38;5;241m*\u001b[39m\u001b[38;5;241m*\u001b[39mkwargs)  \u001b[38;5;66;03m# type: ignore[misc]\u001b[39;00m\n\u001b[0;32m   1750\u001b[0m \u001b[38;5;28;01melse\u001b[39;00m:\n\u001b[1;32m-> 1751\u001b[0m     \u001b[38;5;28;01mreturn\u001b[39;00m \u001b[38;5;28mself\u001b[39m\u001b[38;5;241m.\u001b[39m_call_impl(\u001b[38;5;241m*\u001b[39margs, \u001b[38;5;241m*\u001b[39m\u001b[38;5;241m*\u001b[39mkwargs)\n",
      "File \u001b[1;32mc:\\Users\\bruker\\anaconda3\\Lib\\site-packages\\torch\\nn\\modules\\module.py:1762\u001b[0m, in \u001b[0;36mModule._call_impl\u001b[1;34m(self, *args, **kwargs)\u001b[0m\n\u001b[0;32m   1757\u001b[0m \u001b[38;5;66;03m# If we don't have any hooks, we want to skip the rest of the logic in\u001b[39;00m\n\u001b[0;32m   1758\u001b[0m \u001b[38;5;66;03m# this function, and just call forward.\u001b[39;00m\n\u001b[0;32m   1759\u001b[0m \u001b[38;5;28;01mif\u001b[39;00m \u001b[38;5;129;01mnot\u001b[39;00m (\u001b[38;5;28mself\u001b[39m\u001b[38;5;241m.\u001b[39m_backward_hooks \u001b[38;5;129;01mor\u001b[39;00m \u001b[38;5;28mself\u001b[39m\u001b[38;5;241m.\u001b[39m_backward_pre_hooks \u001b[38;5;129;01mor\u001b[39;00m \u001b[38;5;28mself\u001b[39m\u001b[38;5;241m.\u001b[39m_forward_hooks \u001b[38;5;129;01mor\u001b[39;00m \u001b[38;5;28mself\u001b[39m\u001b[38;5;241m.\u001b[39m_forward_pre_hooks\n\u001b[0;32m   1760\u001b[0m         \u001b[38;5;129;01mor\u001b[39;00m _global_backward_pre_hooks \u001b[38;5;129;01mor\u001b[39;00m _global_backward_hooks\n\u001b[0;32m   1761\u001b[0m         \u001b[38;5;129;01mor\u001b[39;00m _global_forward_hooks \u001b[38;5;129;01mor\u001b[39;00m _global_forward_pre_hooks):\n\u001b[1;32m-> 1762\u001b[0m     \u001b[38;5;28;01mreturn\u001b[39;00m forward_call(\u001b[38;5;241m*\u001b[39margs, \u001b[38;5;241m*\u001b[39m\u001b[38;5;241m*\u001b[39mkwargs)\n\u001b[0;32m   1764\u001b[0m result \u001b[38;5;241m=\u001b[39m \u001b[38;5;28;01mNone\u001b[39;00m\n\u001b[0;32m   1765\u001b[0m called_always_called_hooks \u001b[38;5;241m=\u001b[39m \u001b[38;5;28mset\u001b[39m()\n",
      "File \u001b[1;32mc:\\Users\\bruker\\anaconda3\\Lib\\site-packages\\torch\\nn\\modules\\linear.py:125\u001b[0m, in \u001b[0;36mLinear.forward\u001b[1;34m(self, input)\u001b[0m\n\u001b[0;32m    124\u001b[0m \u001b[38;5;28;01mdef\u001b[39;00m \u001b[38;5;21mforward\u001b[39m(\u001b[38;5;28mself\u001b[39m, \u001b[38;5;28minput\u001b[39m: Tensor) \u001b[38;5;241m-\u001b[39m\u001b[38;5;241m>\u001b[39m Tensor:\n\u001b[1;32m--> 125\u001b[0m     \u001b[38;5;28;01mreturn\u001b[39;00m F\u001b[38;5;241m.\u001b[39mlinear(\u001b[38;5;28minput\u001b[39m, \u001b[38;5;28mself\u001b[39m\u001b[38;5;241m.\u001b[39mweight, \u001b[38;5;28mself\u001b[39m\u001b[38;5;241m.\u001b[39mbias)\n",
      "\u001b[1;31mRuntimeError\u001b[0m: mat1 and mat2 shapes cannot be multiplied (32x1248 and 39936x128)"
     ]
    }
   ],
   "source": [
    "import pandas as pd\n",
    "def write_submission(file_list, scoring_fn, out='submission.csv'):\n",
    "    rows = [{'filename': f.name, 'anomaly_score': scoring_fn(f)} for f in tqdm(file_list)]\n",
    "    pd.DataFrame(rows).to_csv(out, index=False, header=False)\n",
    "    print('Submission saved to', out)\n",
    "\n",
    "\n",
    "write_submission(\n",
    "    sorted((DATA_DIR/'test').rglob('*.wav')),\n",
    "    lambda f: reconstruction_error(svdd, f),\n",
    "    out='submission-new.csv'\n",
    ")\n"
   ]
  },
  {
   "cell_type": "markdown",
   "id": "bb623d66",
   "metadata": {},
   "source": [
    "## Conclusion & Future Work\n",
    "This notebook operationalises four complementary unsupervised anomaly‑detection paradigms, thus satisfying the methodology requirements of the AML 2025 Slide‑Rail lab. Students are encouraged to fine‑tune hyper‑parameters, integrate data augmentation, or ensemble model outputs to elevate empirical performance. Moreover, cross‑referencing the GitHub repositories may inspire nuanced architectural enhancements or novel evaluation protocols."
   ]
  }
 ],
 "metadata": {
  "kernelspec": {
   "display_name": "base",
   "language": "python",
   "name": "python3"
  },
  "language_info": {
   "codemirror_mode": {
    "name": "ipython",
    "version": 3
   },
   "file_extension": ".py",
   "mimetype": "text/x-python",
   "name": "python",
   "nbconvert_exporter": "python",
   "pygments_lexer": "ipython3",
   "version": "3.12.7"
  }
 },
 "nbformat": 4,
 "nbformat_minor": 5
}
