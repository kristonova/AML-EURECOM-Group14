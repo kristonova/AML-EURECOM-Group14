{
 "cells": [
  {
   "cell_type": "markdown",
   "id": "34a6914d",
   "metadata": {},
   "source": [
    "# Sentiment Analysis – AML Group 14\n",
    "This notebook demonstrates an advanced sentiment analysis pipeline with enhancements in feature extraction and classification. It incorporates character n-grams, reduced neutral class weight, and a custom probability threshold for improved performance. The methodology aims to balance precision and recall across sentiment classes."
   ]
  },
  {
   "cell_type": "markdown",
   "id": "41b07737",
   "metadata": {},
   "source": [
    "## 1. Install / import\n",
    "\n",
    "This section ensures the installation and import of all required libraries for data preprocessing, feature extraction, and model training. Libraries such as `scikit-learn`, `nltk`, and `transformers` are utilized for their robust NLP capabilities. The setup facilitates a seamless workflow for sentiment analysis tasks."
   ]
  },
  {
   "cell_type": "code",
   "execution_count": 1,
   "id": "b3eee95c",
   "metadata": {},
   "outputs": [
    {
     "name": "stderr",
     "output_type": "stream",
     "text": [
      "/Users/mymac/Library/Python/3.9/lib/python/site-packages/urllib3/__init__.py:35: NotOpenSSLWarning: urllib3 v2 only supports OpenSSL 1.1.1+, currently the 'ssl' module is compiled with 'LibreSSL 2.8.3'. See: https://github.com/urllib3/urllib3/issues/3020\n",
      "  warnings.warn(\n"
     ]
    }
   ],
   "source": [
    "# Install required libraries\n",
    "# !pip install -q scikit-learn pandas nltk joblib vaderSentiment transformers datasets torch matplotlib\n",
    "\n",
    "# Import libraries\n",
    "import pandas as pd, numpy as np, re, joblib, matplotlib.pyplot as plt, warnings\n",
    "import nltk\n",
    "from nltk.corpus import stopwords\n",
    "from vaderSentiment.vaderSentiment import SentimentIntensityAnalyzer\n",
    "from sklearn.model_selection import train_test_split, StratifiedKFold, GridSearchCV\n",
    "from sklearn.feature_extraction.text import TfidfVectorizer\n",
    "from sklearn.pipeline import FeatureUnion, Pipeline, make_pipeline\n",
    "from sklearn.linear_model import LogisticRegression\n",
    "from sklearn.metrics import classification_report, confusion_matrix, ConfusionMatrixDisplay, f1_score\n",
    "from sklearn.base import BaseEstimator, TransformerMixin\n",
    "from sklearn.svm import LinearSVC\n",
    "from sklearn.ensemble import VotingClassifier\n",
    "from scipy.sparse import hstack\n",
    "from transformers import BertTokenizer, BertForSequenceClassification, Trainer, TrainingArguments, pipeline\n",
    "from datasets import Dataset\n",
    "import torch\n",
    "import numpy as np\n",
    "from transformers import RobertaTokenizer, RobertaForSequenceClassification, TrainingArguments, Trainer\n",
    "\n",
    "# Suppress warnings\n",
    "warnings.filterwarnings('ignore')\n",
    "\n",
    "# Download NLTK stopwords\n",
    "nltk.download('stopwords', quiet=True)\n",
    "\n",
    "# Define constants\n",
    "STOP_WORDS = set(stopwords.words('english'))\n",
    "VADER = SentimentIntensityAnalyzer()\n",
    "NEG_TOKENS = {\"not\", \"no\", \"never\", \"n't\"}"
   ]
  },
  {
   "cell_type": "markdown",
   "id": "2f77cd71",
   "metadata": {},
   "source": [
    "## 2. Load data\n",
    "\n",
    "The dataset is loaded into a Pandas DataFrame for efficient manipulation and analysis. It is assumed to contain columns for the text (`text`) and its corresponding sentiment label (`sentiment`). This step ensures the data is in the correct format for subsequent preprocessing and modeling."
   ]
  },
  {
   "cell_type": "code",
   "execution_count": 2,
   "id": "65eeeee6",
   "metadata": {},
   "outputs": [],
   "source": [
    "df = pd.read_csv('dataset/train.csv')\n",
    "assert {'text','sentiment'}.issubset(df.columns)"
   ]
  },
  {
   "cell_type": "markdown",
   "id": "0ba5b89b",
   "metadata": {},
   "source": [
    "## 3. Pre‑processing with negation marking\n",
    "Text preprocessing is a critical step in natural language processing (NLP). This function removes URLs, mentions, hashtags, and non-alphabetic characters, while also marking negations to capture contextual polarity shifts. The goal is to reduce noise and enhance the quality of features for sentiment classification."
   ]
  },
  {
   "cell_type": "code",
   "execution_count": 3,
   "id": "fdae7a11",
   "metadata": {},
   "outputs": [],
   "source": [
    "def mark_negation(text):\n",
    "    tokens = text.split()\n",
    "    res, neg = [], False\n",
    "    for w in tokens:\n",
    "        lw = w.lower()\n",
    "        if lw in NEG_TOKENS:\n",
    "            neg = True\n",
    "            res.append(lw)\n",
    "            continue\n",
    "        if re.fullmatch(r'[.!?]', lw):\n",
    "            neg = False\n",
    "        res.append(('NEG_' if neg else '') + lw)\n",
    "    return ' '.join(res)\n",
    "\n",
    "def preprocess(text):\n",
    "    text = re.sub(r'http\\S+|@[\\w_]+|#[\\w_]+|[^A-Za-z\\s.!?]', ' ', str(text))\n",
    "    text = text.lower()\n",
    "    text = mark_negation(text)\n",
    "    tokens = [w for w in text.split() if w not in STOP_WORDS]\n",
    "    return ' '.join(tokens)\n",
    "\n",
    "df['clean_text'] = df['text'].map(preprocess)\n",
    "df['vader_comp'] = df['text'].map(lambda t: VADER.polarity_scores(t)['compound'])"
   ]
  },
  {
   "cell_type": "markdown",
   "id": "7b87ce05",
   "metadata": {},
   "source": [
    "## 4. Split\n",
    "The dataset is split into training, validation, and test sets using stratified sampling to preserve class distribution. This ensures that the model is trained and evaluated on representative data subsets. The split facilitates robust model evaluation and hyperparameter tuning."
   ]
  },
  {
   "cell_type": "code",
   "execution_count": 4,
   "id": "a0d0b1b7",
   "metadata": {},
   "outputs": [],
   "source": [
    "X_train_val, X_test, y_train_val, y_test = train_test_split(\n",
    "    df[['clean_text','vader_comp']], df['sentiment'], test_size=0.20,\n",
    "    stratify=df['sentiment'], random_state=42)\n",
    "X_train, X_val, y_train, y_val = train_test_split(\n",
    "    X_train_val, y_train_val, test_size=0.25, stratify=y_train_val, random_state=42)"
   ]
  },
  {
   "cell_type": "markdown",
   "id": "63c2b77c",
   "metadata": {},
   "source": [
    "## 5 Vectoriser & classifier\n",
    "\n",
    "TF-IDF vectorization transforms text into numerical features, capturing both word and character n-grams. These features are combined with VADER sentiment scores to enrich the input representation. A Logistic Regression classifier is employed for its simplicity and effectiveness in text classification tasks."
   ]
  },
  {
   "cell_type": "code",
   "execution_count": 5,
   "id": "25789c3d",
   "metadata": {},
   "outputs": [],
   "source": [
    "class TextSelector(BaseEstimator, TransformerMixin):\n",
    "    def __init__(self, key): self.key = key\n",
    "    def fit(self, X, y=None): return self\n",
    "    def transform(self, X): return X[self.key]\n",
    "\n",
    "class SparseVader(BaseEstimator, TransformerMixin):\n",
    "    def fit(self, X, y=None): return self\n",
    "    def transform(self, X): return X[['vader_comp']].values\n",
    "\n",
    "word_tf = TfidfVectorizer(analyzer='word', ngram_range=(1,3), min_df=1, max_df=0.9, sublinear_tf=True)\n",
    "char_tf = TfidfVectorizer(analyzer='char', ngram_range=(1,6), min_df=1, sublinear_tf=True)\n",
    "\n",
    "features = FeatureUnion([\n",
    "    ('word', make_pipeline(TextSelector('clean_text'), word_tf)),\n",
    "    ('char', make_pipeline(TextSelector('clean_text'), char_tf)),\n",
    "    ('vader', SparseVader())\n",
    "])\n",
    "\n",
    "clf = LogisticRegression(max_iter=1000, solver='liblinear',\n",
    "                         class_weight={'negative':1.0,'positive':1.0,'neutral':0.8},\n",
    "                         random_state=42)\n",
    "\n",
    "pipe = Pipeline([('features', features), ('clf', clf)])"
   ]
  },
  {
   "cell_type": "markdown",
   "id": "d8b1c8d6",
   "metadata": {},
   "source": [
    "## 6. Grid search C\n",
    "GridSearchCV is used to optimize the regularization parameter `C` for the Logistic Regression model. This process involves exhaustive search over specified parameter values using cross-validation. The goal is to identify the best hyperparameters that maximize the macro F1 score."
   ]
  },
  {
   "cell_type": "code",
   "execution_count": 6,
   "id": "a22955d4",
   "metadata": {},
   "outputs": [
    {
     "name": "stdout",
     "output_type": "stream",
     "text": [
      "Fitting 5 folds for each of 4 candidates, totalling 20 fits\n",
      "Best {'clf__C': 1.5} 0.7147152597352114\n"
     ]
    }
   ],
   "source": [
    "param_grid = {'clf__C':[0.5,1.0,1.5,2.0]}\n",
    "cv = StratifiedKFold(n_splits=5, shuffle=True, random_state=42)\n",
    "grid = GridSearchCV(pipe, param_grid, cv=cv, scoring='f1_macro', n_jobs=-1, verbose=1)\n",
    "grid.fit(X_train, y_train)\n",
    "print('Best', grid.best_params_, grid.best_score_)"
   ]
  },
  {
   "cell_type": "markdown",
   "id": "43b12a8e",
   "metadata": {},
   "source": [
    "## 7. Validation with 0.55 threshold\n",
    "\n",
    "The best model from GridSearchCV is evaluated on the validation set with a custom probability threshold. This threshold adjusts the classification decision boundary to improve the handling of the neutral class. Metrics such as precision, recall, and F1-score are computed for each class."
   ]
  },
  {
   "cell_type": "code",
   "execution_count": 7,
   "id": "6cc6fa9d",
   "metadata": {},
   "outputs": [
    {
     "name": "stdout",
     "output_type": "stream",
     "text": [
      "              precision    recall  f1-score   support\n",
      "\n",
      "    negative       0.78      0.62      0.69      1401\n",
      "     neutral       0.64      0.79      0.71      2004\n",
      "    positive       0.80      0.71      0.76      1542\n",
      "\n",
      "    accuracy                           0.72      4947\n",
      "   macro avg       0.74      0.71      0.72      4947\n",
      "weighted avg       0.73      0.72      0.72      4947\n",
      "\n"
     ]
    },
    {
     "data": {
      "image/png": "[encoded data removed]",
      "text/plain": [
       "<Figure size 640x480 with 2 Axes>"
      ]
     },
     "metadata": {},
     "output_type": "display_data"
    }
   ],
   "source": [
    "best = grid.best_estimator_\n",
    "val_proba = best.predict_proba(X_val)\n",
    "val_max = val_proba.max(1)\n",
    "val_pred = np.where(val_max < 0.55, 'neutral', best.classes_[val_proba.argmax(1)])\n",
    "print(classification_report(y_val, val_pred))\n",
    "ConfusionMatrixDisplay(confusion_matrix(y_val, val_pred), display_labels=best.classes_).plot(); plt.show()"
   ]
  },
  {
   "cell_type": "markdown",
   "id": "783e306c",
   "metadata": {},
   "source": [
    "## 8. Retrain on train+val & test evaluation\n",
    "\n",
    "The model is retrained on the combined training and validation sets to leverage all available labeled data. It is then evaluated on the test set to measure its final performance. The trained model is saved for future use and reproducibility."
   ]
  },
  {
   "cell_type": "code",
   "execution_count": 8,
   "id": "aad96b0a",
   "metadata": {},
   "outputs": [
    {
     "name": "stdout",
     "output_type": "stream",
     "text": [
      "              precision    recall  f1-score   support\n",
      "\n",
      "    negative       0.79      0.61      0.69      1401\n",
      "     neutral       0.65      0.80      0.71      2004\n",
      "    positive       0.81      0.73      0.77      1542\n",
      "\n",
      "    accuracy                           0.72      4947\n",
      "   macro avg       0.75      0.71      0.72      4947\n",
      "weighted avg       0.74      0.72      0.72      4947\n",
      "\n"
     ]
    },
    {
     "data": {
      "image/png": "[encoded data removed]",
      "text/plain": [
       "<Figure size 640x480 with 2 Axes>"
      ]
     },
     "metadata": {},
     "output_type": "display_data"
    },
    {
     "data": {
      "text/plain": [
       "['./sentiment_model_v3.pkl']"
      ]
     },
     "execution_count": 8,
     "metadata": {},
     "output_type": "execute_result"
    }
   ],
   "source": [
    "best.fit(pd.concat([X_train, X_val]), pd.concat([y_train, y_val]))\n",
    "test_proba = best.predict_proba(X_test)\n",
    "test_max = test_proba.max(1)\n",
    "y_test_pred = np.where(test_max < 0.55, 'neutral', best.classes_[test_proba.argmax(1)])\n",
    "print(classification_report(y_test, y_test_pred))\n",
    "ConfusionMatrixDisplay(confusion_matrix(y_test, y_test_pred), display_labels=best.classes_).plot(); plt.show()\n",
    "joblib.dump(best, './sentiment_model_v3.pkl')"
   ]
  },
  {
   "cell_type": "markdown",
   "id": "193e282a",
   "metadata": {},
   "source": [
    "## 9. Save error cases\n",
    "This step identifies and saves misclassified samples from the test set for error analysis. By examining these errors, insights can be gained into the model's weaknesses, such as handling ambiguous or noisy text. The results are saved in a CSV file for further inspection."
   ]
  },
  {
   "cell_type": "code",
   "execution_count": 11,
   "id": "236592c4",
   "metadata": {},
   "outputs": [
    {
     "data": {
      "application/vnd.microsoft.datawrangler.viewer.v0+json": {
       "columns": [
        {
         "name": "index",
         "rawType": "int64",
         "type": "integer"
        },
        {
         "name": "text",
         "rawType": "object",
         "type": "string"
        },
        {
         "name": "true",
         "rawType": "object",
         "type": "string"
        },
        {
         "name": "pred",
         "rawType": "object",
         "type": "string"
        }
       ],
       "ref": "1462118f-80d8-4cfa-bc41-9e5d52892e18",
       "rows": [
        [
         "4033",
         "aw sorry cat NEG_worries NEG_about NEG_the NEG_blankets NEG_i NEG_was NEG_just NEG_wondering NEG_i NEG_m NEG_in NEG_rush NEG_take NEG_your NEG_time!",
         "neutral",
         "negative"
        ],
        [
         "9167",
         "help jen monster energy drink crashing.",
         "negative",
         "neutral"
        ],
        [
         "8596",
         "picked boston legal season enjoying now. NEG_matter NEG_how NEG_offensive NEG_denny NEG_can NEG_be NEG_i NEG_love NEG_denny NEG_crane! NEG_he NEG_is NEG_a NEG_riot.",
         "positive",
         "neutral"
        ],
        [
         "8043",
         "good morning gents! ya today?",
         "neutral",
         "positive"
        ],
        [
         "4770",
         "sooo tired headache self inflicted course! good times though",
         "neutral",
         "negative"
        ]
       ],
       "shape": {
        "columns": 3,
        "rows": 5
       }
      },
      "text/html": [
       "<div>\n",
       "<style scoped>\n",
       "    .dataframe tbody tr th:only-of-type {\n",
       "        vertical-align: middle;\n",
       "    }\n",
       "\n",
       "    .dataframe tbody tr th {\n",
       "        vertical-align: top;\n",
       "    }\n",
       "\n",
       "    .dataframe thead th {\n",
       "        text-align: right;\n",
       "    }\n",
       "</style>\n",
       "<table border=\"1\" class=\"dataframe\">\n",
       "  <thead>\n",
       "    <tr style=\"text-align: right;\">\n",
       "      <th></th>\n",
       "      <th>text</th>\n",
       "      <th>true</th>\n",
       "      <th>pred</th>\n",
       "    </tr>\n",
       "  </thead>\n",
       "  <tbody>\n",
       "    <tr>\n",
       "      <th>4033</th>\n",
       "      <td>aw sorry cat NEG_worries NEG_about NEG_the NEG...</td>\n",
       "      <td>neutral</td>\n",
       "      <td>negative</td>\n",
       "    </tr>\n",
       "    <tr>\n",
       "      <th>9167</th>\n",
       "      <td>help jen monster energy drink crashing.</td>\n",
       "      <td>negative</td>\n",
       "      <td>neutral</td>\n",
       "    </tr>\n",
       "    <tr>\n",
       "      <th>8596</th>\n",
       "      <td>picked boston legal season enjoying now. NEG_m...</td>\n",
       "      <td>positive</td>\n",
       "      <td>neutral</td>\n",
       "    </tr>\n",
       "    <tr>\n",
       "      <th>8043</th>\n",
       "      <td>good morning gents! ya today?</td>\n",
       "      <td>neutral</td>\n",
       "      <td>positive</td>\n",
       "    </tr>\n",
       "    <tr>\n",
       "      <th>4770</th>\n",
       "      <td>sooo tired headache self inflicted course! goo...</td>\n",
       "      <td>neutral</td>\n",
       "      <td>negative</td>\n",
       "    </tr>\n",
       "  </tbody>\n",
       "</table>\n",
       "</div>"
      ],
      "text/plain": [
       "                                                   text      true      pred\n",
       "4033  aw sorry cat NEG_worries NEG_about NEG_the NEG...   neutral  negative\n",
       "9167            help jen monster energy drink crashing.  negative   neutral\n",
       "8596  picked boston legal season enjoying now. NEG_m...  positive   neutral\n",
       "8043                      good morning gents! ya today?   neutral  positive\n",
       "4770  sooo tired headache self inflicted course! goo...   neutral  negative"
      ]
     },
     "execution_count": 11,
     "metadata": {},
     "output_type": "execute_result"
    }
   ],
   "source": [
    "errors = pd.DataFrame({'text': X_test['clean_text'], 'true': y_test, 'pred': y_test_pred})\n",
    "errors = errors[errors.true != errors.pred]\n",
    "errors.to_csv('./results/sentiment_errors_v3.csv', index=False)\n",
    "errors.head()"
   ]
  },
  {
   "cell_type": "markdown",
   "id": "f4315323",
   "metadata": {},
   "source": [
    "## BONUS: detecting the relevant words"
   ]
  },
  {
   "cell_type": "code",
   "execution_count": 12,
   "id": "f8bb750c",
   "metadata": {},
   "outputs": [
    {
     "name": "stdout",
     "output_type": "stream",
     "text": [
      "Tweet: I really like this song\n",
      "Predicted sentiment: positive\n",
      "Relevant words contributing to sentiment: song really\n"
     ]
    }
   ],
   "source": [
    "def explain_tweet(tweet):\n",
    "    # Preprocess the tweet (using the already defined preprocess function)\n",
    "    clean = preprocess(tweet)\n",
    "    \n",
    "    # Retrieve the fitted word-level TF-IDF vectorizer from the sentiment pipeline.\n",
    "    word_vectorizer = best.named_steps['features'].transformer_list[0][1].named_steps['tfidfvectorizer']\n",
    "    analyzer = word_vectorizer.build_analyzer()\n",
    "    \n",
    "    # Tokenize the tweet using the vectorizer's analyzer.\n",
    "    tokens = analyzer(tweet)\n",
    "    \n",
    "    # Generate the TF-IDF vector for the tweet.\n",
    "    vec = word_vectorizer.transform([tweet])\n",
    "    \n",
    "    # Get VADER compound score for constructing the expected input.\n",
    "    vader_score = VADER.polarity_scores(tweet)['compound']\n",
    "    tweet_df = pd.DataFrame({'clean_text': [tweet], 'vader_comp': [vader_score]})\n",
    "    \n",
    "    # Predict sentiment using the pre-trained pipeline.\n",
    "    pred_label = best.predict(tweet_df)[0]\n",
    "    \n",
    "    # Get the logistic regression classifier and determine the index of the predicted label.\n",
    "    clf = best.named_steps['clf']\n",
    "    class_index = list(clf.classes_).index(pred_label)\n",
    "    coef = clf.coef_[class_index]  # Coefficients for the predicted class\n",
    "    \n",
    "    # Get the feature names from the TF-IDF vectorizer.\n",
    "    feature_names = word_vectorizer.get_feature_names_out()\n",
    "    \n",
    "    # Iterate over the non-zero TF-IDF features in the tweet and compute their contribution.\n",
    "    vec = vec.tocoo()\n",
    "    contributions = {}\n",
    "    for idx, tfidf_val in zip(vec.col, vec.data):\n",
    "        word = feature_names[idx]\n",
    "        contributions[word] = tfidf_val * coef[idx]\n",
    "        \n",
    "    # Filter to take only words that push the prediction (i.e. positive contribution).\n",
    "    relevant = {w: score for w, score in contributions.items() if score > 0}\n",
    "    # Sort the words by their contribution score (largest first).\n",
    "    sorted_relevant = sorted(relevant.items(), key=lambda x: x[1], reverse=True)\n",
    "    \n",
    "    # For demonstration, take the top 2 words as the most relevant ones.\n",
    "    top_words = [word for word, score in sorted_relevant][:2]\n",
    "    \n",
    "    print(\"Tweet:\", tweet)\n",
    "    print(\"Predicted sentiment:\", pred_label)\n",
    "    print(\"Relevant words contributing to sentiment:\", \" \".join(top_words))\n",
    "    \n",
    "# Example:\n",
    "tweet_example = 'I really like this song'\n",
    "explain_tweet(tweet_example)"
   ]
  },
  {
   "cell_type": "markdown",
   "id": "bfc7292c",
   "metadata": {},
   "source": [
    "## 10. Ensemble (SVM + LogReg + VADER)\n",
    "This section implements an ensemble model that combines predictions from SVM, Logistic Regression, and VADER sentiment scores. The final prediction is determined by majority voting. This approach aims to improve overall classification performance."
   ]
  },
  {
   "cell_type": "code",
   "execution_count": 13,
   "id": "d20b2474",
   "metadata": {},
   "outputs": [
    {
     "name": "stdout",
     "output_type": "stream",
     "text": [
      "              precision    recall  f1-score   support\n",
      "\n",
      "    negative       0.74      0.66      0.69      1401\n",
      "     neutral       0.68      0.71      0.70      2004\n",
      "    positive       0.76      0.80      0.78      1542\n",
      "\n",
      "    accuracy                           0.72      4947\n",
      "   macro avg       0.73      0.72      0.72      4947\n",
      "weighted avg       0.72      0.72      0.72      4947\n",
      "\n",
      "[[ 920  401   80]\n",
      " [ 278 1423  303]\n",
      " [  50  257 1235]]\n"
     ]
    },
    {
     "data": {
      "image/png": "[encoded data removed]",
      "text/plain": [
       "<Figure size 640x480 with 2 Axes>"
      ]
     },
     "metadata": {},
     "output_type": "display_data"
    }
   ],
   "source": [
    "# Ensure the SVM pipeline is defined, and fit it if it hasn't been fitted already.\n",
    "if 'svm' not in globals():\n",
    "    from sklearn.svm import LinearSVC\n",
    "    svm = Pipeline([\n",
    "        ('features', features),\n",
    "        ('clf', LinearSVC(class_weight='balanced', random_state=42))\n",
    "    ])\n",
    "svm.fit(X_train, y_train)\n",
    "\n",
    "# Ensure we have a fitted logistic regression model.\n",
    "# Here, we assign logreg to best (which was already fitted in previous cells).\n",
    "logreg = best\n",
    "\n",
    "# Define the missing vader_label function.\n",
    "def vader_label(text):\n",
    "    score = VADER.polarity_scores(text)['compound']\n",
    "    if score >= 0.55:\n",
    "        return 'positive'\n",
    "    elif score <= -0.55:\n",
    "        return 'negative'\n",
    "    else:\n",
    "        return 'neutral'\n",
    "\n",
    "# ======== 3. Prediksi dan ensembel ========\n",
    "def ensemble_predict(texts):\n",
    "    \"\"\"Majority-vote dari SVM, LogReg, VADER\"\"\"\n",
    "    p_svm   = svm.predict(texts)\n",
    "    p_log   = logreg.predict(texts)\n",
    "    # Apply vader_label to the 'clean_text' column of the dataframe.\n",
    "    p_vader = np.array([vader_label(t) for t in texts['clean_text']])\n",
    "\n",
    "    preds = []\n",
    "    for a, b, c in zip(p_svm, p_log, p_vader):\n",
    "        votes = [a, b, c]\n",
    "        # majority vote\n",
    "        maj = max(set(votes), key=votes.count)\n",
    "        if votes.count(maj) == 1:    # seri 1-1-1\n",
    "            maj = b                 # fallback ke Logistic (lebih kalibrasi)\n",
    "        preds.append(maj)\n",
    "    return np.array(preds)\n",
    "\n",
    "# ======== 4. Evaluasi ========\n",
    "from sklearn.metrics import classification_report, confusion_matrix\n",
    "y_pred = ensemble_predict(X_test)\n",
    "print(classification_report(y_test, y_pred))\n",
    "print(confusion_matrix(y_test, y_pred))\n",
    "ConfusionMatrixDisplay(confusion_matrix(y_test, y_pred), display_labels=logreg.classes_).plot(); plt.show()"
   ]
  },
  {
   "cell_type": "markdown",
   "id": "1a22bb15",
   "metadata": {},
   "source": [
    "## BONUS: Jaccard Coefficient"
   ]
  },
  {
   "cell_type": "code",
   "execution_count": 14,
   "id": "984d3aa4",
   "metadata": {},
   "outputs": [
    {
     "name": "stdout",
     "output_type": "stream",
     "text": [
      "Average Jaccard Coefficient: 0.18245612805218414\n"
     ]
    }
   ],
   "source": [
    "def jaccard(str1, str2):\n",
    "    a = set(str1.split())\n",
    "    b = set(str2.split())\n",
    "    union = a.union(b)\n",
    "    return len(a.intersection(b)) / len(union) if union else 0\n",
    "\n",
    "def predict_selected_words(tweet):\n",
    "    # Preprocess the tweet as already defined\n",
    "    clean = preprocess(tweet)\n",
    "    \n",
    "    # Retrieve the word-level TF-IDF vectorizer from the trained pipeline\n",
    "    word_vectorizer = best.named_steps['features'].transformer_list[0][1].named_steps['tfidfvectorizer']\n",
    "    \n",
    "    # Tokenize and vectorize the raw tweet text (not the cleaned version)\n",
    "    vec = word_vectorizer.transform([tweet])\n",
    "    \n",
    "    # Get the predicted sentiment label for the tweet\n",
    "    pred_label = best.predict(pd.DataFrame({'clean_text': [tweet], 'vader_comp': [VADER.polarity_scores(tweet)['compound']]}))[0]\n",
    "    clf = best.named_steps['clf']\n",
    "    class_index = list(clf.classes_).index(pred_label)\n",
    "    coef = clf.coef_[class_index]\n",
    "    \n",
    "    # Get feature names and compute contribution for each nonzero feature\n",
    "    feature_names = word_vectorizer.get_feature_names_out()\n",
    "    vec = vec.tocoo()\n",
    "    contributions = {}\n",
    "    for idx, tfidf_val in zip(vec.col, vec.data):\n",
    "        contributions[feature_names[idx]] = tfidf_val * coef[idx]\n",
    "    \n",
    "    # Select words that contribute positively (if any)\n",
    "    sorted_words = sorted(((w, score) for w, score in contributions.items() if score > 0), \n",
    "                          key=lambda x: x[1], reverse=True)\n",
    "    # For demonstration, we take the top 2 words as the predicted selected words.\n",
    "    top_words = [w for w, _ in sorted_words][:2]\n",
    "    return \" \".join(top_words)\n",
    "\n",
    "# Apply the prediction and compute the Jaccard overlap.\n",
    "# We use the full original dataframe \"df\" which contains the ground truth \"selected_text\".\n",
    "df['predicted_selected'] = df['text'].apply(predict_selected_words)\n",
    "df['jaccard'] = df.apply(lambda row: jaccard(row['predicted_selected'], row['selected_text']), axis=1)\n",
    "\n",
    "print(\"Average Jaccard Coefficient:\", df['jaccard'].mean())"
   ]
  },
  {
   "cell_type": "markdown",
   "id": "5cf9b680",
   "metadata": {},
   "source": [
    "## 11. Fine-tune BERT-base-uncased\n",
    "This section fine-tunes a pre-trained BERT model (`bert-base-uncased`) for sentiment analysis using the Hugging Face Transformers library. The model is trained on the processed dataset with class weights to handle imbalanced data. Fine-tuning allows the model to adapt to the specific sentiment classification task."
   ]
  },
  {
   "cell_type": "code",
   "execution_count": 11,
   "id": "d85f8051",
   "metadata": {},
   "outputs": [],
   "source": [
    "# Map labels\n",
    "label_map = {'negative': 0, 'neutral': 1, 'positive': 2}\n",
    "reverse_label_map = {v: k for k, v in label_map.items()}\n",
    "\n",
    "# Gunakan kolom clean_text (sudah preprocessing)\n",
    "hf_train = Dataset.from_pandas(\n",
    "    pd.concat([X_train['clean_text'], y_train], axis=1)\n",
    "      .rename(columns={'clean_text': 'text', 'sentiment': 'label'})\n",
    "      .replace({'label': label_map})\n",
    ")\n",
    "hf_val = Dataset.from_pandas(\n",
    "    pd.concat([X_val['clean_text'], y_val], axis=1)\n",
    "      .rename(columns={'clean_text': 'text', 'sentiment': 'label'})\n",
    "      .replace({'label': label_map})\n",
    ")\n",
    "hf_test = Dataset.from_pandas(\n",
    "    pd.concat([X_test['clean_text'], y_test], axis=1)\n",
    "      .rename(columns={'clean_text': 'text', 'sentiment': 'label'})\n",
    "      .replace({'label': label_map})\n",
    ")\n",
    "# "
   ]
  },
  {
   "cell_type": "code",
   "execution_count": 14,
   "id": "48f37c37",
   "metadata": {},
   "outputs": [
    {
     "data": {
      "application/vnd.jupyter.widget-view+json": {
       "model_id": "46ada68704d946fbabb15689362ec6fc",
       "version_major": 2,
       "version_minor": 0
      },
      "text/plain": [
       "Map:   0%|          | 0/14838 [00:00<?, ? examples/s]"
      ]
     },
     "metadata": {},
     "output_type": "display_data"
    },
    {
     "data": {
      "application/vnd.jupyter.widget-view+json": {
       "model_id": "f64c8075bd714d008f2fe96fce2c8b22",
       "version_major": 2,
       "version_minor": 0
      },
      "text/plain": [
       "Map:   0%|          | 0/4947 [00:00<?, ? examples/s]"
      ]
     },
     "metadata": {},
     "output_type": "display_data"
    },
    {
     "data": {
      "application/vnd.jupyter.widget-view+json": {
       "model_id": "64aae4ec0ce84682bf3673d99e5d0843",
       "version_major": 2,
       "version_minor": 0
      },
      "text/plain": [
       "Map:   0%|          | 0/4947 [00:00<?, ? examples/s]"
      ]
     },
     "metadata": {},
     "output_type": "display_data"
    }
   ],
   "source": [
    "# Tokenizer\n",
    "tokenizer = RobertaTokenizer.from_pretrained('cardiffnlp/twitter-roberta-base')\n",
    "def tokenize_function(example):\n",
    "    return tokenizer(example['text'], padding='max_length', truncation=True, max_length=128)\n",
    "hf_train = hf_train.map(tokenize_function, batched=True)\n",
    "hf_val = hf_val.map(tokenize_function, batched=True)\n",
    "hf_test = hf_test.map(tokenize_function, batched=True)\n",
    "\n",
    "hf_train.set_format(type='torch', columns=['input_ids', 'attention_mask', 'label'])\n",
    "hf_val.set_format(type='torch', columns=['input_ids', 'attention_mask', 'label'])\n",
    "# hf_test.set_format(type='torch', columns=['input_ids', 'attention_mask', 'label'])"
   ]
  },
  {
   "cell_type": "code",
   "execution_count": 15,
   "id": "0857eb00",
   "metadata": {},
   "outputs": [
    {
     "name": "stdout",
     "output_type": "stream",
     "text": [
      "Using device: cuda\n"
     ]
    }
   ],
   "source": [
    "#check GPU availability\n",
    "device = torch.device('cuda' if torch.cuda.is_available() else 'cpu')\n",
    "print(f\"Using device: {device}\")"
   ]
  },
  {
   "cell_type": "code",
   "execution_count": 16,
   "id": "100b6aa1",
   "metadata": {},
   "outputs": [
    {
     "name": "stderr",
     "output_type": "stream",
     "text": [
      "Some weights of RobertaForSequenceClassification were not initialized from the model checkpoint at cardiffnlp/twitter-roberta-base and are newly initialized: ['classifier.dense.bias', 'classifier.dense.weight', 'classifier.out_proj.bias', 'classifier.out_proj.weight']\n",
      "You should probably TRAIN this model on a down-stream task to be able to use it for predictions and inference.\n"
     ]
    },
    {
     "data": {
      "text/html": [
       "\n",
       "    <div>\n",
       "      \n",
       "      <progress value='4640' max='4640' style='width:300px; height:20px; vertical-align: middle;'></progress>\n",
       "      [4640/4640 06:58, Epoch 5/5]\n",
       "    </div>\n",
       "    <table border=\"1\" class=\"dataframe\">\n",
       "  <thead>\n",
       " <tr style=\"text-align: left;\">\n",
       "      <th>Step</th>\n",
       "      <th>Training Loss</th>\n",
       "    </tr>\n",
       "  </thead>\n",
       "  <tbody>\n",
       "    <tr>\n",
       "      <td>50</td>\n",
       "      <td>1.071700</td>\n",
       "    </tr>\n",
       "    <tr>\n",
       "      <td>100</td>\n",
       "      <td>0.839700</td>\n",
       "    </tr>\n",
       "    <tr>\n",
       "      <td>150</td>\n",
       "      <td>0.699400</td>\n",
       "    </tr>\n",
       "    <tr>\n",
       "      <td>200</td>\n",
       "      <td>0.679200</td>\n",
       "    </tr>\n",
       "    <tr>\n",
       "      <td>250</td>\n",
       "      <td>0.689900</td>\n",
       "    </tr>\n",
       "    <tr>\n",
       "      <td>300</td>\n",
       "      <td>0.663500</td>\n",
       "    </tr>\n",
       "    <tr>\n",
       "      <td>350</td>\n",
       "      <td>0.664300</td>\n",
       "    </tr>\n",
       "    <tr>\n",
       "      <td>400</td>\n",
       "      <td>0.635100</td>\n",
       "    </tr>\n",
       "    <tr>\n",
       "      <td>450</td>\n",
       "      <td>0.663800</td>\n",
       "    </tr>\n",
       "    <tr>\n",
       "      <td>500</td>\n",
       "      <td>0.654800</td>\n",
       "    </tr>\n",
       "    <tr>\n",
       "      <td>550</td>\n",
       "      <td>0.594700</td>\n",
       "    </tr>\n",
       "    <tr>\n",
       "      <td>600</td>\n",
       "      <td>0.611000</td>\n",
       "    </tr>\n",
       "    <tr>\n",
       "      <td>650</td>\n",
       "      <td>0.585700</td>\n",
       "    </tr>\n",
       "    <tr>\n",
       "      <td>700</td>\n",
       "      <td>0.605500</td>\n",
       "    </tr>\n",
       "    <tr>\n",
       "      <td>750</td>\n",
       "      <td>0.572800</td>\n",
       "    </tr>\n",
       "    <tr>\n",
       "      <td>800</td>\n",
       "      <td>0.598000</td>\n",
       "    </tr>\n",
       "    <tr>\n",
       "      <td>850</td>\n",
       "      <td>0.551500</td>\n",
       "    </tr>\n",
       "    <tr>\n",
       "      <td>900</td>\n",
       "      <td>0.599400</td>\n",
       "    </tr>\n",
       "    <tr>\n",
       "      <td>950</td>\n",
       "      <td>0.505500</td>\n",
       "    </tr>\n",
       "    <tr>\n",
       "      <td>1000</td>\n",
       "      <td>0.520700</td>\n",
       "    </tr>\n",
       "    <tr>\n",
       "      <td>1050</td>\n",
       "      <td>0.453500</td>\n",
       "    </tr>\n",
       "    <tr>\n",
       "      <td>1100</td>\n",
       "      <td>0.475000</td>\n",
       "    </tr>\n",
       "    <tr>\n",
       "      <td>1150</td>\n",
       "      <td>0.497700</td>\n",
       "    </tr>\n",
       "    <tr>\n",
       "      <td>1200</td>\n",
       "      <td>0.500100</td>\n",
       "    </tr>\n",
       "    <tr>\n",
       "      <td>1250</td>\n",
       "      <td>0.459300</td>\n",
       "    </tr>\n",
       "    <tr>\n",
       "      <td>1300</td>\n",
       "      <td>0.476600</td>\n",
       "    </tr>\n",
       "    <tr>\n",
       "      <td>1350</td>\n",
       "      <td>0.409900</td>\n",
       "    </tr>\n",
       "    <tr>\n",
       "      <td>1400</td>\n",
       "      <td>0.488000</td>\n",
       "    </tr>\n",
       "    <tr>\n",
       "      <td>1450</td>\n",
       "      <td>0.458100</td>\n",
       "    </tr>\n",
       "    <tr>\n",
       "      <td>1500</td>\n",
       "      <td>0.513600</td>\n",
       "    </tr>\n",
       "    <tr>\n",
       "      <td>1550</td>\n",
       "      <td>0.462100</td>\n",
       "    </tr>\n",
       "    <tr>\n",
       "      <td>1600</td>\n",
       "      <td>0.510200</td>\n",
       "    </tr>\n",
       "    <tr>\n",
       "      <td>1650</td>\n",
       "      <td>0.472200</td>\n",
       "    </tr>\n",
       "    <tr>\n",
       "      <td>1700</td>\n",
       "      <td>0.460400</td>\n",
       "    </tr>\n",
       "    <tr>\n",
       "      <td>1750</td>\n",
       "      <td>0.487600</td>\n",
       "    </tr>\n",
       "    <tr>\n",
       "      <td>1800</td>\n",
       "      <td>0.504800</td>\n",
       "    </tr>\n",
       "    <tr>\n",
       "      <td>1850</td>\n",
       "      <td>0.439600</td>\n",
       "    </tr>\n",
       "    <tr>\n",
       "      <td>1900</td>\n",
       "      <td>0.411100</td>\n",
       "    </tr>\n",
       "    <tr>\n",
       "      <td>1950</td>\n",
       "      <td>0.347300</td>\n",
       "    </tr>\n",
       "    <tr>\n",
       "      <td>2000</td>\n",
       "      <td>0.381800</td>\n",
       "    </tr>\n",
       "    <tr>\n",
       "      <td>2050</td>\n",
       "      <td>0.357900</td>\n",
       "    </tr>\n",
       "    <tr>\n",
       "      <td>2100</td>\n",
       "      <td>0.336600</td>\n",
       "    </tr>\n",
       "    <tr>\n",
       "      <td>2150</td>\n",
       "      <td>0.332200</td>\n",
       "    </tr>\n",
       "    <tr>\n",
       "      <td>2200</td>\n",
       "      <td>0.356600</td>\n",
       "    </tr>\n",
       "    <tr>\n",
       "      <td>2250</td>\n",
       "      <td>0.389000</td>\n",
       "    </tr>\n",
       "    <tr>\n",
       "      <td>2300</td>\n",
       "      <td>0.316500</td>\n",
       "    </tr>\n",
       "    <tr>\n",
       "      <td>2350</td>\n",
       "      <td>0.365600</td>\n",
       "    </tr>\n",
       "    <tr>\n",
       "      <td>2400</td>\n",
       "      <td>0.356900</td>\n",
       "    </tr>\n",
       "    <tr>\n",
       "      <td>2450</td>\n",
       "      <td>0.361600</td>\n",
       "    </tr>\n",
       "    <tr>\n",
       "      <td>2500</td>\n",
       "      <td>0.379200</td>\n",
       "    </tr>\n",
       "    <tr>\n",
       "      <td>2550</td>\n",
       "      <td>0.361600</td>\n",
       "    </tr>\n",
       "    <tr>\n",
       "      <td>2600</td>\n",
       "      <td>0.413600</td>\n",
       "    </tr>\n",
       "    <tr>\n",
       "      <td>2650</td>\n",
       "      <td>0.361800</td>\n",
       "    </tr>\n",
       "    <tr>\n",
       "      <td>2700</td>\n",
       "      <td>0.372800</td>\n",
       "    </tr>\n",
       "    <tr>\n",
       "      <td>2750</td>\n",
       "      <td>0.355200</td>\n",
       "    </tr>\n",
       "    <tr>\n",
       "      <td>2800</td>\n",
       "      <td>0.339100</td>\n",
       "    </tr>\n",
       "    <tr>\n",
       "      <td>2850</td>\n",
       "      <td>0.329000</td>\n",
       "    </tr>\n",
       "    <tr>\n",
       "      <td>2900</td>\n",
       "      <td>0.279800</td>\n",
       "    </tr>\n",
       "    <tr>\n",
       "      <td>2950</td>\n",
       "      <td>0.263300</td>\n",
       "    </tr>\n",
       "    <tr>\n",
       "      <td>3000</td>\n",
       "      <td>0.249200</td>\n",
       "    </tr>\n",
       "    <tr>\n",
       "      <td>3050</td>\n",
       "      <td>0.221500</td>\n",
       "    </tr>\n",
       "    <tr>\n",
       "      <td>3100</td>\n",
       "      <td>0.260500</td>\n",
       "    </tr>\n",
       "    <tr>\n",
       "      <td>3150</td>\n",
       "      <td>0.305900</td>\n",
       "    </tr>\n",
       "    <tr>\n",
       "      <td>3200</td>\n",
       "      <td>0.279000</td>\n",
       "    </tr>\n",
       "    <tr>\n",
       "      <td>3250</td>\n",
       "      <td>0.257900</td>\n",
       "    </tr>\n",
       "    <tr>\n",
       "      <td>3300</td>\n",
       "      <td>0.241300</td>\n",
       "    </tr>\n",
       "    <tr>\n",
       "      <td>3350</td>\n",
       "      <td>0.263800</td>\n",
       "    </tr>\n",
       "    <tr>\n",
       "      <td>3400</td>\n",
       "      <td>0.251400</td>\n",
       "    </tr>\n",
       "    <tr>\n",
       "      <td>3450</td>\n",
       "      <td>0.249500</td>\n",
       "    </tr>\n",
       "    <tr>\n",
       "      <td>3500</td>\n",
       "      <td>0.238100</td>\n",
       "    </tr>\n",
       "    <tr>\n",
       "      <td>3550</td>\n",
       "      <td>0.276000</td>\n",
       "    </tr>\n",
       "    <tr>\n",
       "      <td>3600</td>\n",
       "      <td>0.322900</td>\n",
       "    </tr>\n",
       "    <tr>\n",
       "      <td>3650</td>\n",
       "      <td>0.254200</td>\n",
       "    </tr>\n",
       "    <tr>\n",
       "      <td>3700</td>\n",
       "      <td>0.316400</td>\n",
       "    </tr>\n",
       "    <tr>\n",
       "      <td>3750</td>\n",
       "      <td>0.185500</td>\n",
       "    </tr>\n",
       "    <tr>\n",
       "      <td>3800</td>\n",
       "      <td>0.208300</td>\n",
       "    </tr>\n",
       "    <tr>\n",
       "      <td>3850</td>\n",
       "      <td>0.207600</td>\n",
       "    </tr>\n",
       "    <tr>\n",
       "      <td>3900</td>\n",
       "      <td>0.216500</td>\n",
       "    </tr>\n",
       "    <tr>\n",
       "      <td>3950</td>\n",
       "      <td>0.290400</td>\n",
       "    </tr>\n",
       "    <tr>\n",
       "      <td>4000</td>\n",
       "      <td>0.240000</td>\n",
       "    </tr>\n",
       "    <tr>\n",
       "      <td>4050</td>\n",
       "      <td>0.223500</td>\n",
       "    </tr>\n",
       "    <tr>\n",
       "      <td>4100</td>\n",
       "      <td>0.187200</td>\n",
       "    </tr>\n",
       "    <tr>\n",
       "      <td>4150</td>\n",
       "      <td>0.252500</td>\n",
       "    </tr>\n",
       "    <tr>\n",
       "      <td>4200</td>\n",
       "      <td>0.180100</td>\n",
       "    </tr>\n",
       "    <tr>\n",
       "      <td>4250</td>\n",
       "      <td>0.153700</td>\n",
       "    </tr>\n",
       "    <tr>\n",
       "      <td>4300</td>\n",
       "      <td>0.148400</td>\n",
       "    </tr>\n",
       "    <tr>\n",
       "      <td>4350</td>\n",
       "      <td>0.197200</td>\n",
       "    </tr>\n",
       "    <tr>\n",
       "      <td>4400</td>\n",
       "      <td>0.247800</td>\n",
       "    </tr>\n",
       "    <tr>\n",
       "      <td>4450</td>\n",
       "      <td>0.224200</td>\n",
       "    </tr>\n",
       "    <tr>\n",
       "      <td>4500</td>\n",
       "      <td>0.246200</td>\n",
       "    </tr>\n",
       "    <tr>\n",
       "      <td>4550</td>\n",
       "      <td>0.202800</td>\n",
       "    </tr>\n",
       "    <tr>\n",
       "      <td>4600</td>\n",
       "      <td>0.223300</td>\n",
       "    </tr>\n",
       "  </tbody>\n",
       "</table><p>"
      ],
      "text/plain": [
       "<IPython.core.display.HTML object>"
      ]
     },
     "metadata": {},
     "output_type": "display_data"
    },
    {
     "data": {
      "text/plain": [
       "TrainOutput(global_step=4640, training_loss=0.3964031755924225, metrics={'train_runtime': 423.414, 'train_samples_per_second': 175.219, 'train_steps_per_second': 10.959, 'total_flos': 4880096115310080.0, 'train_loss': 0.3964031755924225, 'epoch': 5.0})"
      ]
     },
     "execution_count": 16,
     "metadata": {},
     "output_type": "execute_result"
    }
   ],
   "source": [
    "# Model\n",
    "#device = torch.device(\"cuda\" if torch.cuda.is_available() else \"cpu\")\n",
    "model = RobertaForSequenceClassification.from_pretrained('cardiffnlp/twitter-roberta-base', num_labels=3).to(device)\n",
    "\n",
    "# Class weights\n",
    "class_counts = y_train.map(label_map).value_counts().sort_index().values\n",
    "weights = torch.tensor(1.0 / class_counts, dtype=torch.float).to(device)\n",
    "loss_fn = torch.nn.CrossEntropyLoss(weight=weights)\n",
    "\n",
    "# Custom Trainer untuk menggunakan weighted loss\n",
    "from transformers import TrainerCallback\n",
    "class WeightedLossTrainer(Trainer):\n",
    "    def compute_loss(self, model, inputs, return_outputs=False, **kwargs):\n",
    "        labels = inputs.get(\"labels\")\n",
    "        outputs = model(**inputs)\n",
    "        logits = outputs.get(\"logits\")\n",
    "        loss = loss_fn(logits, labels)\n",
    "        return (loss, outputs) if return_outputs else loss\n",
    "\n",
    "# TrainingArguments\n",
    "training_args = TrainingArguments(\n",
    "    output_dir='./results',\n",
    "    learning_rate=2e-5,\n",
    "    per_device_train_batch_size=16,\n",
    "    per_device_eval_batch_size=32,\n",
    "    num_train_epochs=5,\n",
    "    weight_decay=0.01,\n",
    "    #evaluation_strategy=\"epoch\",\n",
    "    save_strategy=\"no\",\n",
    "    logging_dir='./logs',\n",
    "    logging_steps=50,\n",
    "    do_train=True,\n",
    "    do_eval=True\n",
    ")\n",
    "\n",
    "# Custom metric dengan F1 macro\n",
    "def compute_metrics(eval_pred):\n",
    "    logits, labels = eval_pred\n",
    "    preds = np.argmax(logits, axis=1)\n",
    "    return {\n",
    "        'accuracy': (preds == labels).mean(),\n",
    "        'f1_macro': f1_score(labels, preds, average='macro')\n",
    "    }\n",
    "\n",
    "trainer = WeightedLossTrainer(\n",
    "    model=model,\n",
    "    args=training_args,\n",
    "    train_dataset=hf_train,\n",
    "    eval_dataset=hf_val,\n",
    "    tokenizer=tokenizer,\n",
    "    compute_metrics=compute_metrics\n",
    ")\n",
    "\n",
    "# Train\n",
    "trainer.train()"
   ]
  },
  {
   "cell_type": "code",
   "execution_count": 17,
   "id": "d8ec4c5f",
   "metadata": {},
   "outputs": [
    {
     "data": {
      "text/html": [],
      "text/plain": [
       "<IPython.core.display.HTML object>"
      ]
     },
     "metadata": {},
     "output_type": "display_data"
    },
    {
     "name": "stdout",
     "output_type": "stream",
     "text": [
      "Test Results: {'eval_loss': 0.9076476097106934, 'eval_accuracy': 0.7638973115019203, 'eval_f1_macro': 0.7667653827268955, 'eval_runtime': 7.7825, 'eval_samples_per_second': 635.657, 'eval_steps_per_second': 19.916, 'epoch': 5.0}\n"
     ]
    },
    {
     "data": {
      "text/plain": [
       "('./bert_sentiment_model/tokenizer_config.json',\n",
       " './bert_sentiment_model/special_tokens_map.json',\n",
       " './bert_sentiment_model/vocab.json',\n",
       " './bert_sentiment_model/merges.txt',\n",
       " './bert_sentiment_model/added_tokens.json')"
      ]
     },
     "execution_count": 17,
     "metadata": {},
     "output_type": "execute_result"
    }
   ],
   "source": [
    "# Evaluate on the test set\n",
    "test_results = trainer.evaluate(hf_test)\n",
    "print(\"Test Results:\", test_results)\n",
    "\n",
    "# Save the fine-tuned model\n",
    "model.save_pretrained('./bert_sentiment_model')\n",
    "tokenizer.save_pretrained('./bert_sentiment_model')"
   ]
  },
  {
   "cell_type": "markdown",
   "id": "a5269fbf",
   "metadata": {},
   "source": [
    "## 12. Predict with Fine-tuned BERT\n",
    "The fine-tuned BERT model is used to predict sentiments on the test set. Predictions are compared with ground truth labels to evaluate the model's performance. Metrics such as accuracy and F1-score are computed to assess the effectiveness of the fine-tuned model."
   ]
  },
  {
   "cell_type": "code",
   "execution_count": 18,
   "id": "3a3e98ae",
   "metadata": {},
   "outputs": [
    {
     "name": "stderr",
     "output_type": "stream",
     "text": [
      "Device set to use cuda:0\n"
     ]
    },
    {
     "name": "stdout",
     "output_type": "stream",
     "text": [
      "              precision    recall  f1-score   support\n",
      "\n",
      "           0       0.75      0.77      0.76      1401\n",
      "           1       0.74      0.71      0.73      2004\n",
      "           2       0.80      0.83      0.81      1542\n",
      "\n",
      "    accuracy                           0.76      4947\n",
      "   macro avg       0.76      0.77      0.77      4947\n",
      "weighted avg       0.76      0.76      0.76      4947\n",
      "\n"
     ]
    },
    {
     "data": {
      "image/png": "[encoded data removed]",
      "text/plain": [
       "<Figure size 640x480 with 2 Axes>"
      ]
     },
     "metadata": {},
     "output_type": "display_data"
    }
   ],
   "source": [
    "# Load the fine-tuned model\n",
    "from transformers import pipeline\n",
    "bert_pipeline = pipeline('text-classification', model='./bert_sentiment_model', tokenizer='./bert_sentiment_model', return_all_scores=True)\n",
    "\n",
    "# Predict sentiments\n",
    "bert_preds = [\n",
    "\t[k for k, v in label_map.items() if v == np.argmax([x['score'] for x in preds])][0]\n",
    "\tfor preds in bert_pipeline(X_test['clean_text'].tolist())\n",
    "]\n",
    "\n",
    "# Evaluate predictions by mapping predicted labels to numeric values\n",
    "bert_preds_mapped = [label_map[p] for p in bert_preds]\n",
    "print(classification_report(y_test.map(label_map), bert_preds_mapped))\n",
    "ConfusionMatrixDisplay(confusion_matrix(y_test.map(label_map), bert_preds_mapped), display_labels=list(label_map.keys())).plot(); plt.show()"
   ]
  },
  {
   "cell_type": "code",
   "execution_count": 19,
   "id": "aa1fe2e8-b750-494b-b51c-376262089cc0",
   "metadata": {},
   "outputs": [
    {
     "name": "stdout",
     "output_type": "stream",
     "text": [
      "              precision    recall  f1-score   support\n",
      "\n",
      "    negative       0.76      0.76      0.76      1401\n",
      "     neutral       0.74      0.72      0.73      2004\n",
      "    positive       0.81      0.82      0.81      1542\n",
      "\n",
      "    accuracy                           0.77      4947\n",
      "   macro avg       0.77      0.77      0.77      4947\n",
      "weighted avg       0.77      0.77      0.77      4947\n",
      "\n"
     ]
    }
   ],
   "source": [
    "# Predict on test set with threshold for 'neutral'\n",
    "logits = trainer.predict(hf_test).predictions\n",
    "probs = torch.nn.functional.softmax(torch.tensor(logits), dim=1).numpy()\n",
    "preds = np.argmax(probs, axis=1)\n",
    "max_scores = probs.max(axis=1)\n",
    "final_preds = np.where(max_scores < 0.55, 1, preds)  # 1 = neutral\n",
    "\n",
    "# Evaluate\n",
    "print(classification_report(hf_test['label'], final_preds, target_names=label_map.keys()))\n",
    "#ConfusionMatrixDisplay(confusion_matrix(hf_test.map(label_map), final_preds), display_labels=list(label_map.keys())).plot(); plt.show()"
   ]
  }
 ],
 "metadata": {
  "kernelspec": {
   "display_name": "Python 3",
   "language": "python",
   "name": "python3"
  },
  "language_info": {
   "codemirror_mode": {
    "name": "ipython",
    "version": 3
   },
   "file_extension": ".py",
   "mimetype": "text/x-python",
   "name": "python",
   "nbconvert_exporter": "python",
   "pygments_lexer": "ipython3",
   "version": "3.9.6"
  }
 },
 "nbformat": 4,
 "nbformat_minor": 5
}
