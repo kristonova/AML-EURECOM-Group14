{
 "cells": [
  {
   "cell_type": "markdown",
   "id": "16e5bae5",
   "metadata": {},
   "source": [
    "# Import Required Libraries\n",
    "This section imports the necessary libraries for data processing and model building."
   ]
  },
  {
   "cell_type": "code",
   "execution_count": 24,
   "id": "12194832",
   "metadata": {},
   "outputs": [],
   "source": [
    "import os\n",
    "import pandas as pd\n",
    "import numpy as np\n",
    "\n",
    "import tensorflow as tf\n",
    "from tensorflow.keras.preprocessing.image import ImageDataGenerator\n",
    "from tensorflow.keras.models import Sequential\n",
    "from tensorflow.keras.layers import Conv2D, MaxPooling2D, Flatten, Dense, Dropout"
   ]
  },
  {
   "cell_type": "markdown",
   "id": "49763be6",
   "metadata": {},
   "source": [
    "# 1) Read CSV Data\n",
    "Load the training data from the CSV file and display basic information."
   ]
  },
  {
   "cell_type": "code",
   "execution_count": 30,
   "id": "5e424a11",
   "metadata": {},
   "outputs": [
    {
     "name": "stdout",
     "output_type": "stream",
     "text": [
      "Number of labeled data: 17500\n",
      "                                         id  has_cactus\n",
      "0      0004be2cfeaba1c0361d39e2b000257b.jpg           1\n",
      "1      000c8a36845c0208e833c79c1bffedd1.jpg           1\n",
      "2      000d1e9a533f62e55c289303b072733d.jpg           1\n",
      "3      0011485b40695e9138e92d0b3fb55128.jpg           1\n",
      "4      0014d7a11e90b62848904c1418fc8cf2.jpg           1\n",
      "...                                     ...         ...\n",
      "17495  ffede47a74e47a5930f81c0b6896479e.jpg           0\n",
      "17496  ffef6382a50d23251d4bc05519c91037.jpg           1\n",
      "17497  fff059ecc91b30be5745e8b81111dc7b.jpg           1\n",
      "17498  fff43acb3b7a23edcc4ae937be2b7522.jpg           0\n",
      "17499  fffd9e9b990eba07c836745d8aef1a3a.jpg           1\n",
      "\n",
      "[17500 rows x 2 columns]\n"
     ]
    }
   ],
   "source": [
    "labeled_df = pd.read_csv(\"archive/train.csv\")\n",
    "\n",
    "# The 'id' column contains image file names, e.g., \"00000.jpg\"\n",
    "# The 'has_cactus' column contains 0 or 1 (label)\n",
    "\n",
    "print(\"Number of labeled data:\", len(labeled_df))\n",
    "print(labeled_df)"
   ]
  },
  {
   "cell_type": "markdown",
   "id": "5704eb02",
   "metadata": {},
   "source": [
    "Check for class unbalance:"
   ]
  },
  {
   "cell_type": "code",
   "execution_count": 31,
   "id": "8085a738",
   "metadata": {},
   "outputs": [
    {
     "data": {
      "text/plain": [
       "1    13136\n",
       "0     4364\n",
       "Name: has_cactus, dtype: int64"
      ]
     },
     "execution_count": 31,
     "metadata": {},
     "output_type": "execute_result"
    }
   ],
   "source": [
    "labeled_df['has_cactus'].value_counts()"
   ]
  },
  {
   "cell_type": "markdown",
   "id": "028e9415",
   "metadata": {},
   "source": [
    "# 2) Prepare Train & Validation Split\n",
    "Split the dataset into training and validation sets for model evaluation."
   ]
  },
  {
   "cell_type": "code",
   "execution_count": 36,
   "id": "c9b55ac5",
   "metadata": {},
   "outputs": [
    {
     "name": "stdout",
     "output_type": "stream",
     "text": [
      "Train size: 10500, Temporary size: 7000,\n",
      "Validation size: 3500, Test size: 3500,\n"
     ]
    }
   ],
   "source": [
    "from sklearn.model_selection import train_test_split\n",
    "\n",
    "train_df, temp_df = train_test_split(\n",
    "    labeled_df,\n",
    "    test_size=0.4,\n",
    "    random_state=42,\n",
    "    stratify=labeled_df[\"has_cactus\"]\n",
    ")\n",
    "\n",
    "print(f\"Train size: {len(train_df)}, Temporary size: {len(temp_df)},\")\n",
    "\n",
    "validation_df, test_df = train_test_split(\n",
    "    temp_df, test_size=0.5, random_state=42, stratify=temp_df[\"has_cactus\"]\n",
    ")\n",
    "\n",
    "print(f\"Validation size: {len(validation_df)}, Test size: {len(test_df)},\")"
   ]
  },
  {
   "cell_type": "markdown",
   "id": "56959368",
   "metadata": {},
   "source": [
    "# 3) Image Data Generator\n",
    "Use `ImageDataGenerator` for data augmentation and loading images from directories."
   ]
  },
  {
   "cell_type": "code",
   "execution_count": 37,
   "id": "fc2fe3d3",
   "metadata": {},
   "outputs": [
    {
     "name": "stdout",
     "output_type": "stream",
     "text": [
      "Found 10500 validated image filenames.\n",
      "Found 3500 validated image filenames.\n",
      "Found 3500 validated image filenames.\n"
     ]
    }
   ],
   "source": [
    "# Create the ImageDataGenerator objects that will be used to load the images\n",
    "train_datagen = ImageDataGenerator(rescale=1./255)\n",
    "val_datagen = ImageDataGenerator(rescale=1./255)\n",
    "test_datagen = ImageDataGenerator(rescale=1./255)\n",
    "\n",
    "# Path to train images folder\n",
    "train_dir = \"archive/train/train/\"\n",
    "# path to test images folder\n",
    "test_dir = \"archive/test/test/\"\n",
    "\n",
    "train_generator = train_datagen.flow_from_dataframe(\n",
    "    dataframe=train_df,\n",
    "    directory=train_dir,\n",
    "    x_col='id',\n",
    "    y_col='has_cactus',\n",
    "    target_size=(32, 32),   # image size\n",
    "    batch_size=32,\n",
    "    class_mode='raw',       # since our labels are 0/1, choose 'raw'\n",
    "    shuffle=True\n",
    ")\n",
    "\n",
    "val_generator = val_datagen.flow_from_dataframe(\n",
    "    dataframe=validation_df,\n",
    "    directory=train_dir,\n",
    "    x_col='id',\n",
    "    y_col='has_cactus',\n",
    "    target_size=(32, 32),\n",
    "    batch_size=32,\n",
    "    class_mode='raw',\n",
    "    shuffle=False\n",
    ")\n",
    "\n",
    "test_generator = test_datagen.flow_from_dataframe(\n",
    "    dataframe=test_df,\n",
    "    directory=train_dir,\n",
    "    x_col=\"id\",\n",
    "    y_col=\"has_cactus\",\n",
    "    target_size=(32, 32),\n",
    "    batch_size=32,\n",
    "    class_mode=\"raw\",\n",
    "    shuffle=False,\n",
    ")"
   ]
  },
  {
   "cell_type": "markdown",
   "id": "058ca227",
   "metadata": {},
   "source": [
    "# 4) Build a Simple CNN Model\n",
    "Define and compile a Convolutional Neural Network (CNN) model."
   ]
  },
  {
   "cell_type": "code",
   "execution_count": 15,
   "id": "996a6d49",
   "metadata": {},
   "outputs": [
    {
     "name": "stdout",
     "output_type": "stream",
     "text": [
      "Model: \"sequential_1\"\n",
      "_________________________________________________________________\n",
      " Layer (type)                Output Shape              Param #   \n",
      "=================================================================\n",
      " conv2d_2 (Conv2D)           (None, 30, 30, 32)        896       \n",
      "                                                                 \n",
      " max_pooling2d_2 (MaxPoolin  (None, 15, 15, 32)        0         \n",
      " g2D)                                                            \n",
      "                                                                 \n",
      " conv2d_3 (Conv2D)           (None, 13, 13, 64)        18496     \n",
      "                                                                 \n",
      " max_pooling2d_3 (MaxPoolin  (None, 6, 6, 64)          0         \n",
      " g2D)                                                            \n",
      "                                                                 \n",
      " flatten_1 (Flatten)         (None, 2304)              0         \n",
      "                                                                 \n",
      " dense_2 (Dense)             (None, 64)                147520    \n",
      "                                                                 \n",
      " dropout_1 (Dropout)         (None, 64)                0         \n",
      "                                                                 \n",
      " dense_3 (Dense)             (None, 1)                 65        \n",
      "                                                                 \n",
      "=================================================================\n",
      "Total params: 166977 (652.25 KB)\n",
      "Trainable params: 166977 (652.25 KB)\n",
      "Non-trainable params: 0 (0.00 Byte)\n",
      "_________________________________________________________________\n"
     ]
    }
   ],
   "source": [
    "model = Sequential([\n",
    "    Conv2D(32, (3,3), activation='relu', input_shape=(32, 32, 3)),\n",
    "    MaxPooling2D((2,2)),\n",
    "\n",
    "    Conv2D(64, (3,3), activation='relu'),\n",
    "    MaxPooling2D((2,2)),\n",
    "\n",
    "    Flatten(),\n",
    "    Dense(64, activation='relu'),\n",
    "    Dropout(0.3),\n",
    "    Dense(1, activation='sigmoid')  # output 0/1\n",
    "])\n",
    "\n",
    "model.compile(\n",
    "    optimizer='adam',\n",
    "    loss='binary_crossentropy',\n",
    "    metrics=['accuracy']\n",
    ")\n",
    "\n",
    "model.summary()"
   ]
  },
  {
   "cell_type": "markdown",
   "id": "801befa1",
   "metadata": {},
   "source": [
    "# 5) Training\n",
    "Train the model for a specified number of epochs."
   ]
  },
  {
   "cell_type": "code",
   "execution_count": 16,
   "id": "2a4c431c",
   "metadata": {},
   "outputs": [
    {
     "name": "stdout",
     "output_type": "stream",
     "text": [
      "Epoch 1/50\n",
      "438/438 [==============================] - 5s 12ms/step - loss: 0.2870 - accuracy: 0.8877 - val_loss: 0.3973 - val_accuracy: 0.8471\n",
      "Epoch 2/50\n",
      "438/438 [==============================] - 4s 8ms/step - loss: 0.1838 - accuracy: 0.9333 - val_loss: 0.1921 - val_accuracy: 0.9334\n",
      "Epoch 3/50\n",
      "438/438 [==============================] - 3s 8ms/step - loss: 0.1555 - accuracy: 0.9424 - val_loss: 0.1319 - val_accuracy: 0.9491\n",
      "Epoch 4/50\n",
      "438/438 [==============================] - 3s 8ms/step - loss: 0.1542 - accuracy: 0.9419 - val_loss: 0.1656 - val_accuracy: 0.9371\n",
      "Epoch 5/50\n",
      "438/438 [==============================] - 3s 8ms/step - loss: 0.1225 - accuracy: 0.9535 - val_loss: 0.1818 - val_accuracy: 0.9297\n",
      "Epoch 6/50\n",
      "438/438 [==============================] - 3s 8ms/step - loss: 0.1287 - accuracy: 0.9525 - val_loss: 0.1354 - val_accuracy: 0.9551\n",
      "Epoch 7/50\n",
      "438/438 [==============================] - 3s 8ms/step - loss: 0.1036 - accuracy: 0.9628 - val_loss: 0.1509 - val_accuracy: 0.9443\n",
      "Epoch 8/50\n",
      "438/438 [==============================] - 3s 8ms/step - loss: 0.0908 - accuracy: 0.9662 - val_loss: 0.0702 - val_accuracy: 0.9754\n",
      "Epoch 9/50\n",
      "438/438 [==============================] - 3s 8ms/step - loss: 0.0873 - accuracy: 0.9676 - val_loss: 0.0958 - val_accuracy: 0.9654\n",
      "Epoch 10/50\n",
      "438/438 [==============================] - 3s 8ms/step - loss: 0.0927 - accuracy: 0.9662 - val_loss: 0.1842 - val_accuracy: 0.9283\n",
      "Epoch 11/50\n",
      "438/438 [==============================] - 3s 8ms/step - loss: 0.0871 - accuracy: 0.9691 - val_loss: 0.0833 - val_accuracy: 0.9680\n",
      "Epoch 12/50\n",
      "438/438 [==============================] - 4s 8ms/step - loss: 0.0817 - accuracy: 0.9710 - val_loss: 0.0790 - val_accuracy: 0.9703\n",
      "Epoch 13/50\n",
      "438/438 [==============================] - 4s 8ms/step - loss: 0.0723 - accuracy: 0.9741 - val_loss: 0.0626 - val_accuracy: 0.9769\n",
      "Epoch 14/50\n",
      "438/438 [==============================] - 3s 8ms/step - loss: 0.0656 - accuracy: 0.9771 - val_loss: 0.1700 - val_accuracy: 0.9511\n",
      "Epoch 15/50\n",
      "438/438 [==============================] - 4s 8ms/step - loss: 0.0663 - accuracy: 0.9761 - val_loss: 0.1150 - val_accuracy: 0.9586\n",
      "Epoch 16/50\n",
      "438/438 [==============================] - 3s 8ms/step - loss: 0.0688 - accuracy: 0.9745 - val_loss: 0.0631 - val_accuracy: 0.9777\n",
      "Epoch 17/50\n",
      "438/438 [==============================] - 4s 8ms/step - loss: 0.0777 - accuracy: 0.9696 - val_loss: 0.0986 - val_accuracy: 0.9611\n",
      "Epoch 18/50\n",
      "438/438 [==============================] - 4s 8ms/step - loss: 0.0631 - accuracy: 0.9778 - val_loss: 0.0441 - val_accuracy: 0.9860\n",
      "Epoch 19/50\n",
      "438/438 [==============================] - 4s 8ms/step - loss: 0.0611 - accuracy: 0.9771 - val_loss: 0.0383 - val_accuracy: 0.9871\n",
      "Epoch 20/50\n",
      "438/438 [==============================] - 4s 8ms/step - loss: 0.0518 - accuracy: 0.9814 - val_loss: 0.1412 - val_accuracy: 0.9543\n",
      "Epoch 21/50\n",
      "438/438 [==============================] - 4s 8ms/step - loss: 0.0589 - accuracy: 0.9791 - val_loss: 0.0629 - val_accuracy: 0.9746\n",
      "Epoch 22/50\n",
      "438/438 [==============================] - 4s 8ms/step - loss: 0.0528 - accuracy: 0.9822 - val_loss: 0.0630 - val_accuracy: 0.9777\n",
      "Epoch 23/50\n",
      "438/438 [==============================] - 4s 8ms/step - loss: 0.0448 - accuracy: 0.9830 - val_loss: 0.1260 - val_accuracy: 0.9566\n",
      "Epoch 24/50\n",
      "438/438 [==============================] - 4s 8ms/step - loss: 0.0549 - accuracy: 0.9810 - val_loss: 0.0722 - val_accuracy: 0.9726\n",
      "Epoch 25/50\n",
      "438/438 [==============================] - 4s 8ms/step - loss: 0.0519 - accuracy: 0.9809 - val_loss: 0.0616 - val_accuracy: 0.9771\n",
      "Epoch 26/50\n",
      "438/438 [==============================] - 4s 8ms/step - loss: 0.0477 - accuracy: 0.9838 - val_loss: 0.2648 - val_accuracy: 0.9123\n",
      "Epoch 27/50\n",
      "438/438 [==============================] - 4s 9ms/step - loss: 0.0410 - accuracy: 0.9863 - val_loss: 0.0349 - val_accuracy: 0.9891\n",
      "Epoch 28/50\n",
      "438/438 [==============================] - 4s 8ms/step - loss: 0.0423 - accuracy: 0.9837 - val_loss: 0.4099 - val_accuracy: 0.8934\n",
      "Epoch 29/50\n",
      "438/438 [==============================] - 4s 8ms/step - loss: 0.0417 - accuracy: 0.9851 - val_loss: 0.0792 - val_accuracy: 0.9729\n",
      "Epoch 30/50\n",
      "438/438 [==============================] - 4s 8ms/step - loss: 0.0441 - accuracy: 0.9842 - val_loss: 0.0844 - val_accuracy: 0.9649\n",
      "Epoch 31/50\n",
      "438/438 [==============================] - 4s 9ms/step - loss: 0.0430 - accuracy: 0.9839 - val_loss: 0.0704 - val_accuracy: 0.9714\n",
      "Epoch 32/50\n",
      "438/438 [==============================] - 4s 9ms/step - loss: 0.0407 - accuracy: 0.9859 - val_loss: 0.1203 - val_accuracy: 0.9589\n",
      "Epoch 33/50\n",
      "438/438 [==============================] - 4s 9ms/step - loss: 0.0338 - accuracy: 0.9882 - val_loss: 0.0587 - val_accuracy: 0.9789\n",
      "Epoch 34/50\n",
      "438/438 [==============================] - 4s 9ms/step - loss: 0.0366 - accuracy: 0.9874 - val_loss: 0.0751 - val_accuracy: 0.9729\n",
      "Epoch 35/50\n",
      "438/438 [==============================] - 4s 9ms/step - loss: 0.0343 - accuracy: 0.9879 - val_loss: 0.0583 - val_accuracy: 0.9780\n",
      "Epoch 36/50\n",
      "438/438 [==============================] - 4s 9ms/step - loss: 0.0319 - accuracy: 0.9874 - val_loss: 0.0534 - val_accuracy: 0.9803\n",
      "Epoch 37/50\n",
      "438/438 [==============================] - 4s 9ms/step - loss: 0.0398 - accuracy: 0.9855 - val_loss: 0.0291 - val_accuracy: 0.9909\n",
      "Epoch 38/50\n",
      "438/438 [==============================] - 4s 9ms/step - loss: 0.0328 - accuracy: 0.9888 - val_loss: 0.0487 - val_accuracy: 0.9851\n",
      "Epoch 39/50\n",
      "438/438 [==============================] - 4s 9ms/step - loss: 0.0322 - accuracy: 0.9895 - val_loss: 0.0777 - val_accuracy: 0.9729\n",
      "Epoch 40/50\n",
      "438/438 [==============================] - 4s 8ms/step - loss: 0.0365 - accuracy: 0.9879 - val_loss: 0.0745 - val_accuracy: 0.9737\n",
      "Epoch 41/50\n",
      "438/438 [==============================] - 4s 9ms/step - loss: 0.0306 - accuracy: 0.9891 - val_loss: 0.0344 - val_accuracy: 0.9911\n",
      "Epoch 42/50\n",
      "438/438 [==============================] - 4s 9ms/step - loss: 0.0322 - accuracy: 0.9891 - val_loss: 0.0584 - val_accuracy: 0.9780\n",
      "Epoch 43/50\n",
      "438/438 [==============================] - 4s 9ms/step - loss: 0.0265 - accuracy: 0.9906 - val_loss: 0.0269 - val_accuracy: 0.9894\n",
      "Epoch 44/50\n",
      "438/438 [==============================] - 4s 8ms/step - loss: 0.0336 - accuracy: 0.9884 - val_loss: 0.0564 - val_accuracy: 0.9806\n",
      "Epoch 45/50\n",
      "438/438 [==============================] - 4s 9ms/step - loss: 0.0328 - accuracy: 0.9884 - val_loss: 0.0549 - val_accuracy: 0.9837\n",
      "Epoch 46/50\n",
      "438/438 [==============================] - 4s 9ms/step - loss: 0.0343 - accuracy: 0.9876 - val_loss: 0.1026 - val_accuracy: 0.9651\n",
      "Epoch 47/50\n",
      "438/438 [==============================] - 4s 9ms/step - loss: 0.0327 - accuracy: 0.9882 - val_loss: 0.0464 - val_accuracy: 0.9840\n",
      "Epoch 48/50\n",
      "438/438 [==============================] - 4s 9ms/step - loss: 0.0309 - accuracy: 0.9889 - val_loss: 0.0314 - val_accuracy: 0.9894\n",
      "Epoch 49/50\n",
      "438/438 [==============================] - 4s 9ms/step - loss: 0.0267 - accuracy: 0.9898 - val_loss: 0.0338 - val_accuracy: 0.9880\n",
      "Epoch 50/50\n",
      "438/438 [==============================] - 4s 8ms/step - loss: 0.0314 - accuracy: 0.9896 - val_loss: 0.0383 - val_accuracy: 0.9874\n"
     ]
    }
   ],
   "source": [
    "EPOCHS = 50\n",
    "\n",
    "history = model.fit(\n",
    "    train_generator,\n",
    "    epochs=EPOCHS,\n",
    "    validation_data=val_generator\n",
    ")"
   ]
  },
  {
   "cell_type": "markdown",
   "id": "fcb39e37",
   "metadata": {},
   "source": [
    "# 6) Evaluation / Visualization of Results (Optional)\n",
    "Visualize the training and validation accuracy and loss."
   ]
  },
  {
   "cell_type": "code",
   "execution_count": 17,
   "id": "95cc6109",
   "metadata": {},
   "outputs": [
    {
     "data": {
      "image/png": "[encoded data removed]",
      "text/plain": [
       "<Figure size 640x480 with 1 Axes>"
      ]
     },
     "metadata": {},
     "output_type": "display_data"
    },
    {
     "data": {
      "image/png": "[encoded data removed]",
      "text/plain": [
       "<Figure size 640x480 with 1 Axes>"
      ]
     },
     "metadata": {},
     "output_type": "display_data"
    }
   ],
   "source": [
    "import matplotlib.pyplot as plt\n",
    "\n",
    "plt.figure()\n",
    "plt.plot(history.history['accuracy'], label='train acc')\n",
    "plt.plot(history.history['val_accuracy'], label='val acc')\n",
    "plt.title('Model accuracy')\n",
    "plt.xlabel('Epoch')\n",
    "plt.ylabel('Accuracy')\n",
    "plt.legend()\n",
    "plt.show()\n",
    "\n",
    "plt.figure()\n",
    "plt.plot(history.history['loss'], label='train loss')\n",
    "plt.plot(history.history['val_loss'], label='val loss')\n",
    "plt.title('Model loss')\n",
    "plt.xlabel('Epoch')\n",
    "plt.ylabel('Loss')\n",
    "plt.legend()\n",
    "plt.show()"
   ]
  },
  {
   "cell_type": "markdown",
   "id": "43723e6a",
   "metadata": {},
   "source": [
    "# 7) Predict Test Data\n",
    "Generate predictions for the test dataset."
   ]
  },
  {
   "cell_type": "code",
   "execution_count": 12,
   "id": "c47c65c7",
   "metadata": {},
   "outputs": [
    {
     "name": "stdout",
     "output_type": "stream",
     "text": [
      "Found 4000 validated image filenames.\n",
      "\u001b[1m125/125\u001b[0m \u001b[32m━━━━━━━━━━━━━━━━━━━━\u001b[0m\u001b[37m\u001b[0m \u001b[1m1s\u001b[0m 6ms/step\n",
      "Example predictions on test data:\n",
      "000940378805c44108d287872b2f04ce.jpg -> 1\n",
      "0017242f54ececa4512b4d7937d1e21e.jpg -> 1\n",
      "001ee6d8564003107853118ab87df407.jpg -> 0\n",
      "002e175c3c1e060769475f52182583d0.jpg -> 0\n",
      "0036e44a7e8f7218e9bc7bf8137e4943.jpg -> 1\n",
      "0038ed6f7417b8275b393307f66cb1e3.jpg -> 1\n",
      "0059dfa41de4441fc23b9a4b98ba99cb.jpg -> 1\n",
      "0061bd302d735db829418cb90b4e6040.jpg -> 1\n",
      "00754573d8c7223e73da553dd43780bd.jpg -> 1\n",
      "008d9fce71c8e03a4c9cdd15ea908573.jpg -> 0\n"
     ]
    }
   ],
   "source": [
    "test_filenames = sorted(os.listdir(test_dir))\n",
    "# if there are files other than jpg images, filter them here\n",
    "\n",
    "test_df = pd.DataFrame({\"id\": test_filenames})\n",
    "\n",
    "test_generator = val_datagen.flow_from_dataframe(\n",
    "    dataframe=test_df,\n",
    "    directory=test_dir,\n",
    "    x_col='id',\n",
    "    y_col=None,  # no labels\n",
    "    target_size=(32, 32),\n",
    "    batch_size=32,\n",
    "    class_mode=None,\n",
    "    shuffle=False  # do not shuffle\n",
    ")\n",
    "\n",
    "preds = model.predict(test_generator)\n",
    "# Since we use sigmoid in the output, preds values are in the range [0..1]\n",
    "# We can use a threshold of 0.5\n",
    "pred_labels = (preds > 0.5).astype(int).reshape(-1)\n",
    "\n",
    "# Check the first 10 predictions\n",
    "print(\"Example predictions on test data:\")\n",
    "for i in range(10):\n",
    "    print(test_df.iloc[i]['id'], \"->\", pred_labels[i])"
   ]
  },
  {
   "cell_type": "markdown",
   "id": "50ce513a",
   "metadata": {},
   "source": [
    "# 8) Save Predictions (Optional)\n",
    "Save the predictions to a CSV file for submission."
   ]
  },
  {
   "cell_type": "code",
   "execution_count": 13,
   "id": "f29535c5",
   "metadata": {},
   "outputs": [
    {
     "name": "stdout",
     "output_type": "stream",
     "text": [
      "\n",
      "File 'my_submission.csv' has been saved successfully.\n"
     ]
    }
   ],
   "source": [
    "submission_df = pd.DataFrame({\n",
    "    \"id\": test_df[\"id\"],\n",
    "    \"has_cactus\": pred_labels\n",
    "})\n",
    "submission_df.to_csv(\"my_submission.csv\", index=False)\n",
    "print(\"\\nFile 'my_submission.csv' has been saved successfully.\")"
   ]
  },
  {
   "cell_type": "code",
   "execution_count": 16,
   "id": "93242075",
   "metadata": {},
   "outputs": [
    {
     "name": "stdout",
     "output_type": "stream",
     "text": [
      "\n",
      "First 10 rows of the submission file:\n"
     ]
    },
    {
     "data": {
      "application/vnd.microsoft.datawrangler.viewer.v0+json": {
       "columns": [
        {
         "name": "index",
         "rawType": "int64",
         "type": "integer"
        },
        {
         "name": "id",
         "rawType": "object",
         "type": "string"
        },
        {
         "name": "has_cactus",
         "rawType": "int64",
         "type": "integer"
        }
       ],
       "conversionMethod": "pd.DataFrame",
       "ref": "a7e7e068-f845-41d3-89a8-0f1cf2703493",
       "rows": [
        [
         "0",
         "000940378805c44108d287872b2f04ce.jpg",
         "1"
        ],
        [
         "1",
         "0017242f54ececa4512b4d7937d1e21e.jpg",
         "1"
        ],
        [
         "2",
         "001ee6d8564003107853118ab87df407.jpg",
         "0"
        ],
        [
         "3",
         "002e175c3c1e060769475f52182583d0.jpg",
         "0"
        ],
        [
         "4",
         "0036e44a7e8f7218e9bc7bf8137e4943.jpg",
         "1"
        ],
        [
         "5",
         "0038ed6f7417b8275b393307f66cb1e3.jpg",
         "1"
        ],
        [
         "6",
         "0059dfa41de4441fc23b9a4b98ba99cb.jpg",
         "1"
        ],
        [
         "7",
         "0061bd302d735db829418cb90b4e6040.jpg",
         "1"
        ],
        [
         "8",
         "00754573d8c7223e73da553dd43780bd.jpg",
         "1"
        ],
        [
         "9",
         "008d9fce71c8e03a4c9cdd15ea908573.jpg",
         "0"
        ]
       ],
       "shape": {
        "columns": 2,
        "rows": 10
       }
      },
      "text/html": [
       "<div>\n",
       "<style scoped>\n",
       "    .dataframe tbody tr th:only-of-type {\n",
       "        vertical-align: middle;\n",
       "    }\n",
       "\n",
       "    .dataframe tbody tr th {\n",
       "        vertical-align: top;\n",
       "    }\n",
       "\n",
       "    .dataframe thead th {\n",
       "        text-align: right;\n",
       "    }\n",
       "</style>\n",
       "<table border=\"1\" class=\"dataframe\">\n",
       "  <thead>\n",
       "    <tr style=\"text-align: right;\">\n",
       "      <th></th>\n",
       "      <th>id</th>\n",
       "      <th>has_cactus</th>\n",
       "    </tr>\n",
       "  </thead>\n",
       "  <tbody>\n",
       "    <tr>\n",
       "      <th>0</th>\n",
       "      <td>000940378805c44108d287872b2f04ce.jpg</td>\n",
       "      <td>1</td>\n",
       "    </tr>\n",
       "    <tr>\n",
       "      <th>1</th>\n",
       "      <td>0017242f54ececa4512b4d7937d1e21e.jpg</td>\n",
       "      <td>1</td>\n",
       "    </tr>\n",
       "    <tr>\n",
       "      <th>2</th>\n",
       "      <td>001ee6d8564003107853118ab87df407.jpg</td>\n",
       "      <td>0</td>\n",
       "    </tr>\n",
       "    <tr>\n",
       "      <th>3</th>\n",
       "      <td>002e175c3c1e060769475f52182583d0.jpg</td>\n",
       "      <td>0</td>\n",
       "    </tr>\n",
       "    <tr>\n",
       "      <th>4</th>\n",
       "      <td>0036e44a7e8f7218e9bc7bf8137e4943.jpg</td>\n",
       "      <td>1</td>\n",
       "    </tr>\n",
       "    <tr>\n",
       "      <th>5</th>\n",
       "      <td>0038ed6f7417b8275b393307f66cb1e3.jpg</td>\n",
       "      <td>1</td>\n",
       "    </tr>\n",
       "    <tr>\n",
       "      <th>6</th>\n",
       "      <td>0059dfa41de4441fc23b9a4b98ba99cb.jpg</td>\n",
       "      <td>1</td>\n",
       "    </tr>\n",
       "    <tr>\n",
       "      <th>7</th>\n",
       "      <td>0061bd302d735db829418cb90b4e6040.jpg</td>\n",
       "      <td>1</td>\n",
       "    </tr>\n",
       "    <tr>\n",
       "      <th>8</th>\n",
       "      <td>00754573d8c7223e73da553dd43780bd.jpg</td>\n",
       "      <td>1</td>\n",
       "    </tr>\n",
       "    <tr>\n",
       "      <th>9</th>\n",
       "      <td>008d9fce71c8e03a4c9cdd15ea908573.jpg</td>\n",
       "      <td>0</td>\n",
       "    </tr>\n",
       "  </tbody>\n",
       "</table>\n",
       "</div>"
      ],
      "text/plain": [
       "                                     id  has_cactus\n",
       "0  000940378805c44108d287872b2f04ce.jpg           1\n",
       "1  0017242f54ececa4512b4d7937d1e21e.jpg           1\n",
       "2  001ee6d8564003107853118ab87df407.jpg           0\n",
       "3  002e175c3c1e060769475f52182583d0.jpg           0\n",
       "4  0036e44a7e8f7218e9bc7bf8137e4943.jpg           1\n",
       "5  0038ed6f7417b8275b393307f66cb1e3.jpg           1\n",
       "6  0059dfa41de4441fc23b9a4b98ba99cb.jpg           1\n",
       "7  0061bd302d735db829418cb90b4e6040.jpg           1\n",
       "8  00754573d8c7223e73da553dd43780bd.jpg           1\n",
       "9  008d9fce71c8e03a4c9cdd15ea908573.jpg           0"
      ]
     },
     "execution_count": 16,
     "metadata": {},
     "output_type": "execute_result"
    }
   ],
   "source": [
    "#show the first 10 rows of the submission file\n",
    "print(\"\\nFirst 10 rows of the submission file:\")\n",
    "submission_df.head(10)"
   ]
  }
 ],
 "metadata": {
  "kernelspec": {
   "display_name": "aml",
   "language": "python",
   "name": "python3"
  },
  "language_info": {
   "codemirror_mode": {
    "name": "ipython",
    "version": 3
   },
   "file_extension": ".py",
   "mimetype": "text/x-python",
   "name": "python",
   "nbconvert_exporter": "python",
   "pygments_lexer": "ipython3",
   "version": "3.10.16"
  }
 },
 "nbformat": 4,
 "nbformat_minor": 5
}
