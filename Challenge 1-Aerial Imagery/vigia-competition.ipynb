{
 "cells": [
  {
   "cell_type": "markdown",
   "id": "8ee9c6a6",
   "metadata": {},
   "source": [
    "# VIGIA Competition Notebook\n",
    "\n",
    "This notebook is a conversion of the `vigia-competition.py` script. Each section of the original script is split into one or more cells."
   ]
  },
  {
   "cell_type": "code",
   "execution_count": null,
   "id": "6cf55a48",
   "metadata": {},
   "outputs": [
    {
     "name": "stderr",
     "output_type": "stream",
     "text": [
      "/Users/mymac/Library/Python/3.9/lib/python/site-packages/urllib3/__init__.py:35: NotOpenSSLWarning: urllib3 v2 only supports OpenSSL 1.1.1+, currently the 'ssl' module is compiled with 'LibreSSL 2.8.3'. See: https://github.com/urllib3/urllib3/issues/3020\n",
      "  warnings.warn(\n"
     ]
    }
   ],
   "source": [
    "import pandas as pd, numpy as np, tensorflow as tf\n",
    "from sklearn.model_selection import StratifiedKFold  # CV splitter\n",
    "from tensorflow.keras.preprocessing.image import ImageDataGenerator\n",
    "from pathlib import Path"
   ]
  },
  {
   "cell_type": "code",
   "execution_count": null,
   "id": "a22767b9",
   "metadata": {},
   "outputs": [],
   "source": [
    "IMG_SIZE     = (32, 32)        # input resolution in your CNN\n",
    "BATCH_SIZE   = 64\n",
    "EPOCHS       = 15\n",
    "N_SPLITS     = 5               # k-fold\n",
    "SEED         = 42\n",
    "\n",
    "TRAIN_DIR    = \"archive/train/train/\"   # path with labelled jpg\n",
    "TEST_DIR     = \"archive/test/test/\"     # path with un-labelled jpg\n",
    "TRAIN_CSV    = \"archive/train.csv\"\n"
   ]
  },
  {
   "cell_type": "code",
   "execution_count": null,
   "id": "4ebab9a7",
   "metadata": {},
   "outputs": [
    {
     "name": "stdout",
     "output_type": "stream",
     "text": [
      "Training samples: 17500\n"
     ]
    }
   ],
   "source": [
    "train_df = pd.read_csv(TRAIN_CSV)\n",
    "print(\"Training samples:\", len(train_df))"
   ]
  },
  {
   "cell_type": "markdown",
   "id": "6adb7802",
   "metadata": {},
   "source": [
    "## Helper: Build a Fresh Model for Each Fold\n",
    "\n",
    "The following function creates a new CNN model to be used in every fold of cross validation."
   ]
  },
  {
   "cell_type": "code",
   "execution_count": null,
   "id": "59df6cd6",
   "metadata": {},
   "outputs": [],
   "source": [
    "def build_model():\n",
    "    model = tf.keras.Sequential([\n",
    "        tf.keras.layers.Conv2D(32, (3,3), activation='relu', input_shape=IMG_SIZE + (3,)),\n",
    "        tf.keras.layers.MaxPool2D(),\n",
    "        tf.keras.layers.Conv2D(64, (3,3), activation='relu'),\n",
    "        tf.keras.layers.MaxPool2D(),\n",
    "        tf.keras.layers.Flatten(),\n",
    "        tf.keras.layers.Dense(64, activation='relu'),\n",
    "        tf.keras.layers.Dropout(0.3),\n",
    "        tf.keras.layers.Dense(1, activation='sigmoid')\n",
    "    ])\n",
    "    model.compile(optimizer='adam', loss='binary_crossentropy', metrics=['accuracy'])\n",
    "    return model"
   ]
  },
  {
   "cell_type": "markdown",
   "id": "798fa787",
   "metadata": {},
   "source": [
    "## Cross-Validation Loop\n",
    "\n",
    "The following cell performs k-fold cross validation. For each fold, it splits the data, creates data generators, builds & trains the model, and makes predictions on the test set."
   ]
  },
  {
   "cell_type": "code",
   "execution_count": 8,
   "id": "45bfd9b7",
   "metadata": {},
   "outputs": [
    {
     "name": "stdout",
     "output_type": "stream",
     "text": [
      "\n",
      "──────────  Fold 1/5  ──────────\n",
      "Found 14000 validated image filenames belonging to 2 classes.\n",
      "Found 3500 validated image filenames belonging to 2 classes.\n",
      "Found 3500 validated image filenames belonging to 2 classes.\n",
      "Found 4000 images belonging to 1 classes.\n",
      "Found 4000 images belonging to 1 classes.\n",
      "Epoch 1/15\n",
      "Epoch 1/15\n"
     ]
    },
    {
     "name": "stderr",
     "output_type": "stream",
     "text": [
      "/Users/mymac/Library/Python/3.9/lib/python/site-packages/keras/src/layers/convolutional/base_conv.py:107: UserWarning: Do not pass an `input_shape`/`input_dim` argument to a layer. When using Sequential models, prefer using an `Input(shape)` object as the first layer in the model instead.\n",
      "  super().__init__(activity_regularizer=activity_regularizer, **kwargs)\n",
      "/Users/mymac/Library/Python/3.9/lib/python/site-packages/keras/src/trainers/data_adapters/py_dataset_adapter.py:121: UserWarning: Your `PyDataset` class should call `super().__init__(**kwargs)` in its constructor. `**kwargs` can include `workers`, `use_multiprocessing`, `max_queue_size`. Do not pass these arguments to `fit()`, as they will be ignored.\n",
      "  self._warn_if_super_not_called()\n"
     ]
    },
    {
     "name": "stdout",
     "output_type": "stream",
     "text": [
      "\u001b[1m219/219\u001b[0m \u001b[32m━━━━━━━━━━━━━━━━━━━━\u001b[0m\u001b[37m\u001b[0m \u001b[1m9s\u001b[0m 37ms/step - accuracy: 0.8188 - loss: 0.4090 - val_accuracy: 0.9106 - val_loss: 0.2568\n",
      "Epoch 2/15\n",
      "\u001b[1m219/219\u001b[0m \u001b[32m━━━━━━━━━━━━━━━━━━━━\u001b[0m\u001b[37m\u001b[0m \u001b[1m9s\u001b[0m 37ms/step - accuracy: 0.8188 - loss: 0.4090 - val_accuracy: 0.9106 - val_loss: 0.2568\n",
      "Epoch 2/15\n",
      "\u001b[1m219/219\u001b[0m \u001b[32m━━━━━━━━━━━━━━━━━━━━\u001b[0m\u001b[37m\u001b[0m \u001b[1m7s\u001b[0m 34ms/step - accuracy: 0.9183 - loss: 0.2184 - val_accuracy: 0.9060 - val_loss: 0.2511\n",
      "Epoch 3/15\n",
      "\u001b[1m219/219\u001b[0m \u001b[32m━━━━━━━━━━━━━━━━━━━━\u001b[0m\u001b[37m\u001b[0m \u001b[1m7s\u001b[0m 34ms/step - accuracy: 0.9183 - loss: 0.2184 - val_accuracy: 0.9060 - val_loss: 0.2511\n",
      "Epoch 3/15\n",
      "\u001b[1m219/219\u001b[0m \u001b[32m━━━━━━━━━━━━━━━━━━━━\u001b[0m\u001b[37m\u001b[0m \u001b[1m5s\u001b[0m 25ms/step - accuracy: 0.9341 - loss: 0.1894 - val_accuracy: 0.9320 - val_loss: 0.1923\n",
      "Epoch 4/15\n",
      "\u001b[1m219/219\u001b[0m \u001b[32m━━━━━━━━━━━━━━━━━━━━\u001b[0m\u001b[37m\u001b[0m \u001b[1m5s\u001b[0m 25ms/step - accuracy: 0.9341 - loss: 0.1894 - val_accuracy: 0.9320 - val_loss: 0.1923\n",
      "Epoch 4/15\n",
      "\u001b[1m219/219\u001b[0m \u001b[32m━━━━━━━━━━━━━━━━━━━━\u001b[0m\u001b[37m\u001b[0m \u001b[1m6s\u001b[0m 26ms/step - accuracy: 0.9427 - loss: 0.1739 - val_accuracy: 0.8994 - val_loss: 0.2668\n",
      "Epoch 5/15\n",
      "\u001b[1m219/219\u001b[0m \u001b[32m━━━━━━━━━━━━━━━━━━━━\u001b[0m\u001b[37m\u001b[0m \u001b[1m6s\u001b[0m 26ms/step - accuracy: 0.9427 - loss: 0.1739 - val_accuracy: 0.8994 - val_loss: 0.2668\n",
      "Epoch 5/15\n",
      "\u001b[1m219/219\u001b[0m \u001b[32m━━━━━━━━━━━━━━━━━━━━\u001b[0m\u001b[37m\u001b[0m \u001b[1m6s\u001b[0m 25ms/step - accuracy: 0.9436 - loss: 0.1679 - val_accuracy: 0.9680 - val_loss: 0.0984\n",
      "Epoch 6/15\n",
      "\u001b[1m219/219\u001b[0m \u001b[32m━━━━━━━━━━━━━━━━━━━━\u001b[0m\u001b[37m\u001b[0m \u001b[1m6s\u001b[0m 25ms/step - accuracy: 0.9436 - loss: 0.1679 - val_accuracy: 0.9680 - val_loss: 0.0984\n",
      "Epoch 6/15\n",
      "\u001b[1m219/219\u001b[0m \u001b[32m━━━━━━━━━━━━━━━━━━━━\u001b[0m\u001b[37m\u001b[0m \u001b[1m6s\u001b[0m 27ms/step - accuracy: 0.9524 - loss: 0.1391 - val_accuracy: 0.9671 - val_loss: 0.0973\n",
      "Epoch 7/15\n",
      "\u001b[1m219/219\u001b[0m \u001b[32m━━━━━━━━━━━━━━━━━━━━\u001b[0m\u001b[37m\u001b[0m \u001b[1m6s\u001b[0m 27ms/step - accuracy: 0.9524 - loss: 0.1391 - val_accuracy: 0.9671 - val_loss: 0.0973\n",
      "Epoch 7/15\n",
      "\u001b[1m219/219\u001b[0m \u001b[32m━━━━━━━━━━━━━━━━━━━━\u001b[0m\u001b[37m\u001b[0m \u001b[1m6s\u001b[0m 27ms/step - accuracy: 0.9588 - loss: 0.1285 - val_accuracy: 0.9537 - val_loss: 0.1305\n",
      "Epoch 8/15\n",
      "\u001b[1m219/219\u001b[0m \u001b[32m━━━━━━━━━━━━━━━━━━━━\u001b[0m\u001b[37m\u001b[0m \u001b[1m6s\u001b[0m 27ms/step - accuracy: 0.9588 - loss: 0.1285 - val_accuracy: 0.9537 - val_loss: 0.1305\n",
      "Epoch 8/15\n",
      "\u001b[1m219/219\u001b[0m \u001b[32m━━━━━━━━━━━━━━━━━━━━\u001b[0m\u001b[37m\u001b[0m \u001b[1m6s\u001b[0m 26ms/step - accuracy: 0.9605 - loss: 0.1189 - val_accuracy: 0.9691 - val_loss: 0.0891\n",
      "Epoch 9/15\n",
      "\u001b[1m219/219\u001b[0m \u001b[32m━━━━━━━━━━━━━━━━━━━━\u001b[0m\u001b[37m\u001b[0m \u001b[1m6s\u001b[0m 26ms/step - accuracy: 0.9605 - loss: 0.1189 - val_accuracy: 0.9691 - val_loss: 0.0891\n",
      "Epoch 9/15\n",
      "\u001b[1m219/219\u001b[0m \u001b[32m━━━━━━━━━━━━━━━━━━━━\u001b[0m\u001b[37m\u001b[0m \u001b[1m6s\u001b[0m 26ms/step - accuracy: 0.9641 - loss: 0.1072 - val_accuracy: 0.9297 - val_loss: 0.1794\n",
      "Epoch 10/15\n",
      "\u001b[1m219/219\u001b[0m \u001b[32m━━━━━━━━━━━━━━━━━━━━\u001b[0m\u001b[37m\u001b[0m \u001b[1m6s\u001b[0m 26ms/step - accuracy: 0.9641 - loss: 0.1072 - val_accuracy: 0.9297 - val_loss: 0.1794\n",
      "Epoch 10/15\n",
      "\u001b[1m219/219\u001b[0m \u001b[32m━━━━━━━━━━━━━━━━━━━━\u001b[0m\u001b[37m\u001b[0m \u001b[1m6s\u001b[0m 28ms/step - accuracy: 0.9625 - loss: 0.1125 - val_accuracy: 0.9663 - val_loss: 0.1005\n",
      "Epoch 11/15\n",
      "\u001b[1m219/219\u001b[0m \u001b[32m━━━━━━━━━━━━━━━━━━━━\u001b[0m\u001b[37m\u001b[0m \u001b[1m6s\u001b[0m 28ms/step - accuracy: 0.9625 - loss: 0.1125 - val_accuracy: 0.9663 - val_loss: 0.1005\n",
      "Epoch 11/15\n",
      "\u001b[1m219/219\u001b[0m \u001b[32m━━━━━━━━━━━━━━━━━━━━\u001b[0m\u001b[37m\u001b[0m \u001b[1m6s\u001b[0m 25ms/step - accuracy: 0.9654 - loss: 0.1046 - val_accuracy: 0.9714 - val_loss: 0.0882\n",
      "Epoch 12/15\n",
      "\u001b[1m219/219\u001b[0m \u001b[32m━━━━━━━━━━━━━━━━━━━━\u001b[0m\u001b[37m\u001b[0m \u001b[1m6s\u001b[0m 25ms/step - accuracy: 0.9654 - loss: 0.1046 - val_accuracy: 0.9714 - val_loss: 0.0882\n",
      "Epoch 12/15\n",
      "\u001b[1m219/219\u001b[0m \u001b[32m━━━━━━━━━━━━━━━━━━━━\u001b[0m\u001b[37m\u001b[0m \u001b[1m6s\u001b[0m 26ms/step - accuracy: 0.9677 - loss: 0.0939 - val_accuracy: 0.9649 - val_loss: 0.1071\n",
      "Epoch 13/15\n",
      "\u001b[1m219/219\u001b[0m \u001b[32m━━━━━━━━━━━━━━━━━━━━\u001b[0m\u001b[37m\u001b[0m \u001b[1m6s\u001b[0m 26ms/step - accuracy: 0.9677 - loss: 0.0939 - val_accuracy: 0.9649 - val_loss: 0.1071\n",
      "Epoch 13/15\n",
      "\u001b[1m219/219\u001b[0m \u001b[32m━━━━━━━━━━━━━━━━━━━━\u001b[0m\u001b[37m\u001b[0m \u001b[1m6s\u001b[0m 27ms/step - accuracy: 0.9772 - loss: 0.0740 - val_accuracy: 0.9414 - val_loss: 0.1510\n",
      "Epoch 14/15\n",
      "\u001b[1m219/219\u001b[0m \u001b[32m━━━━━━━━━━━━━━━━━━━━\u001b[0m\u001b[37m\u001b[0m \u001b[1m6s\u001b[0m 27ms/step - accuracy: 0.9772 - loss: 0.0740 - val_accuracy: 0.9414 - val_loss: 0.1510\n",
      "Epoch 14/15\n",
      "\u001b[1m219/219\u001b[0m \u001b[32m━━━━━━━━━━━━━━━━━━━━\u001b[0m\u001b[37m\u001b[0m \u001b[1m7s\u001b[0m 32ms/step - accuracy: 0.9752 - loss: 0.0728 - val_accuracy: 0.9751 - val_loss: 0.0691\n",
      "Epoch 15/15\n",
      "\u001b[1m219/219\u001b[0m \u001b[32m━━━━━━━━━━━━━━━━━━━━\u001b[0m\u001b[37m\u001b[0m \u001b[1m7s\u001b[0m 32ms/step - accuracy: 0.9752 - loss: 0.0728 - val_accuracy: 0.9751 - val_loss: 0.0691\n",
      "Epoch 15/15\n",
      "\u001b[1m219/219\u001b[0m \u001b[32m━━━━━━━━━━━━━━━━━━━━\u001b[0m\u001b[37m\u001b[0m \u001b[1m6s\u001b[0m 29ms/step - accuracy: 0.9736 - loss: 0.0750 - val_accuracy: 0.9617 - val_loss: 0.1113\n",
      "\u001b[1m219/219\u001b[0m \u001b[32m━━━━━━━━━━━━━━━━━━━━\u001b[0m\u001b[37m\u001b[0m \u001b[1m6s\u001b[0m 29ms/step - accuracy: 0.9736 - loss: 0.0750 - val_accuracy: 0.9617 - val_loss: 0.1113\n",
      "Fold-1 final val-accuracy: 0.9617\n",
      "Fold-1 final val-accuracy: 0.9617\n",
      "\n",
      "──────────  Fold 2/5  ──────────\n",
      "Found 14000 validated image filenames belonging to 2 classes.\n",
      "\n",
      "──────────  Fold 2/5  ──────────\n",
      "Found 14000 validated image filenames belonging to 2 classes.\n",
      "Found 3500 validated image filenames belonging to 2 classes.\n",
      "Found 3500 validated image filenames belonging to 2 classes.\n",
      "Found 4000 images belonging to 1 classes.\n",
      "Found 4000 images belonging to 1 classes.\n",
      "Epoch 1/15\n",
      "Epoch 1/15\n"
     ]
    },
    {
     "name": "stderr",
     "output_type": "stream",
     "text": [
      "/Users/mymac/Library/Python/3.9/lib/python/site-packages/keras/src/layers/convolutional/base_conv.py:107: UserWarning: Do not pass an `input_shape`/`input_dim` argument to a layer. When using Sequential models, prefer using an `Input(shape)` object as the first layer in the model instead.\n",
      "  super().__init__(activity_regularizer=activity_regularizer, **kwargs)\n",
      "/Users/mymac/Library/Python/3.9/lib/python/site-packages/keras/src/trainers/data_adapters/py_dataset_adapter.py:121: UserWarning: Your `PyDataset` class should call `super().__init__(**kwargs)` in its constructor. `**kwargs` can include `workers`, `use_multiprocessing`, `max_queue_size`. Do not pass these arguments to `fit()`, as they will be ignored.\n",
      "  self._warn_if_super_not_called()\n"
     ]
    },
    {
     "name": "stdout",
     "output_type": "stream",
     "text": [
      "\u001b[1m219/219\u001b[0m \u001b[32m━━━━━━━━━━━━━━━━━━━━\u001b[0m\u001b[37m\u001b[0m \u001b[1m6s\u001b[0m 26ms/step - accuracy: 0.8279 - loss: 0.3751 - val_accuracy: 0.8769 - val_loss: 0.3579\n",
      "Epoch 2/15\n",
      "\u001b[1m219/219\u001b[0m \u001b[32m━━━━━━━━━━━━━━━━━━━━\u001b[0m\u001b[37m\u001b[0m \u001b[1m6s\u001b[0m 26ms/step - accuracy: 0.8279 - loss: 0.3751 - val_accuracy: 0.8769 - val_loss: 0.3579\n",
      "Epoch 2/15\n",
      "\u001b[1m219/219\u001b[0m \u001b[32m━━━━━━━━━━━━━━━━━━━━\u001b[0m\u001b[37m\u001b[0m \u001b[1m6s\u001b[0m 27ms/step - accuracy: 0.9212 - loss: 0.2156 - val_accuracy: 0.9583 - val_loss: 0.1271\n",
      "Epoch 3/15\n",
      "\u001b[1m219/219\u001b[0m \u001b[32m━━━━━━━━━━━━━━━━━━━━\u001b[0m\u001b[37m\u001b[0m \u001b[1m6s\u001b[0m 27ms/step - accuracy: 0.9212 - loss: 0.2156 - val_accuracy: 0.9583 - val_loss: 0.1271\n",
      "Epoch 3/15\n",
      "\u001b[1m219/219\u001b[0m \u001b[32m━━━━━━━━━━━━━━━━━━━━\u001b[0m\u001b[37m\u001b[0m \u001b[1m6s\u001b[0m 26ms/step - accuracy: 0.9406 - loss: 0.1736 - val_accuracy: 0.9606 - val_loss: 0.1091\n",
      "Epoch 4/15\n",
      "\u001b[1m219/219\u001b[0m \u001b[32m━━━━━━━━━━━━━━━━━━━━\u001b[0m\u001b[37m\u001b[0m \u001b[1m6s\u001b[0m 26ms/step - accuracy: 0.9406 - loss: 0.1736 - val_accuracy: 0.9606 - val_loss: 0.1091\n",
      "Epoch 4/15\n",
      "\u001b[1m219/219\u001b[0m \u001b[32m━━━━━━━━━━━━━━━━━━━━\u001b[0m\u001b[37m\u001b[0m \u001b[1m6s\u001b[0m 27ms/step - accuracy: 0.9519 - loss: 0.1380 - val_accuracy: 0.9654 - val_loss: 0.0950\n",
      "Epoch 5/15\n",
      "\u001b[1m219/219\u001b[0m \u001b[32m━━━━━━━━━━━━━━━━━━━━\u001b[0m\u001b[37m\u001b[0m \u001b[1m6s\u001b[0m 27ms/step - accuracy: 0.9519 - loss: 0.1380 - val_accuracy: 0.9654 - val_loss: 0.0950\n",
      "Epoch 5/15\n",
      "\u001b[1m219/219\u001b[0m \u001b[32m━━━━━━━━━━━━━━━━━━━━\u001b[0m\u001b[37m\u001b[0m \u001b[1m6s\u001b[0m 25ms/step - accuracy: 0.9522 - loss: 0.1364 - val_accuracy: 0.9423 - val_loss: 0.1444\n",
      "Epoch 6/15\n",
      "\u001b[1m219/219\u001b[0m \u001b[32m━━━━━━━━━━━━━━━━━━━━\u001b[0m\u001b[37m\u001b[0m \u001b[1m6s\u001b[0m 25ms/step - accuracy: 0.9522 - loss: 0.1364 - val_accuracy: 0.9423 - val_loss: 0.1444\n",
      "Epoch 6/15\n",
      "\u001b[1m219/219\u001b[0m \u001b[32m━━━━━━━━━━━━━━━━━━━━\u001b[0m\u001b[37m\u001b[0m \u001b[1m6s\u001b[0m 28ms/step - accuracy: 0.9579 - loss: 0.1136 - val_accuracy: 0.9646 - val_loss: 0.0965\n",
      "Epoch 7/15\n",
      "\u001b[1m219/219\u001b[0m \u001b[32m━━━━━━━━━━━━━━━━━━━━\u001b[0m\u001b[37m\u001b[0m \u001b[1m6s\u001b[0m 28ms/step - accuracy: 0.9579 - loss: 0.1136 - val_accuracy: 0.9646 - val_loss: 0.0965\n",
      "Epoch 7/15\n",
      "\u001b[1m219/219\u001b[0m \u001b[32m━━━━━━━━━━━━━━━━━━━━\u001b[0m\u001b[37m\u001b[0m \u001b[1m6s\u001b[0m 27ms/step - accuracy: 0.9617 - loss: 0.1083 - val_accuracy: 0.9391 - val_loss: 0.1639\n",
      "\u001b[1m219/219\u001b[0m \u001b[32m━━━━━━━━━━━━━━━━━━━━\u001b[0m\u001b[37m\u001b[0m \u001b[1m6s\u001b[0m 27ms/step - accuracy: 0.9617 - loss: 0.1083 - val_accuracy: 0.9391 - val_loss: 0.1639\n",
      "Fold-2 final val-accuracy: 0.9391\n",
      "Fold-2 final val-accuracy: 0.9391\n",
      "\n",
      "──────────  Fold 3/5  ──────────\n",
      "Found 14000 validated image filenames belonging to 2 classes.\n",
      "\n",
      "──────────  Fold 3/5  ──────────\n",
      "Found 14000 validated image filenames belonging to 2 classes.\n",
      "Found 3500 validated image filenames belonging to 2 classes.\n",
      "Found 3500 validated image filenames belonging to 2 classes.\n",
      "Found 4000 images belonging to 1 classes.\n",
      "Found 4000 images belonging to 1 classes.\n",
      "Epoch 1/15\n",
      "Epoch 1/15\n"
     ]
    },
    {
     "name": "stderr",
     "output_type": "stream",
     "text": [
      "/Users/mymac/Library/Python/3.9/lib/python/site-packages/keras/src/layers/convolutional/base_conv.py:107: UserWarning: Do not pass an `input_shape`/`input_dim` argument to a layer. When using Sequential models, prefer using an `Input(shape)` object as the first layer in the model instead.\n",
      "  super().__init__(activity_regularizer=activity_regularizer, **kwargs)\n",
      "/Users/mymac/Library/Python/3.9/lib/python/site-packages/keras/src/trainers/data_adapters/py_dataset_adapter.py:121: UserWarning: Your `PyDataset` class should call `super().__init__(**kwargs)` in its constructor. `**kwargs` can include `workers`, `use_multiprocessing`, `max_queue_size`. Do not pass these arguments to `fit()`, as they will be ignored.\n",
      "  self._warn_if_super_not_called()\n"
     ]
    },
    {
     "name": "stdout",
     "output_type": "stream",
     "text": [
      "\u001b[1m219/219\u001b[0m \u001b[32m━━━━━━━━━━━━━━━━━━━━\u001b[0m\u001b[37m\u001b[0m \u001b[1m6s\u001b[0m 27ms/step - accuracy: 0.8220 - loss: 0.4032 - val_accuracy: 0.9440 - val_loss: 0.1603\n",
      "Epoch 2/15\n",
      "\u001b[1m219/219\u001b[0m \u001b[32m━━━━━━━━━━━━━━━━━━━━\u001b[0m\u001b[37m\u001b[0m \u001b[1m6s\u001b[0m 27ms/step - accuracy: 0.8220 - loss: 0.4032 - val_accuracy: 0.9440 - val_loss: 0.1603\n",
      "Epoch 2/15\n",
      "\u001b[1m219/219\u001b[0m \u001b[32m━━━━━━━━━━━━━━━━━━━━\u001b[0m\u001b[37m\u001b[0m \u001b[1m6s\u001b[0m 26ms/step - accuracy: 0.9262 - loss: 0.2008 - val_accuracy: 0.9149 - val_loss: 0.2183\n",
      "Epoch 3/15\n",
      "\u001b[1m219/219\u001b[0m \u001b[32m━━━━━━━━━━━━━━━━━━━━\u001b[0m\u001b[37m\u001b[0m \u001b[1m6s\u001b[0m 26ms/step - accuracy: 0.9262 - loss: 0.2008 - val_accuracy: 0.9149 - val_loss: 0.2183\n",
      "Epoch 3/15\n",
      "\u001b[1m219/219\u001b[0m \u001b[32m━━━━━━━━━━━━━━━━━━━━\u001b[0m\u001b[37m\u001b[0m \u001b[1m6s\u001b[0m 25ms/step - accuracy: 0.9291 - loss: 0.1903 - val_accuracy: 0.9614 - val_loss: 0.1200\n",
      "Epoch 4/15\n",
      "\u001b[1m219/219\u001b[0m \u001b[32m━━━━━━━━━━━━━━━━━━━━\u001b[0m\u001b[37m\u001b[0m \u001b[1m6s\u001b[0m 25ms/step - accuracy: 0.9291 - loss: 0.1903 - val_accuracy: 0.9614 - val_loss: 0.1200\n",
      "Epoch 4/15\n",
      "\u001b[1m219/219\u001b[0m \u001b[32m━━━━━━━━━━━━━━━━━━━━\u001b[0m\u001b[37m\u001b[0m \u001b[1m6s\u001b[0m 26ms/step - accuracy: 0.9380 - loss: 0.1621 - val_accuracy: 0.9369 - val_loss: 0.1608\n",
      "Epoch 5/15\n",
      "\u001b[1m219/219\u001b[0m \u001b[32m━━━━━━━━━━━━━━━━━━━━\u001b[0m\u001b[37m\u001b[0m \u001b[1m6s\u001b[0m 26ms/step - accuracy: 0.9380 - loss: 0.1621 - val_accuracy: 0.9369 - val_loss: 0.1608\n",
      "Epoch 5/15\n",
      "\u001b[1m219/219\u001b[0m \u001b[32m━━━━━━━━━━━━━━━━━━━━\u001b[0m\u001b[37m\u001b[0m \u001b[1m6s\u001b[0m 28ms/step - accuracy: 0.9497 - loss: 0.1409 - val_accuracy: 0.9149 - val_loss: 0.2241\n",
      "Epoch 6/15\n",
      "\u001b[1m219/219\u001b[0m \u001b[32m━━━━━━━━━━━━━━━━━━━━\u001b[0m\u001b[37m\u001b[0m \u001b[1m6s\u001b[0m 28ms/step - accuracy: 0.9497 - loss: 0.1409 - val_accuracy: 0.9149 - val_loss: 0.2241\n",
      "Epoch 6/15\n",
      "\u001b[1m219/219\u001b[0m \u001b[32m━━━━━━━━━━━━━━━━━━━━\u001b[0m\u001b[37m\u001b[0m \u001b[1m6s\u001b[0m 28ms/step - accuracy: 0.9511 - loss: 0.1440 - val_accuracy: 0.9583 - val_loss: 0.1089\n",
      "Epoch 7/15\n",
      "\u001b[1m219/219\u001b[0m \u001b[32m━━━━━━━━━━━━━━━━━━━━\u001b[0m\u001b[37m\u001b[0m \u001b[1m6s\u001b[0m 28ms/step - accuracy: 0.9511 - loss: 0.1440 - val_accuracy: 0.9583 - val_loss: 0.1089\n",
      "Epoch 7/15\n",
      "\u001b[1m219/219\u001b[0m \u001b[32m━━━━━━━━━━━━━━━━━━━━\u001b[0m\u001b[37m\u001b[0m \u001b[1m5s\u001b[0m 25ms/step - accuracy: 0.9592 - loss: 0.1256 - val_accuracy: 0.9689 - val_loss: 0.0938\n",
      "Epoch 8/15\n",
      "\u001b[1m219/219\u001b[0m \u001b[32m━━━━━━━━━━━━━━━━━━━━\u001b[0m\u001b[37m\u001b[0m \u001b[1m5s\u001b[0m 25ms/step - accuracy: 0.9592 - loss: 0.1256 - val_accuracy: 0.9689 - val_loss: 0.0938\n",
      "Epoch 8/15\n",
      "\u001b[1m219/219\u001b[0m \u001b[32m━━━━━━━━━━━━━━━━━━━━\u001b[0m\u001b[37m\u001b[0m \u001b[1m6s\u001b[0m 26ms/step - accuracy: 0.9614 - loss: 0.1187 - val_accuracy: 0.9657 - val_loss: 0.1008\n",
      "Epoch 9/15\n",
      "\u001b[1m219/219\u001b[0m \u001b[32m━━━━━━━━━━━━━━━━━━━━\u001b[0m\u001b[37m\u001b[0m \u001b[1m6s\u001b[0m 26ms/step - accuracy: 0.9614 - loss: 0.1187 - val_accuracy: 0.9657 - val_loss: 0.1008\n",
      "Epoch 9/15\n",
      "\u001b[1m219/219\u001b[0m \u001b[32m━━━━━━━━━━━━━━━━━━━━\u001b[0m\u001b[37m\u001b[0m \u001b[1m6s\u001b[0m 26ms/step - accuracy: 0.9613 - loss: 0.1099 - val_accuracy: 0.9694 - val_loss: 0.0943\n",
      "Epoch 10/15\n",
      "\u001b[1m219/219\u001b[0m \u001b[32m━━━━━━━━━━━━━━━━━━━━\u001b[0m\u001b[37m\u001b[0m \u001b[1m6s\u001b[0m 26ms/step - accuracy: 0.9613 - loss: 0.1099 - val_accuracy: 0.9694 - val_loss: 0.0943\n",
      "Epoch 10/15\n",
      "\u001b[1m219/219\u001b[0m \u001b[32m━━━━━━━━━━━━━━━━━━━━\u001b[0m\u001b[37m\u001b[0m \u001b[1m6s\u001b[0m 25ms/step - accuracy: 0.9659 - loss: 0.0999 - val_accuracy: 0.9686 - val_loss: 0.0992\n",
      "\u001b[1m219/219\u001b[0m \u001b[32m━━━━━━━━━━━━━━━━━━━━\u001b[0m\u001b[37m\u001b[0m \u001b[1m6s\u001b[0m 25ms/step - accuracy: 0.9659 - loss: 0.0999 - val_accuracy: 0.9686 - val_loss: 0.0992\n",
      "Fold-3 final val-accuracy: 0.9686\n",
      "Fold-3 final val-accuracy: 0.9686\n",
      "\n",
      "──────────  Fold 4/5  ──────────\n",
      "Found 14000 validated image filenames belonging to 2 classes.\n",
      "\n",
      "──────────  Fold 4/5  ──────────\n",
      "Found 14000 validated image filenames belonging to 2 classes.\n",
      "Found 3500 validated image filenames belonging to 2 classes.\n",
      "Found 3500 validated image filenames belonging to 2 classes.\n",
      "Found 4000 images belonging to 1 classes.\n",
      "Found 4000 images belonging to 1 classes.\n",
      "Epoch 1/15\n",
      "Epoch 1/15\n"
     ]
    },
    {
     "name": "stderr",
     "output_type": "stream",
     "text": [
      "/Users/mymac/Library/Python/3.9/lib/python/site-packages/keras/src/layers/convolutional/base_conv.py:107: UserWarning: Do not pass an `input_shape`/`input_dim` argument to a layer. When using Sequential models, prefer using an `Input(shape)` object as the first layer in the model instead.\n",
      "  super().__init__(activity_regularizer=activity_regularizer, **kwargs)\n",
      "/Users/mymac/Library/Python/3.9/lib/python/site-packages/keras/src/trainers/data_adapters/py_dataset_adapter.py:121: UserWarning: Your `PyDataset` class should call `super().__init__(**kwargs)` in its constructor. `**kwargs` can include `workers`, `use_multiprocessing`, `max_queue_size`. Do not pass these arguments to `fit()`, as they will be ignored.\n",
      "  self._warn_if_super_not_called()\n"
     ]
    },
    {
     "name": "stdout",
     "output_type": "stream",
     "text": [
      "\u001b[1m219/219\u001b[0m \u001b[32m━━━━━━━━━━━━━━━━━━━━\u001b[0m\u001b[37m\u001b[0m \u001b[1m6s\u001b[0m 26ms/step - accuracy: 0.8227 - loss: 0.3874 - val_accuracy: 0.9386 - val_loss: 0.1758\n",
      "Epoch 2/15\n",
      "\u001b[1m219/219\u001b[0m \u001b[32m━━━━━━━━━━━━━━━━━━━━\u001b[0m\u001b[37m\u001b[0m \u001b[1m6s\u001b[0m 26ms/step - accuracy: 0.8227 - loss: 0.3874 - val_accuracy: 0.9386 - val_loss: 0.1758\n",
      "Epoch 2/15\n",
      "\u001b[1m219/219\u001b[0m \u001b[32m━━━━━━━━━━━━━━━━━━━━\u001b[0m\u001b[37m\u001b[0m \u001b[1m6s\u001b[0m 26ms/step - accuracy: 0.9344 - loss: 0.1834 - val_accuracy: 0.9540 - val_loss: 0.1273\n",
      "Epoch 3/15\n",
      "\u001b[1m219/219\u001b[0m \u001b[32m━━━━━━━━━━━━━━━━━━━━\u001b[0m\u001b[37m\u001b[0m \u001b[1m6s\u001b[0m 26ms/step - accuracy: 0.9344 - loss: 0.1834 - val_accuracy: 0.9540 - val_loss: 0.1273\n",
      "Epoch 3/15\n",
      "\u001b[1m219/219\u001b[0m \u001b[32m━━━━━━━━━━━━━━━━━━━━\u001b[0m\u001b[37m\u001b[0m \u001b[1m6s\u001b[0m 26ms/step - accuracy: 0.9396 - loss: 0.1574 - val_accuracy: 0.9563 - val_loss: 0.1228\n",
      "Epoch 4/15\n",
      "\u001b[1m219/219\u001b[0m \u001b[32m━━━━━━━━━━━━━━━━━━━━\u001b[0m\u001b[37m\u001b[0m \u001b[1m6s\u001b[0m 26ms/step - accuracy: 0.9396 - loss: 0.1574 - val_accuracy: 0.9563 - val_loss: 0.1228\n",
      "Epoch 4/15\n",
      "\u001b[1m219/219\u001b[0m \u001b[32m━━━━━━━━━━━━━━━━━━━━\u001b[0m\u001b[37m\u001b[0m \u001b[1m6s\u001b[0m 25ms/step - accuracy: 0.9508 - loss: 0.1381 - val_accuracy: 0.9614 - val_loss: 0.0922\n",
      "Epoch 5/15\n",
      "\u001b[1m219/219\u001b[0m \u001b[32m━━━━━━━━━━━━━━━━━━━━\u001b[0m\u001b[37m\u001b[0m \u001b[1m6s\u001b[0m 25ms/step - accuracy: 0.9508 - loss: 0.1381 - val_accuracy: 0.9614 - val_loss: 0.0922\n",
      "Epoch 5/15\n",
      "\u001b[1m219/219\u001b[0m \u001b[32m━━━━━━━━━━━━━━━━━━━━\u001b[0m\u001b[37m\u001b[0m \u001b[1m6s\u001b[0m 26ms/step - accuracy: 0.9501 - loss: 0.1367 - val_accuracy: 0.9549 - val_loss: 0.1211\n",
      "Epoch 6/15\n",
      "\u001b[1m219/219\u001b[0m \u001b[32m━━━━━━━━━━━━━━━━━━━━\u001b[0m\u001b[37m\u001b[0m \u001b[1m6s\u001b[0m 26ms/step - accuracy: 0.9501 - loss: 0.1367 - val_accuracy: 0.9549 - val_loss: 0.1211\n",
      "Epoch 6/15\n",
      "\u001b[1m219/219\u001b[0m \u001b[32m━━━━━━━━━━━━━━━━━━━━\u001b[0m\u001b[37m\u001b[0m \u001b[1m5s\u001b[0m 24ms/step - accuracy: 0.9496 - loss: 0.1387 - val_accuracy: 0.9629 - val_loss: 0.1036\n",
      "Epoch 7/15\n",
      "\u001b[1m219/219\u001b[0m \u001b[32m━━━━━━━━━━━━━━━━━━━━\u001b[0m\u001b[37m\u001b[0m \u001b[1m5s\u001b[0m 24ms/step - accuracy: 0.9496 - loss: 0.1387 - val_accuracy: 0.9629 - val_loss: 0.1036\n",
      "Epoch 7/15\n",
      "\u001b[1m219/219\u001b[0m \u001b[32m━━━━━━━━━━━━━━━━━━━━\u001b[0m\u001b[37m\u001b[0m \u001b[1m6s\u001b[0m 27ms/step - accuracy: 0.9615 - loss: 0.1094 - val_accuracy: 0.9711 - val_loss: 0.0714\n",
      "Epoch 8/15\n",
      "\u001b[1m219/219\u001b[0m \u001b[32m━━━━━━━━━━━━━━━━━━━━\u001b[0m\u001b[37m\u001b[0m \u001b[1m6s\u001b[0m 27ms/step - accuracy: 0.9615 - loss: 0.1094 - val_accuracy: 0.9711 - val_loss: 0.0714\n",
      "Epoch 8/15\n",
      "\u001b[1m219/219\u001b[0m \u001b[32m━━━━━━━━━━━━━━━━━━━━\u001b[0m\u001b[37m\u001b[0m \u001b[1m6s\u001b[0m 27ms/step - accuracy: 0.9596 - loss: 0.1125 - val_accuracy: 0.9714 - val_loss: 0.0744\n",
      "Epoch 9/15\n",
      "\u001b[1m219/219\u001b[0m \u001b[32m━━━━━━━━━━━━━━━━━━━━\u001b[0m\u001b[37m\u001b[0m \u001b[1m6s\u001b[0m 27ms/step - accuracy: 0.9596 - loss: 0.1125 - val_accuracy: 0.9714 - val_loss: 0.0744\n",
      "Epoch 9/15\n",
      "\u001b[1m219/219\u001b[0m \u001b[32m━━━━━━━━━━━━━━━━━━━━\u001b[0m\u001b[37m\u001b[0m \u001b[1m6s\u001b[0m 26ms/step - accuracy: 0.9630 - loss: 0.1037 - val_accuracy: 0.9629 - val_loss: 0.0943\n",
      "Epoch 10/15\n",
      "\u001b[1m219/219\u001b[0m \u001b[32m━━━━━━━━━━━━━━━━━━━━\u001b[0m\u001b[37m\u001b[0m \u001b[1m6s\u001b[0m 26ms/step - accuracy: 0.9630 - loss: 0.1037 - val_accuracy: 0.9629 - val_loss: 0.0943\n",
      "Epoch 10/15\n",
      "\u001b[1m219/219\u001b[0m \u001b[32m━━━━━━━━━━━━━━━━━━━━\u001b[0m\u001b[37m\u001b[0m \u001b[1m6s\u001b[0m 26ms/step - accuracy: 0.9675 - loss: 0.0947 - val_accuracy: 0.9534 - val_loss: 0.1229\n",
      "\u001b[1m219/219\u001b[0m \u001b[32m━━━━━━━━━━━━━━━━━━━━\u001b[0m\u001b[37m\u001b[0m \u001b[1m6s\u001b[0m 26ms/step - accuracy: 0.9675 - loss: 0.0947 - val_accuracy: 0.9534 - val_loss: 0.1229\n",
      "Fold-4 final val-accuracy: 0.9534\n",
      "Fold-4 final val-accuracy: 0.9534\n",
      "\n",
      "──────────  Fold 5/5  ──────────\n",
      "Found 14000 validated image filenames belonging to 2 classes.\n",
      "\n",
      "──────────  Fold 5/5  ──────────\n",
      "Found 14000 validated image filenames belonging to 2 classes.\n",
      "Found 3500 validated image filenames belonging to 2 classes.\n",
      "Found 3500 validated image filenames belonging to 2 classes.\n",
      "Found 4000 images belonging to 1 classes.\n",
      "Found 4000 images belonging to 1 classes.\n",
      "Epoch 1/15\n",
      "Epoch 1/15\n"
     ]
    },
    {
     "name": "stderr",
     "output_type": "stream",
     "text": [
      "/Users/mymac/Library/Python/3.9/lib/python/site-packages/keras/src/layers/convolutional/base_conv.py:107: UserWarning: Do not pass an `input_shape`/`input_dim` argument to a layer. When using Sequential models, prefer using an `Input(shape)` object as the first layer in the model instead.\n",
      "  super().__init__(activity_regularizer=activity_regularizer, **kwargs)\n",
      "/Users/mymac/Library/Python/3.9/lib/python/site-packages/keras/src/trainers/data_adapters/py_dataset_adapter.py:121: UserWarning: Your `PyDataset` class should call `super().__init__(**kwargs)` in its constructor. `**kwargs` can include `workers`, `use_multiprocessing`, `max_queue_size`. Do not pass these arguments to `fit()`, as they will be ignored.\n",
      "  self._warn_if_super_not_called()\n"
     ]
    },
    {
     "name": "stdout",
     "output_type": "stream",
     "text": [
      "\u001b[1m219/219\u001b[0m \u001b[32m━━━━━━━━━━━━━━━━━━━━\u001b[0m\u001b[37m\u001b[0m \u001b[1m6s\u001b[0m 26ms/step - accuracy: 0.8200 - loss: 0.3901 - val_accuracy: 0.8806 - val_loss: 0.3502\n",
      "Epoch 2/15\n",
      "\u001b[1m219/219\u001b[0m \u001b[32m━━━━━━━━━━━━━━━━━━━━\u001b[0m\u001b[37m\u001b[0m \u001b[1m6s\u001b[0m 26ms/step - accuracy: 0.8200 - loss: 0.3901 - val_accuracy: 0.8806 - val_loss: 0.3502\n",
      "Epoch 2/15\n",
      "\u001b[1m219/219\u001b[0m \u001b[32m━━━━━━━━━━━━━━━━━━━━\u001b[0m\u001b[37m\u001b[0m \u001b[1m6s\u001b[0m 26ms/step - accuracy: 0.9279 - loss: 0.2011 - val_accuracy: 0.9177 - val_loss: 0.2089\n",
      "Epoch 3/15\n",
      "\u001b[1m219/219\u001b[0m \u001b[32m━━━━━━━━━━━━━━━━━━━━\u001b[0m\u001b[37m\u001b[0m \u001b[1m6s\u001b[0m 26ms/step - accuracy: 0.9279 - loss: 0.2011 - val_accuracy: 0.9177 - val_loss: 0.2089\n",
      "Epoch 3/15\n",
      "\u001b[1m219/219\u001b[0m \u001b[32m━━━━━━━━━━━━━━━━━━━━\u001b[0m\u001b[37m\u001b[0m \u001b[1m6s\u001b[0m 25ms/step - accuracy: 0.9440 - loss: 0.1590 - val_accuracy: 0.9614 - val_loss: 0.1044\n",
      "Epoch 4/15\n",
      "\u001b[1m219/219\u001b[0m \u001b[32m━━━━━━━━━━━━━━━━━━━━\u001b[0m\u001b[37m\u001b[0m \u001b[1m6s\u001b[0m 25ms/step - accuracy: 0.9440 - loss: 0.1590 - val_accuracy: 0.9614 - val_loss: 0.1044\n",
      "Epoch 4/15\n",
      "\u001b[1m219/219\u001b[0m \u001b[32m━━━━━━━━━━━━━━━━━━━━\u001b[0m\u001b[37m\u001b[0m \u001b[1m5s\u001b[0m 25ms/step - accuracy: 0.9462 - loss: 0.1540 - val_accuracy: 0.9257 - val_loss: 0.1921\n",
      "Epoch 5/15\n",
      "\u001b[1m219/219\u001b[0m \u001b[32m━━━━━━━━━━━━━━━━━━━━\u001b[0m\u001b[37m\u001b[0m \u001b[1m5s\u001b[0m 25ms/step - accuracy: 0.9462 - loss: 0.1540 - val_accuracy: 0.9257 - val_loss: 0.1921\n",
      "Epoch 5/15\n",
      "\u001b[1m219/219\u001b[0m \u001b[32m━━━━━━━━━━━━━━━━━━━━\u001b[0m\u001b[37m\u001b[0m \u001b[1m5s\u001b[0m 24ms/step - accuracy: 0.9579 - loss: 0.1276 - val_accuracy: 0.9280 - val_loss: 0.2255\n",
      "Epoch 6/15\n",
      "\u001b[1m219/219\u001b[0m \u001b[32m━━━━━━━━━━━━━━━━━━━━\u001b[0m\u001b[37m\u001b[0m \u001b[1m5s\u001b[0m 24ms/step - accuracy: 0.9579 - loss: 0.1276 - val_accuracy: 0.9280 - val_loss: 0.2255\n",
      "Epoch 6/15\n",
      "\u001b[1m219/219\u001b[0m \u001b[32m━━━━━━━━━━━━━━━━━━━━\u001b[0m\u001b[37m\u001b[0m \u001b[1m5s\u001b[0m 25ms/step - accuracy: 0.9580 - loss: 0.1253 - val_accuracy: 0.9386 - val_loss: 0.1494\n",
      "\u001b[1m219/219\u001b[0m \u001b[32m━━━━━━━━━━━━━━━━━━━━\u001b[0m\u001b[37m\u001b[0m \u001b[1m5s\u001b[0m 25ms/step - accuracy: 0.9580 - loss: 0.1253 - val_accuracy: 0.9386 - val_loss: 0.1494\n",
      "Fold-5 final val-accuracy: 0.9386\n",
      "Fold-5 final val-accuracy: 0.9386\n"
     ]
    }
   ],
   "source": [
    "skf = StratifiedKFold(n_splits=N_SPLITS, shuffle=True, random_state=SEED)\n",
    "histories = []\n",
    "val_scores = []\n",
    "test_pred_table = []  # Test probabilities per fold\n",
    "\n",
    "for fold, (tr_idx, val_idx) in enumerate(skf.split(train_df['id'], train_df['has_cactus'])):\n",
    "    print(f\"\\n──────────  Fold {fold+1}/{N_SPLITS}  ──────────\")\n",
    "    \n",
    "    # Split the master dataframe\n",
    "    tr_fold_df  = train_df.iloc[tr_idx].reset_index(drop=True)\n",
    "    val_fold_df = train_df.iloc[val_idx].reset_index(drop=True)\n",
    "\n",
    "    # convert target column to string type for binary classification\n",
    "    tr_fold_df['has_cactus'] = tr_fold_df['has_cactus'].astype(str)\n",
    "    val_fold_df['has_cactus'] = val_fold_df['has_cactus'].astype(str)\n",
    "    \n",
    "    # Generators (train gets augmentation, val/test are raw)\n",
    "    tr_datagen  = ImageDataGenerator(rescale=1/255., horizontal_flip=True, rotation_range=15)\n",
    "    val_datagen = ImageDataGenerator(rescale=1/255.)\n",
    "    test_datagen= ImageDataGenerator(rescale=1/255.)\n",
    "\n",
    "    \n",
    "    tr_gen = tr_datagen.flow_from_dataframe(\n",
    "        tr_fold_df, TRAIN_DIR,\n",
    "        x_col='id', y_col='has_cactus',\n",
    "        target_size=IMG_SIZE, batch_size=BATCH_SIZE,\n",
    "        class_mode='binary', shuffle=True, seed=SEED\n",
    "    )\n",
    "    \n",
    "    val_gen = val_datagen.flow_from_dataframe(\n",
    "        val_fold_df, TRAIN_DIR,\n",
    "        x_col='id', y_col='has_cactus',\n",
    "        target_size=IMG_SIZE, batch_size=BATCH_SIZE,\n",
    "        class_mode='binary', shuffle=False\n",
    "    )\n",
    "    \n",
    "    # Test generator (loads all jpg under TEST_DIR)\n",
    "    test_gen = test_datagen.flow_from_directory(\n",
    "        directory = Path(TEST_DIR).parent,\n",
    "        classes   = [Path(TEST_DIR).name],\n",
    "        target_size=IMG_SIZE, batch_size=BATCH_SIZE,\n",
    "        shuffle=False, class_mode=None\n",
    "    )\n",
    "    \n",
    "    # Build & train model\n",
    "    model = build_model()\n",
    "    es = tf.keras.callbacks.EarlyStopping(patience=3, restore_best_weights=True, monitor='val_loss')\n",
    "    \n",
    "    hist = model.fit(\n",
    "        tr_gen,\n",
    "        validation_data=val_gen,\n",
    "        epochs=EPOCHS,\n",
    "        callbacks=[es],\n",
    "        verbose=1\n",
    "    )\n",
    "    \n",
    "    histories.append(hist)\n",
    "    val_acc = hist.history['val_accuracy'][-1]\n",
    "    val_scores.append(val_acc)\n",
    "    print(f\"Fold-{fold+1} final val-accuracy: {val_acc:.4f}\")\n",
    "    \n",
    "    # Infer on test set\n",
    "    test_probs = model.predict(test_gen, verbose=0).ravel()\n",
    "    test_pred_table.append(test_probs)"
   ]
  },
  {
   "cell_type": "code",
   "execution_count": 9,
   "id": "1ae3c0b6",
   "metadata": {},
   "outputs": [
    {
     "name": "stdout",
     "output_type": "stream",
     "text": [
      "\n",
      "CV accuracy per fold: [0.9617 0.9391 0.9686 0.9534 0.9386]\n",
      "Mean ± SD accuracy  : 0.9523 ± 0.0120\n",
      "✔ submission_kfold.csv saved\n"
     ]
    }
   ],
   "source": [
    "print(\"\\nCV accuracy per fold:\", np.round(val_scores, 4))\n",
    "print(f\"Mean ± SD accuracy  : {np.mean(val_scores):.4f} ± {np.std(val_scores):.4f}\")\n",
    "\n",
    "# Ensemble (mean) of probabilities from all folds\n",
    "test_mean_prob = np.mean(np.stack(test_pred_table, axis=0), axis=0)\n",
    "test_labels    = (test_mean_prob > 0.5).astype(int)\n",
    "\n",
    "submission = pd.DataFrame({\n",
    "    \"id\": [Path(p).name for p in sorted(Path(TEST_DIR).glob(\"*.jpg\"))],\n",
    "    \"has_cactus\": test_labels\n",
    "})\n",
    "submission.to_csv(\"submission_kfold.csv\", index=False)\n",
    "print(\"✔ submission_kfold.csv saved\")"
   ]
  },
  {
   "cell_type": "code",
   "execution_count": null,
   "id": "2565100c",
   "metadata": {
    "vscode": {
     "languageId": "r"
    }
   },
   "outputs": [
    {
     "data": {
      "image/png": "[encoded data removed]",
      "text/plain": [
       "<Figure size 640x480 with 1 Axes>"
      ]
     },
     "metadata": {},
     "output_type": "display_data"
    }
   ],
   "source": [
    "import matplotlib.pyplot as plt\n",
    "\n",
    "# Evaluate and visualize performance across the k-folds\n",
    "fold_indices = list(range(1, N_SPLITS+1))  # e.g., [1, 2, 3, 4, 5]\n",
    "\n",
    "plt.figure(figsize=(8,6))\n",
    "plt.bar(fold_indices, val_scores, color='skyblue', edgecolor='black')\n",
    "plt.title(\"Validation Accuracy per Fold\")\n",
    "plt.xlabel(\"Fold\")\n",
    "plt.ylabel(\"Validation Accuracy\")\n",
    "plt.xticks(fold_indices)\n",
    "plt.ylim(0, 1)\n",
    "plt.grid(axis='y', linestyle='--', alpha=0.7)\n",
    "plt.show()\n",
    "\n",
    "# Additionally, visualize training and validation accuracy curves for each fold\n",
    "plt.figure(figsize=(10,8))\n",
    "for i, hist in enumerate(histories):\n",
    "    epochs = range(1, len(hist.history['accuracy']) + 1)\n",
    "    plt.plot(epochs, hist.history['accuracy'], label=f'Train Fold {i+1}')\n",
    "    plt.plot(epochs, hist.history['val_accuracy'], label=f'Validation Fold {i+1}', linestyle='--')\n",
    "plt.title(\"Training and Validation Accuracy per Fold\")\n",
    "plt.xlabel(\"Epochs\")\n",
    "plt.ylabel(\"Accuracy\")\n",
    "plt.legend()\n",
    "plt.grid(True)\n",
    "plt.show()"
   ]
  }
 ],
 "metadata": {
  "kernelspec": {
   "display_name": "Python 3",
   "language": "python",
   "name": "python3"
  },
  "language_info": {
   "codemirror_mode": {
    "name": "ipython",
    "version": 3
   },
   "file_extension": ".py",
   "mimetype": "text/x-python",
   "name": "python",
   "nbconvert_exporter": "python",
   "pygments_lexer": "ipython3",
   "version": "3.9.6"
  }
 },
 "nbformat": 4,
 "nbformat_minor": 5
}
